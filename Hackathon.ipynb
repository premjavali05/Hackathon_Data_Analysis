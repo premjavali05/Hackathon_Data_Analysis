{
 "cells": [
  {
   "cell_type": "markdown",
   "id": "03d103f3",
   "metadata": {},
   "source": [
    "# Hackathon"
   ]
  },
  {
   "cell_type": "markdown",
   "id": "f9cb1118",
   "metadata": {},
   "source": [
    "# EDA Processing"
   ]
  },
  {
   "cell_type": "markdown",
   "id": "0eca4ff2",
   "metadata": {},
   "source": [
    "### importing libraries"
   ]
  },
  {
   "cell_type": "code",
   "execution_count": 1,
   "id": "b65c1156",
   "metadata": {},
   "outputs": [
    {
     "name": "stderr",
     "output_type": "stream",
     "text": [
      "C:\\Users\\omkar\\AppData\\Roaming\\Python\\Python39\\site-packages\\pandas\\core\\computation\\expressions.py:21: UserWarning: Pandas requires version '2.8.4' or newer of 'numexpr' (version '2.8.1' currently installed).\n",
      "  from pandas.core.computation.check import NUMEXPR_INSTALLED\n"
     ]
    }
   ],
   "source": [
    "import pandas as pd\n",
    "import numpy as np"
   ]
  },
  {
   "cell_type": "markdown",
   "id": "664b48cd",
   "metadata": {},
   "source": [
    "### Reading CSV file"
   ]
  },
  {
   "cell_type": "code",
   "execution_count": 2,
   "id": "8bc8ad11",
   "metadata": {},
   "outputs": [],
   "source": [
    "df = pd.read_csv(\"zomato_data.csv\")"
   ]
  },
  {
   "cell_type": "code",
   "execution_count": 3,
   "id": "c7a05658",
   "metadata": {
    "scrolled": true
   },
   "outputs": [
    {
     "data": {
      "text/html": [
       "<div>\n",
       "<style scoped>\n",
       "    .dataframe tbody tr th:only-of-type {\n",
       "        vertical-align: middle;\n",
       "    }\n",
       "\n",
       "    .dataframe tbody tr th {\n",
       "        vertical-align: top;\n",
       "    }\n",
       "\n",
       "    .dataframe thead th {\n",
       "        text-align: right;\n",
       "    }\n",
       "</style>\n",
       "<table border=\"1\" class=\"dataframe\">\n",
       "  <thead>\n",
       "    <tr style=\"text-align: right;\">\n",
       "      <th></th>\n",
       "      <th>online_order</th>\n",
       "      <th>book_table</th>\n",
       "      <th>rate</th>\n",
       "      <th>votes</th>\n",
       "      <th>rest_type</th>\n",
       "      <th>dish_liked</th>\n",
       "      <th>cuisines</th>\n",
       "      <th>approx_costfor_two_people</th>\n",
       "      <th>listed_intype</th>\n",
       "      <th>listed_incity</th>\n",
       "    </tr>\n",
       "  </thead>\n",
       "  <tbody>\n",
       "    <tr>\n",
       "      <th>0</th>\n",
       "      <td>Yes</td>\n",
       "      <td>Yes</td>\n",
       "      <td>4.1/5</td>\n",
       "      <td>775</td>\n",
       "      <td>Casual Dining</td>\n",
       "      <td>Pasta, Lunch Buffet, Masala Papad, Paneer Laja...</td>\n",
       "      <td>North Indian, Mughlai, Chinese</td>\n",
       "      <td>800</td>\n",
       "      <td>Buffet</td>\n",
       "      <td>Banashankari</td>\n",
       "    </tr>\n",
       "    <tr>\n",
       "      <th>1</th>\n",
       "      <td>Yes</td>\n",
       "      <td>No</td>\n",
       "      <td>4.1/5</td>\n",
       "      <td>787</td>\n",
       "      <td>Casual Dining</td>\n",
       "      <td>Momos, Lunch Buffet, Chocolate Nirvana, Thai G...</td>\n",
       "      <td>Chinese, North Indian, Thai</td>\n",
       "      <td>800</td>\n",
       "      <td>Buffet</td>\n",
       "      <td>Banashankari</td>\n",
       "    </tr>\n",
       "    <tr>\n",
       "      <th>2</th>\n",
       "      <td>Yes</td>\n",
       "      <td>No</td>\n",
       "      <td>3.8/5</td>\n",
       "      <td>918</td>\n",
       "      <td>Cafe, Casual Dining</td>\n",
       "      <td>Churros, Cannelloni, Minestrone Soup, Hot Choc...</td>\n",
       "      <td>Cafe, Mexican, Italian</td>\n",
       "      <td>800</td>\n",
       "      <td>Buffet</td>\n",
       "      <td>Banashankari</td>\n",
       "    </tr>\n",
       "    <tr>\n",
       "      <th>3</th>\n",
       "      <td>No</td>\n",
       "      <td>No</td>\n",
       "      <td>3.7/5</td>\n",
       "      <td>88</td>\n",
       "      <td>Quick Bites</td>\n",
       "      <td>Masala Dosa</td>\n",
       "      <td>South Indian, North Indian</td>\n",
       "      <td>300</td>\n",
       "      <td>Buffet</td>\n",
       "      <td>Banashankari</td>\n",
       "    </tr>\n",
       "    <tr>\n",
       "      <th>4</th>\n",
       "      <td>No</td>\n",
       "      <td>No</td>\n",
       "      <td>3.8/5</td>\n",
       "      <td>166</td>\n",
       "      <td>Casual Dining</td>\n",
       "      <td>Panipuri, Gol Gappe</td>\n",
       "      <td>North Indian, Rajasthani</td>\n",
       "      <td>600</td>\n",
       "      <td>Buffet</td>\n",
       "      <td>Banashankari</td>\n",
       "    </tr>\n",
       "  </tbody>\n",
       "</table>\n",
       "</div>"
      ],
      "text/plain": [
       "  online_order book_table   rate  votes            rest_type  \\\n",
       "0          Yes        Yes  4.1/5    775        Casual Dining   \n",
       "1          Yes         No  4.1/5    787        Casual Dining   \n",
       "2          Yes         No  3.8/5    918  Cafe, Casual Dining   \n",
       "3           No         No  3.7/5     88          Quick Bites   \n",
       "4           No         No  3.8/5    166        Casual Dining   \n",
       "\n",
       "                                          dish_liked  \\\n",
       "0  Pasta, Lunch Buffet, Masala Papad, Paneer Laja...   \n",
       "1  Momos, Lunch Buffet, Chocolate Nirvana, Thai G...   \n",
       "2  Churros, Cannelloni, Minestrone Soup, Hot Choc...   \n",
       "3                                        Masala Dosa   \n",
       "4                                Panipuri, Gol Gappe   \n",
       "\n",
       "                         cuisines approx_costfor_two_people listed_intype  \\\n",
       "0  North Indian, Mughlai, Chinese                       800        Buffet   \n",
       "1     Chinese, North Indian, Thai                       800        Buffet   \n",
       "2          Cafe, Mexican, Italian                       800        Buffet   \n",
       "3      South Indian, North Indian                       300        Buffet   \n",
       "4        North Indian, Rajasthani                       600        Buffet   \n",
       "\n",
       "  listed_incity  \n",
       "0  Banashankari  \n",
       "1  Banashankari  \n",
       "2  Banashankari  \n",
       "3  Banashankari  \n",
       "4  Banashankari  "
      ]
     },
     "execution_count": 3,
     "metadata": {},
     "output_type": "execute_result"
    }
   ],
   "source": [
    "df.head() # gives first 5 rows"
   ]
  },
  {
   "cell_type": "code",
   "execution_count": 4,
   "id": "db2163f1",
   "metadata": {},
   "outputs": [
    {
     "data": {
      "text/plain": [
       "(51717, 10)"
      ]
     },
     "execution_count": 4,
     "metadata": {},
     "output_type": "execute_result"
    }
   ],
   "source": [
    "# rows and columns of dataset.. There are 51717 rows and 10 columns\n",
    "df.shape"
   ]
  },
  {
   "cell_type": "code",
   "execution_count": 5,
   "id": "926ec83e",
   "metadata": {},
   "outputs": [
    {
     "name": "stdout",
     "output_type": "stream",
     "text": [
      "<class 'pandas.core.frame.DataFrame'>\n",
      "RangeIndex: 51717 entries, 0 to 51716\n",
      "Data columns (total 10 columns):\n",
      " #   Column                     Non-Null Count  Dtype \n",
      "---  ------                     --------------  ----- \n",
      " 0   online_order               51717 non-null  object\n",
      " 1   book_table                 51717 non-null  object\n",
      " 2   rate                       43942 non-null  object\n",
      " 3   votes                      51717 non-null  int64 \n",
      " 4   rest_type                  51490 non-null  object\n",
      " 5   dish_liked                 23639 non-null  object\n",
      " 6   cuisines                   51672 non-null  object\n",
      " 7   approx_costfor_two_people  51371 non-null  object\n",
      " 8   listed_intype              51717 non-null  object\n",
      " 9   listed_incity              51717 non-null  object\n",
      "dtypes: int64(1), object(9)\n",
      "memory usage: 3.9+ MB\n"
     ]
    }
   ],
   "source": [
    "df.info()"
   ]
  },
  {
   "cell_type": "markdown",
   "id": "092a2b79",
   "metadata": {},
   "source": [
    "### Finding null values"
   ]
  },
  {
   "cell_type": "code",
   "execution_count": 6,
   "id": "a37df394",
   "metadata": {
    "scrolled": true
   },
   "outputs": [
    {
     "data": {
      "text/plain": [
       "online_order                     0\n",
       "book_table                       0\n",
       "rate                          7775\n",
       "votes                            0\n",
       "rest_type                      227\n",
       "dish_liked                   28078\n",
       "cuisines                        45\n",
       "approx_costfor_two_people      346\n",
       "listed_intype                    0\n",
       "listed_incity                    0\n",
       "dtype: int64"
      ]
     },
     "execution_count": 6,
     "metadata": {},
     "output_type": "execute_result"
    }
   ],
   "source": [
    "df.isna().sum()"
   ]
  },
  {
   "cell_type": "markdown",
   "id": "9c2b4658",
   "metadata": {},
   "source": [
    "## Data Cleaning & Preprocessing"
   ]
  },
  {
   "cell_type": "markdown",
   "id": "5639907e",
   "metadata": {},
   "source": [
    "### Step 1: Rating Column (rate)"
   ]
  },
  {
   "cell_type": "code",
   "execution_count": 7,
   "id": "42f7bc3a",
   "metadata": {
    "scrolled": false
   },
   "outputs": [
    {
     "data": {
      "text/html": [
       "<div>\n",
       "<style scoped>\n",
       "    .dataframe tbody tr th:only-of-type {\n",
       "        vertical-align: middle;\n",
       "    }\n",
       "\n",
       "    .dataframe tbody tr th {\n",
       "        vertical-align: top;\n",
       "    }\n",
       "\n",
       "    .dataframe thead th {\n",
       "        text-align: right;\n",
       "    }\n",
       "</style>\n",
       "<table border=\"1\" class=\"dataframe\">\n",
       "  <thead>\n",
       "    <tr style=\"text-align: right;\">\n",
       "      <th></th>\n",
       "      <th>online_order</th>\n",
       "      <th>book_table</th>\n",
       "      <th>rate</th>\n",
       "      <th>votes</th>\n",
       "      <th>rest_type</th>\n",
       "      <th>dish_liked</th>\n",
       "      <th>cuisines</th>\n",
       "      <th>approx_costfor_two_people</th>\n",
       "      <th>listed_intype</th>\n",
       "      <th>listed_incity</th>\n",
       "    </tr>\n",
       "  </thead>\n",
       "  <tbody>\n",
       "    <tr>\n",
       "      <th>3068</th>\n",
       "      <td>No</td>\n",
       "      <td>No</td>\n",
       "      <td>-</td>\n",
       "      <td>0</td>\n",
       "      <td>Quick Bites</td>\n",
       "      <td>NaN</td>\n",
       "      <td>North Indian</td>\n",
       "      <td>400</td>\n",
       "      <td>Delivery</td>\n",
       "      <td>Basavanagudi</td>\n",
       "    </tr>\n",
       "    <tr>\n",
       "      <th>3069</th>\n",
       "      <td>No</td>\n",
       "      <td>No</td>\n",
       "      <td>-</td>\n",
       "      <td>0</td>\n",
       "      <td>Quick Bites</td>\n",
       "      <td>NaN</td>\n",
       "      <td>North Indian, Chinese, South Indian</td>\n",
       "      <td>NaN</td>\n",
       "      <td>Delivery</td>\n",
       "      <td>Basavanagudi</td>\n",
       "    </tr>\n",
       "    <tr>\n",
       "      <th>3373</th>\n",
       "      <td>Yes</td>\n",
       "      <td>No</td>\n",
       "      <td>-</td>\n",
       "      <td>0</td>\n",
       "      <td>Quick Bites</td>\n",
       "      <td>NaN</td>\n",
       "      <td>Pizza</td>\n",
       "      <td>300</td>\n",
       "      <td>Dine-out</td>\n",
       "      <td>Basavanagudi</td>\n",
       "    </tr>\n",
       "    <tr>\n",
       "      <th>3378</th>\n",
       "      <td>Yes</td>\n",
       "      <td>No</td>\n",
       "      <td>-</td>\n",
       "      <td>0</td>\n",
       "      <td>Quick Bites</td>\n",
       "      <td>NaN</td>\n",
       "      <td>Chinese, North Indian</td>\n",
       "      <td>300</td>\n",
       "      <td>Dine-out</td>\n",
       "      <td>Basavanagudi</td>\n",
       "    </tr>\n",
       "    <tr>\n",
       "      <th>3387</th>\n",
       "      <td>No</td>\n",
       "      <td>No</td>\n",
       "      <td>-</td>\n",
       "      <td>0</td>\n",
       "      <td>Quick Bites</td>\n",
       "      <td>NaN</td>\n",
       "      <td>North Indian, Biryani, Fast Food</td>\n",
       "      <td>300</td>\n",
       "      <td>Dine-out</td>\n",
       "      <td>Basavanagudi</td>\n",
       "    </tr>\n",
       "    <tr>\n",
       "      <th>...</th>\n",
       "      <td>...</td>\n",
       "      <td>...</td>\n",
       "      <td>...</td>\n",
       "      <td>...</td>\n",
       "      <td>...</td>\n",
       "      <td>...</td>\n",
       "      <td>...</td>\n",
       "      <td>...</td>\n",
       "      <td>...</td>\n",
       "      <td>...</td>\n",
       "    </tr>\n",
       "    <tr>\n",
       "      <th>33454</th>\n",
       "      <td>No</td>\n",
       "      <td>No</td>\n",
       "      <td>-</td>\n",
       "      <td>0</td>\n",
       "      <td>Quick Bites</td>\n",
       "      <td>NaN</td>\n",
       "      <td>South Indian, North Indian, Chinese</td>\n",
       "      <td>300</td>\n",
       "      <td>Delivery</td>\n",
       "      <td>Koramangala 6th Block</td>\n",
       "    </tr>\n",
       "    <tr>\n",
       "      <th>33463</th>\n",
       "      <td>No</td>\n",
       "      <td>No</td>\n",
       "      <td>-</td>\n",
       "      <td>0</td>\n",
       "      <td>Casual Dining</td>\n",
       "      <td>NaN</td>\n",
       "      <td>North Indian, South Indian, Chinese, Kerala</td>\n",
       "      <td>500</td>\n",
       "      <td>Delivery</td>\n",
       "      <td>Koramangala 6th Block</td>\n",
       "    </tr>\n",
       "    <tr>\n",
       "      <th>45646</th>\n",
       "      <td>Yes</td>\n",
       "      <td>No</td>\n",
       "      <td>-</td>\n",
       "      <td>0</td>\n",
       "      <td>Quick Bites</td>\n",
       "      <td>NaN</td>\n",
       "      <td>South Indian, North Indian, Chinese, Beverages</td>\n",
       "      <td>400</td>\n",
       "      <td>Dine-out</td>\n",
       "      <td>Old Airport Road</td>\n",
       "    </tr>\n",
       "    <tr>\n",
       "      <th>45647</th>\n",
       "      <td>Yes</td>\n",
       "      <td>No</td>\n",
       "      <td>-</td>\n",
       "      <td>0</td>\n",
       "      <td>Beverage Shop</td>\n",
       "      <td>NaN</td>\n",
       "      <td>Beverages</td>\n",
       "      <td>250</td>\n",
       "      <td>Dine-out</td>\n",
       "      <td>Old Airport Road</td>\n",
       "    </tr>\n",
       "    <tr>\n",
       "      <th>48139</th>\n",
       "      <td>No</td>\n",
       "      <td>No</td>\n",
       "      <td>-</td>\n",
       "      <td>0</td>\n",
       "      <td>Cafe</td>\n",
       "      <td>NaN</td>\n",
       "      <td>North Indian, South American, Cafe</td>\n",
       "      <td>200</td>\n",
       "      <td>Dine-out</td>\n",
       "      <td>Residency Road</td>\n",
       "    </tr>\n",
       "  </tbody>\n",
       "</table>\n",
       "<p>69 rows × 10 columns</p>\n",
       "</div>"
      ],
      "text/plain": [
       "      online_order book_table rate  votes      rest_type dish_liked  \\\n",
       "3068            No         No    -      0    Quick Bites        NaN   \n",
       "3069            No         No    -      0    Quick Bites        NaN   \n",
       "3373           Yes         No    -      0    Quick Bites        NaN   \n",
       "3378           Yes         No    -      0    Quick Bites        NaN   \n",
       "3387            No         No    -      0    Quick Bites        NaN   \n",
       "...            ...        ...  ...    ...            ...        ...   \n",
       "33454           No         No    -      0    Quick Bites        NaN   \n",
       "33463           No         No    -      0  Casual Dining        NaN   \n",
       "45646          Yes         No    -      0    Quick Bites        NaN   \n",
       "45647          Yes         No    -      0  Beverage Shop        NaN   \n",
       "48139           No         No    -      0           Cafe        NaN   \n",
       "\n",
       "                                             cuisines  \\\n",
       "3068                                     North Indian   \n",
       "3069              North Indian, Chinese, South Indian   \n",
       "3373                                            Pizza   \n",
       "3378                            Chinese, North Indian   \n",
       "3387                 North Indian, Biryani, Fast Food   \n",
       "...                                               ...   \n",
       "33454             South Indian, North Indian, Chinese   \n",
       "33463     North Indian, South Indian, Chinese, Kerala   \n",
       "45646  South Indian, North Indian, Chinese, Beverages   \n",
       "45647                                       Beverages   \n",
       "48139              North Indian, South American, Cafe   \n",
       "\n",
       "      approx_costfor_two_people listed_intype          listed_incity  \n",
       "3068                        400      Delivery           Basavanagudi  \n",
       "3069                        NaN      Delivery           Basavanagudi  \n",
       "3373                        300      Dine-out           Basavanagudi  \n",
       "3378                        300      Dine-out           Basavanagudi  \n",
       "3387                        300      Dine-out           Basavanagudi  \n",
       "...                         ...           ...                    ...  \n",
       "33454                       300      Delivery  Koramangala 6th Block  \n",
       "33463                       500      Delivery  Koramangala 6th Block  \n",
       "45646                       400      Dine-out       Old Airport Road  \n",
       "45647                       250      Dine-out       Old Airport Road  \n",
       "48139                       200      Dine-out         Residency Road  \n",
       "\n",
       "[69 rows x 10 columns]"
      ]
     },
     "execution_count": 7,
     "metadata": {},
     "output_type": "execute_result"
    }
   ],
   "source": [
    "df[df['rate'] == '-']"
   ]
  },
  {
   "cell_type": "markdown",
   "id": "982e9350",
   "metadata": {},
   "source": [
    "- As there are 69 rows which contain \"-\" in the rate column.\n",
    "- Our first task is to replace the \"-\" with nan value."
   ]
  },
  {
   "cell_type": "code",
   "execution_count": 8,
   "id": "6095fa9c",
   "metadata": {},
   "outputs": [
    {
     "name": "stderr",
     "output_type": "stream",
     "text": [
      "C:\\Users\\omkar\\AppData\\Local\\Temp\\ipykernel_13508\\3081124488.py:1: FutureWarning: A value is trying to be set on a copy of a DataFrame or Series through chained assignment using an inplace method.\n",
      "The behavior will change in pandas 3.0. This inplace method will never work because the intermediate object on which we are setting values always behaves as a copy.\n",
      "\n",
      "For example, when doing 'df[col].method(value, inplace=True)', try using 'df.method({col: value}, inplace=True)' or df[col] = df[col].method(value) instead, to perform the operation inplace on the original object.\n",
      "\n",
      "\n",
      "  df['rate'].replace(\"-\", np.nan, inplace = True)\n"
     ]
    }
   ],
   "source": [
    "df['rate'].replace(\"-\", np.nan, inplace = True)"
   ]
  },
  {
   "cell_type": "code",
   "execution_count": 9,
   "id": "359dde26",
   "metadata": {
    "scrolled": true
   },
   "outputs": [
    {
     "data": {
      "text/html": [
       "<div>\n",
       "<style scoped>\n",
       "    .dataframe tbody tr th:only-of-type {\n",
       "        vertical-align: middle;\n",
       "    }\n",
       "\n",
       "    .dataframe tbody tr th {\n",
       "        vertical-align: top;\n",
       "    }\n",
       "\n",
       "    .dataframe thead th {\n",
       "        text-align: right;\n",
       "    }\n",
       "</style>\n",
       "<table border=\"1\" class=\"dataframe\">\n",
       "  <thead>\n",
       "    <tr style=\"text-align: right;\">\n",
       "      <th></th>\n",
       "      <th>online_order</th>\n",
       "      <th>book_table</th>\n",
       "      <th>rate</th>\n",
       "      <th>votes</th>\n",
       "      <th>rest_type</th>\n",
       "      <th>dish_liked</th>\n",
       "      <th>cuisines</th>\n",
       "      <th>approx_costfor_two_people</th>\n",
       "      <th>listed_intype</th>\n",
       "      <th>listed_incity</th>\n",
       "    </tr>\n",
       "  </thead>\n",
       "  <tbody>\n",
       "  </tbody>\n",
       "</table>\n",
       "</div>"
      ],
      "text/plain": [
       "Empty DataFrame\n",
       "Columns: [online_order, book_table, rate, votes, rest_type, dish_liked, cuisines, approx_costfor_two_people, listed_intype, listed_incity]\n",
       "Index: []"
      ]
     },
     "execution_count": 9,
     "metadata": {},
     "output_type": "execute_result"
    }
   ],
   "source": [
    "df[df['rate'] == '-']"
   ]
  },
  {
   "cell_type": "markdown",
   "id": "a94e1680",
   "metadata": {},
   "source": [
    "- As you can see that now there are no \"-\" values in the rate column."
   ]
  },
  {
   "cell_type": "markdown",
   "id": "529efb69",
   "metadata": {},
   "source": [
    "Next task is to remove /5 from the rate column"
   ]
  },
  {
   "cell_type": "code",
   "execution_count": 10,
   "id": "3bb88fc3",
   "metadata": {},
   "outputs": [
    {
     "data": {
      "text/plain": [
       "0         4.1/5\n",
       "1         4.1/5\n",
       "2         3.8/5\n",
       "3         3.7/5\n",
       "4         3.8/5\n",
       "          ...  \n",
       "51712    3.6 /5\n",
       "51713       NaN\n",
       "51714       NaN\n",
       "51715    4.3 /5\n",
       "51716    3.4 /5\n",
       "Name: rate, Length: 51717, dtype: object"
      ]
     },
     "execution_count": 10,
     "metadata": {},
     "output_type": "execute_result"
    }
   ],
   "source": [
    "df['rate']"
   ]
  },
  {
   "cell_type": "markdown",
   "id": "c36b2ee1",
   "metadata": {},
   "source": [
    "- As we can see that there are some spaces in between. Ex: index no. 51712: 3.6 /5 after 3.6 there is space and then there is /5 so first we will remove that white space"
   ]
  },
  {
   "cell_type": "code",
   "execution_count": 11,
   "id": "e0a55f3d",
   "metadata": {},
   "outputs": [],
   "source": [
    "df['rate'] = df['rate'].str.replace(' ', '', regex=False)"
   ]
  },
  {
   "cell_type": "code",
   "execution_count": 12,
   "id": "e542f2c0",
   "metadata": {},
   "outputs": [
    {
     "data": {
      "text/plain": [
       "0        4.1/5\n",
       "1        4.1/5\n",
       "2        3.8/5\n",
       "3        3.7/5\n",
       "4        3.8/5\n",
       "         ...  \n",
       "51712    3.6/5\n",
       "51713      NaN\n",
       "51714      NaN\n",
       "51715    4.3/5\n",
       "51716    3.4/5\n",
       "Name: rate, Length: 51717, dtype: object"
      ]
     },
     "execution_count": 12,
     "metadata": {},
     "output_type": "execute_result"
    }
   ],
   "source": [
    "df['rate']"
   ]
  },
  {
   "cell_type": "markdown",
   "id": "fcc232c7",
   "metadata": {},
   "source": [
    "- So now we can see that whitespace is removed"
   ]
  },
  {
   "cell_type": "code",
   "execution_count": 13,
   "id": "626ec220",
   "metadata": {},
   "outputs": [],
   "source": [
    "df['rate'] = df['rate'].str.replace('/5', '', regex=False)"
   ]
  },
  {
   "cell_type": "code",
   "execution_count": 14,
   "id": "a2a612c3",
   "metadata": {},
   "outputs": [
    {
     "data": {
      "text/plain": [
       "0        4.1\n",
       "1        4.1\n",
       "2        3.8\n",
       "3        3.7\n",
       "4        3.8\n",
       "        ... \n",
       "51712    3.6\n",
       "51713    NaN\n",
       "51714    NaN\n",
       "51715    4.3\n",
       "51716    3.4\n",
       "Name: rate, Length: 51717, dtype: object"
      ]
     },
     "execution_count": 14,
     "metadata": {},
     "output_type": "execute_result"
    }
   ],
   "source": [
    "df['rate']"
   ]
  },
  {
   "cell_type": "markdown",
   "id": "f29d4864",
   "metadata": {},
   "source": [
    "- removed '/5' from the column rate"
   ]
  },
  {
   "cell_type": "markdown",
   "id": "0c7f71ae",
   "metadata": {},
   "source": [
    "Next is to convert str to numeric"
   ]
  },
  {
   "cell_type": "code",
   "execution_count": 16,
   "id": "de77104e",
   "metadata": {},
   "outputs": [
    {
     "ename": "ValueError",
     "evalue": "could not convert string to float: 'NEW'",
     "output_type": "error",
     "traceback": [
      "\u001b[1;31m---------------------------------------------------------------------------\u001b[0m",
      "\u001b[1;31mValueError\u001b[0m                                Traceback (most recent call last)",
      "Cell \u001b[1;32mIn[16], line 1\u001b[0m\n\u001b[1;32m----> 1\u001b[0m df[\u001b[38;5;124m'\u001b[39m\u001b[38;5;124mrate\u001b[39m\u001b[38;5;124m'\u001b[39m] \u001b[38;5;241m=\u001b[39m \u001b[43mdf\u001b[49m\u001b[43m[\u001b[49m\u001b[38;5;124;43m'\u001b[39;49m\u001b[38;5;124;43mrate\u001b[39;49m\u001b[38;5;124;43m'\u001b[39;49m\u001b[43m]\u001b[49m\u001b[38;5;241;43m.\u001b[39;49m\u001b[43mastype\u001b[49m\u001b[43m(\u001b[49m\u001b[38;5;28;43mfloat\u001b[39;49m\u001b[43m)\u001b[49m\n",
      "File \u001b[1;32m~\\AppData\\Roaming\\Python\\Python39\\site-packages\\pandas\\core\\generic.py:6643\u001b[0m, in \u001b[0;36mNDFrame.astype\u001b[1;34m(self, dtype, copy, errors)\u001b[0m\n\u001b[0;32m   6637\u001b[0m     results \u001b[38;5;241m=\u001b[39m [\n\u001b[0;32m   6638\u001b[0m         ser\u001b[38;5;241m.\u001b[39mastype(dtype, copy\u001b[38;5;241m=\u001b[39mcopy, errors\u001b[38;5;241m=\u001b[39merrors) \u001b[38;5;28;01mfor\u001b[39;00m _, ser \u001b[38;5;129;01min\u001b[39;00m \u001b[38;5;28mself\u001b[39m\u001b[38;5;241m.\u001b[39mitems()\n\u001b[0;32m   6639\u001b[0m     ]\n\u001b[0;32m   6641\u001b[0m \u001b[38;5;28;01melse\u001b[39;00m:\n\u001b[0;32m   6642\u001b[0m     \u001b[38;5;66;03m# else, only a single dtype is given\u001b[39;00m\n\u001b[1;32m-> 6643\u001b[0m     new_data \u001b[38;5;241m=\u001b[39m \u001b[38;5;28;43mself\u001b[39;49m\u001b[38;5;241;43m.\u001b[39;49m\u001b[43m_mgr\u001b[49m\u001b[38;5;241;43m.\u001b[39;49m\u001b[43mastype\u001b[49m\u001b[43m(\u001b[49m\u001b[43mdtype\u001b[49m\u001b[38;5;241;43m=\u001b[39;49m\u001b[43mdtype\u001b[49m\u001b[43m,\u001b[49m\u001b[43m \u001b[49m\u001b[43mcopy\u001b[49m\u001b[38;5;241;43m=\u001b[39;49m\u001b[43mcopy\u001b[49m\u001b[43m,\u001b[49m\u001b[43m \u001b[49m\u001b[43merrors\u001b[49m\u001b[38;5;241;43m=\u001b[39;49m\u001b[43merrors\u001b[49m\u001b[43m)\u001b[49m\n\u001b[0;32m   6644\u001b[0m     res \u001b[38;5;241m=\u001b[39m \u001b[38;5;28mself\u001b[39m\u001b[38;5;241m.\u001b[39m_constructor_from_mgr(new_data, axes\u001b[38;5;241m=\u001b[39mnew_data\u001b[38;5;241m.\u001b[39maxes)\n\u001b[0;32m   6645\u001b[0m     \u001b[38;5;28;01mreturn\u001b[39;00m res\u001b[38;5;241m.\u001b[39m__finalize__(\u001b[38;5;28mself\u001b[39m, method\u001b[38;5;241m=\u001b[39m\u001b[38;5;124m\"\u001b[39m\u001b[38;5;124mastype\u001b[39m\u001b[38;5;124m\"\u001b[39m)\n",
      "File \u001b[1;32m~\\AppData\\Roaming\\Python\\Python39\\site-packages\\pandas\\core\\internals\\managers.py:430\u001b[0m, in \u001b[0;36mBaseBlockManager.astype\u001b[1;34m(self, dtype, copy, errors)\u001b[0m\n\u001b[0;32m    427\u001b[0m \u001b[38;5;28;01melif\u001b[39;00m using_copy_on_write():\n\u001b[0;32m    428\u001b[0m     copy \u001b[38;5;241m=\u001b[39m \u001b[38;5;28;01mFalse\u001b[39;00m\n\u001b[1;32m--> 430\u001b[0m \u001b[38;5;28;01mreturn\u001b[39;00m \u001b[38;5;28;43mself\u001b[39;49m\u001b[38;5;241;43m.\u001b[39;49m\u001b[43mapply\u001b[49m\u001b[43m(\u001b[49m\n\u001b[0;32m    431\u001b[0m \u001b[43m    \u001b[49m\u001b[38;5;124;43m\"\u001b[39;49m\u001b[38;5;124;43mastype\u001b[39;49m\u001b[38;5;124;43m\"\u001b[39;49m\u001b[43m,\u001b[49m\n\u001b[0;32m    432\u001b[0m \u001b[43m    \u001b[49m\u001b[43mdtype\u001b[49m\u001b[38;5;241;43m=\u001b[39;49m\u001b[43mdtype\u001b[49m\u001b[43m,\u001b[49m\n\u001b[0;32m    433\u001b[0m \u001b[43m    \u001b[49m\u001b[43mcopy\u001b[49m\u001b[38;5;241;43m=\u001b[39;49m\u001b[43mcopy\u001b[49m\u001b[43m,\u001b[49m\n\u001b[0;32m    434\u001b[0m \u001b[43m    \u001b[49m\u001b[43merrors\u001b[49m\u001b[38;5;241;43m=\u001b[39;49m\u001b[43merrors\u001b[49m\u001b[43m,\u001b[49m\n\u001b[0;32m    435\u001b[0m \u001b[43m    \u001b[49m\u001b[43musing_cow\u001b[49m\u001b[38;5;241;43m=\u001b[39;49m\u001b[43musing_copy_on_write\u001b[49m\u001b[43m(\u001b[49m\u001b[43m)\u001b[49m\u001b[43m,\u001b[49m\n\u001b[0;32m    436\u001b[0m \u001b[43m\u001b[49m\u001b[43m)\u001b[49m\n",
      "File \u001b[1;32m~\\AppData\\Roaming\\Python\\Python39\\site-packages\\pandas\\core\\internals\\managers.py:363\u001b[0m, in \u001b[0;36mBaseBlockManager.apply\u001b[1;34m(self, f, align_keys, **kwargs)\u001b[0m\n\u001b[0;32m    361\u001b[0m         applied \u001b[38;5;241m=\u001b[39m b\u001b[38;5;241m.\u001b[39mapply(f, \u001b[38;5;241m*\u001b[39m\u001b[38;5;241m*\u001b[39mkwargs)\n\u001b[0;32m    362\u001b[0m     \u001b[38;5;28;01melse\u001b[39;00m:\n\u001b[1;32m--> 363\u001b[0m         applied \u001b[38;5;241m=\u001b[39m \u001b[38;5;28mgetattr\u001b[39m(b, f)(\u001b[38;5;241m*\u001b[39m\u001b[38;5;241m*\u001b[39mkwargs)\n\u001b[0;32m    364\u001b[0m     result_blocks \u001b[38;5;241m=\u001b[39m extend_blocks(applied, result_blocks)\n\u001b[0;32m    366\u001b[0m out \u001b[38;5;241m=\u001b[39m \u001b[38;5;28mtype\u001b[39m(\u001b[38;5;28mself\u001b[39m)\u001b[38;5;241m.\u001b[39mfrom_blocks(result_blocks, \u001b[38;5;28mself\u001b[39m\u001b[38;5;241m.\u001b[39maxes)\n",
      "File \u001b[1;32m~\\AppData\\Roaming\\Python\\Python39\\site-packages\\pandas\\core\\internals\\blocks.py:758\u001b[0m, in \u001b[0;36mBlock.astype\u001b[1;34m(self, dtype, copy, errors, using_cow, squeeze)\u001b[0m\n\u001b[0;32m    755\u001b[0m         \u001b[38;5;28;01mraise\u001b[39;00m \u001b[38;5;167;01mValueError\u001b[39;00m(\u001b[38;5;124m\"\u001b[39m\u001b[38;5;124mCan not squeeze with more than one column.\u001b[39m\u001b[38;5;124m\"\u001b[39m)\n\u001b[0;32m    756\u001b[0m     values \u001b[38;5;241m=\u001b[39m values[\u001b[38;5;241m0\u001b[39m, :]  \u001b[38;5;66;03m# type: ignore[call-overload]\u001b[39;00m\n\u001b[1;32m--> 758\u001b[0m new_values \u001b[38;5;241m=\u001b[39m \u001b[43mastype_array_safe\u001b[49m\u001b[43m(\u001b[49m\u001b[43mvalues\u001b[49m\u001b[43m,\u001b[49m\u001b[43m \u001b[49m\u001b[43mdtype\u001b[49m\u001b[43m,\u001b[49m\u001b[43m \u001b[49m\u001b[43mcopy\u001b[49m\u001b[38;5;241;43m=\u001b[39;49m\u001b[43mcopy\u001b[49m\u001b[43m,\u001b[49m\u001b[43m \u001b[49m\u001b[43merrors\u001b[49m\u001b[38;5;241;43m=\u001b[39;49m\u001b[43merrors\u001b[49m\u001b[43m)\u001b[49m\n\u001b[0;32m    760\u001b[0m new_values \u001b[38;5;241m=\u001b[39m maybe_coerce_values(new_values)\n\u001b[0;32m    762\u001b[0m refs \u001b[38;5;241m=\u001b[39m \u001b[38;5;28;01mNone\u001b[39;00m\n",
      "File \u001b[1;32m~\\AppData\\Roaming\\Python\\Python39\\site-packages\\pandas\\core\\dtypes\\astype.py:237\u001b[0m, in \u001b[0;36mastype_array_safe\u001b[1;34m(values, dtype, copy, errors)\u001b[0m\n\u001b[0;32m    234\u001b[0m     dtype \u001b[38;5;241m=\u001b[39m dtype\u001b[38;5;241m.\u001b[39mnumpy_dtype\n\u001b[0;32m    236\u001b[0m \u001b[38;5;28;01mtry\u001b[39;00m:\n\u001b[1;32m--> 237\u001b[0m     new_values \u001b[38;5;241m=\u001b[39m \u001b[43mastype_array\u001b[49m\u001b[43m(\u001b[49m\u001b[43mvalues\u001b[49m\u001b[43m,\u001b[49m\u001b[43m \u001b[49m\u001b[43mdtype\u001b[49m\u001b[43m,\u001b[49m\u001b[43m \u001b[49m\u001b[43mcopy\u001b[49m\u001b[38;5;241;43m=\u001b[39;49m\u001b[43mcopy\u001b[49m\u001b[43m)\u001b[49m\n\u001b[0;32m    238\u001b[0m \u001b[38;5;28;01mexcept\u001b[39;00m (\u001b[38;5;167;01mValueError\u001b[39;00m, \u001b[38;5;167;01mTypeError\u001b[39;00m):\n\u001b[0;32m    239\u001b[0m     \u001b[38;5;66;03m# e.g. _astype_nansafe can fail on object-dtype of strings\u001b[39;00m\n\u001b[0;32m    240\u001b[0m     \u001b[38;5;66;03m#  trying to convert to float\u001b[39;00m\n\u001b[0;32m    241\u001b[0m     \u001b[38;5;28;01mif\u001b[39;00m errors \u001b[38;5;241m==\u001b[39m \u001b[38;5;124m\"\u001b[39m\u001b[38;5;124mignore\u001b[39m\u001b[38;5;124m\"\u001b[39m:\n",
      "File \u001b[1;32m~\\AppData\\Roaming\\Python\\Python39\\site-packages\\pandas\\core\\dtypes\\astype.py:182\u001b[0m, in \u001b[0;36mastype_array\u001b[1;34m(values, dtype, copy)\u001b[0m\n\u001b[0;32m    179\u001b[0m     values \u001b[38;5;241m=\u001b[39m values\u001b[38;5;241m.\u001b[39mastype(dtype, copy\u001b[38;5;241m=\u001b[39mcopy)\n\u001b[0;32m    181\u001b[0m \u001b[38;5;28;01melse\u001b[39;00m:\n\u001b[1;32m--> 182\u001b[0m     values \u001b[38;5;241m=\u001b[39m \u001b[43m_astype_nansafe\u001b[49m\u001b[43m(\u001b[49m\u001b[43mvalues\u001b[49m\u001b[43m,\u001b[49m\u001b[43m \u001b[49m\u001b[43mdtype\u001b[49m\u001b[43m,\u001b[49m\u001b[43m \u001b[49m\u001b[43mcopy\u001b[49m\u001b[38;5;241;43m=\u001b[39;49m\u001b[43mcopy\u001b[49m\u001b[43m)\u001b[49m\n\u001b[0;32m    184\u001b[0m \u001b[38;5;66;03m# in pandas we don't store numpy str dtypes, so convert to object\u001b[39;00m\n\u001b[0;32m    185\u001b[0m \u001b[38;5;28;01mif\u001b[39;00m \u001b[38;5;28misinstance\u001b[39m(dtype, np\u001b[38;5;241m.\u001b[39mdtype) \u001b[38;5;129;01mand\u001b[39;00m \u001b[38;5;28missubclass\u001b[39m(values\u001b[38;5;241m.\u001b[39mdtype\u001b[38;5;241m.\u001b[39mtype, \u001b[38;5;28mstr\u001b[39m):\n",
      "File \u001b[1;32m~\\AppData\\Roaming\\Python\\Python39\\site-packages\\pandas\\core\\dtypes\\astype.py:133\u001b[0m, in \u001b[0;36m_astype_nansafe\u001b[1;34m(arr, dtype, copy, skipna)\u001b[0m\n\u001b[0;32m    129\u001b[0m     \u001b[38;5;28;01mraise\u001b[39;00m \u001b[38;5;167;01mValueError\u001b[39;00m(msg)\n\u001b[0;32m    131\u001b[0m \u001b[38;5;28;01mif\u001b[39;00m copy \u001b[38;5;129;01mor\u001b[39;00m arr\u001b[38;5;241m.\u001b[39mdtype \u001b[38;5;241m==\u001b[39m \u001b[38;5;28mobject\u001b[39m \u001b[38;5;129;01mor\u001b[39;00m dtype \u001b[38;5;241m==\u001b[39m \u001b[38;5;28mobject\u001b[39m:\n\u001b[0;32m    132\u001b[0m     \u001b[38;5;66;03m# Explicit copy, or required since NumPy can't view from / to object.\u001b[39;00m\n\u001b[1;32m--> 133\u001b[0m     \u001b[38;5;28;01mreturn\u001b[39;00m \u001b[43marr\u001b[49m\u001b[38;5;241;43m.\u001b[39;49m\u001b[43mastype\u001b[49m\u001b[43m(\u001b[49m\u001b[43mdtype\u001b[49m\u001b[43m,\u001b[49m\u001b[43m \u001b[49m\u001b[43mcopy\u001b[49m\u001b[38;5;241;43m=\u001b[39;49m\u001b[38;5;28;43;01mTrue\u001b[39;49;00m\u001b[43m)\u001b[49m\n\u001b[0;32m    135\u001b[0m \u001b[38;5;28;01mreturn\u001b[39;00m arr\u001b[38;5;241m.\u001b[39mastype(dtype, copy\u001b[38;5;241m=\u001b[39mcopy)\n",
      "\u001b[1;31mValueError\u001b[0m: could not convert string to float: 'NEW'"
     ]
    }
   ],
   "source": [
    "df['rate'] = df['rate'].astype(float)"
   ]
  },
  {
   "cell_type": "code",
   "execution_count": 17,
   "id": "b46b9253",
   "metadata": {},
   "outputs": [
    {
     "data": {
      "text/html": [
       "<div>\n",
       "<style scoped>\n",
       "    .dataframe tbody tr th:only-of-type {\n",
       "        vertical-align: middle;\n",
       "    }\n",
       "\n",
       "    .dataframe tbody tr th {\n",
       "        vertical-align: top;\n",
       "    }\n",
       "\n",
       "    .dataframe thead th {\n",
       "        text-align: right;\n",
       "    }\n",
       "</style>\n",
       "<table border=\"1\" class=\"dataframe\">\n",
       "  <thead>\n",
       "    <tr style=\"text-align: right;\">\n",
       "      <th></th>\n",
       "      <th>online_order</th>\n",
       "      <th>book_table</th>\n",
       "      <th>rate</th>\n",
       "      <th>votes</th>\n",
       "      <th>rest_type</th>\n",
       "      <th>dish_liked</th>\n",
       "      <th>cuisines</th>\n",
       "      <th>approx_costfor_two_people</th>\n",
       "      <th>listed_intype</th>\n",
       "      <th>listed_incity</th>\n",
       "    </tr>\n",
       "  </thead>\n",
       "  <tbody>\n",
       "    <tr>\n",
       "      <th>72</th>\n",
       "      <td>No</td>\n",
       "      <td>No</td>\n",
       "      <td>NEW</td>\n",
       "      <td>0</td>\n",
       "      <td>Quick Bites</td>\n",
       "      <td>NaN</td>\n",
       "      <td>North Indian</td>\n",
       "      <td>150</td>\n",
       "      <td>Delivery</td>\n",
       "      <td>Banashankari</td>\n",
       "    </tr>\n",
       "    <tr>\n",
       "      <th>75</th>\n",
       "      <td>No</td>\n",
       "      <td>No</td>\n",
       "      <td>NEW</td>\n",
       "      <td>0</td>\n",
       "      <td>Takeaway, Delivery</td>\n",
       "      <td>NaN</td>\n",
       "      <td>Street Food, Fast Food</td>\n",
       "      <td>500</td>\n",
       "      <td>Delivery</td>\n",
       "      <td>Banashankari</td>\n",
       "    </tr>\n",
       "    <tr>\n",
       "      <th>110</th>\n",
       "      <td>No</td>\n",
       "      <td>No</td>\n",
       "      <td>NEW</td>\n",
       "      <td>0</td>\n",
       "      <td>Takeaway, Delivery</td>\n",
       "      <td>NaN</td>\n",
       "      <td>Sandwich, Pizza, Beverages</td>\n",
       "      <td>200</td>\n",
       "      <td>Delivery</td>\n",
       "      <td>Banashankari</td>\n",
       "    </tr>\n",
       "    <tr>\n",
       "      <th>130</th>\n",
       "      <td>No</td>\n",
       "      <td>No</td>\n",
       "      <td>NEW</td>\n",
       "      <td>0</td>\n",
       "      <td>Takeaway, Delivery</td>\n",
       "      <td>NaN</td>\n",
       "      <td>Biryani, Rolls, Chinese</td>\n",
       "      <td>200</td>\n",
       "      <td>Delivery</td>\n",
       "      <td>Banashankari</td>\n",
       "    </tr>\n",
       "    <tr>\n",
       "      <th>131</th>\n",
       "      <td>No</td>\n",
       "      <td>No</td>\n",
       "      <td>NEW</td>\n",
       "      <td>0</td>\n",
       "      <td>Quick Bites</td>\n",
       "      <td>NaN</td>\n",
       "      <td>North Indian</td>\n",
       "      <td>100</td>\n",
       "      <td>Delivery</td>\n",
       "      <td>Banashankari</td>\n",
       "    </tr>\n",
       "    <tr>\n",
       "      <th>...</th>\n",
       "      <td>...</td>\n",
       "      <td>...</td>\n",
       "      <td>...</td>\n",
       "      <td>...</td>\n",
       "      <td>...</td>\n",
       "      <td>...</td>\n",
       "      <td>...</td>\n",
       "      <td>...</td>\n",
       "      <td>...</td>\n",
       "      <td>...</td>\n",
       "    </tr>\n",
       "    <tr>\n",
       "      <th>51585</th>\n",
       "      <td>No</td>\n",
       "      <td>No</td>\n",
       "      <td>NEW</td>\n",
       "      <td>0</td>\n",
       "      <td>Quick Bites</td>\n",
       "      <td>NaN</td>\n",
       "      <td>North Indian</td>\n",
       "      <td>200</td>\n",
       "      <td>Dine-out</td>\n",
       "      <td>Whitefield</td>\n",
       "    </tr>\n",
       "    <tr>\n",
       "      <th>51586</th>\n",
       "      <td>Yes</td>\n",
       "      <td>No</td>\n",
       "      <td>NEW</td>\n",
       "      <td>0</td>\n",
       "      <td>Quick Bites</td>\n",
       "      <td>NaN</td>\n",
       "      <td>Chinese</td>\n",
       "      <td>200</td>\n",
       "      <td>Dine-out</td>\n",
       "      <td>Whitefield</td>\n",
       "    </tr>\n",
       "    <tr>\n",
       "      <th>51603</th>\n",
       "      <td>Yes</td>\n",
       "      <td>No</td>\n",
       "      <td>NEW</td>\n",
       "      <td>0</td>\n",
       "      <td>Quick Bites, Food Court</td>\n",
       "      <td>NaN</td>\n",
       "      <td>South Indian, Chinese, North Indian</td>\n",
       "      <td>250</td>\n",
       "      <td>Dine-out</td>\n",
       "      <td>Whitefield</td>\n",
       "    </tr>\n",
       "    <tr>\n",
       "      <th>51604</th>\n",
       "      <td>No</td>\n",
       "      <td>No</td>\n",
       "      <td>NEW</td>\n",
       "      <td>0</td>\n",
       "      <td>Takeaway, Delivery</td>\n",
       "      <td>NaN</td>\n",
       "      <td>Biryani, Mughlai</td>\n",
       "      <td>400</td>\n",
       "      <td>Dine-out</td>\n",
       "      <td>Whitefield</td>\n",
       "    </tr>\n",
       "    <tr>\n",
       "      <th>51605</th>\n",
       "      <td>No</td>\n",
       "      <td>No</td>\n",
       "      <td>NEW</td>\n",
       "      <td>0</td>\n",
       "      <td>Quick Bites</td>\n",
       "      <td>NaN</td>\n",
       "      <td>Chinese, North Indian</td>\n",
       "      <td>300</td>\n",
       "      <td>Dine-out</td>\n",
       "      <td>Whitefield</td>\n",
       "    </tr>\n",
       "  </tbody>\n",
       "</table>\n",
       "<p>2208 rows × 10 columns</p>\n",
       "</div>"
      ],
      "text/plain": [
       "      online_order book_table rate  votes                rest_type dish_liked  \\\n",
       "72              No         No  NEW      0              Quick Bites        NaN   \n",
       "75              No         No  NEW      0       Takeaway, Delivery        NaN   \n",
       "110             No         No  NEW      0       Takeaway, Delivery        NaN   \n",
       "130             No         No  NEW      0       Takeaway, Delivery        NaN   \n",
       "131             No         No  NEW      0              Quick Bites        NaN   \n",
       "...            ...        ...  ...    ...                      ...        ...   \n",
       "51585           No         No  NEW      0              Quick Bites        NaN   \n",
       "51586          Yes         No  NEW      0              Quick Bites        NaN   \n",
       "51603          Yes         No  NEW      0  Quick Bites, Food Court        NaN   \n",
       "51604           No         No  NEW      0       Takeaway, Delivery        NaN   \n",
       "51605           No         No  NEW      0              Quick Bites        NaN   \n",
       "\n",
       "                                  cuisines approx_costfor_two_people  \\\n",
       "72                            North Indian                       150   \n",
       "75                  Street Food, Fast Food                       500   \n",
       "110             Sandwich, Pizza, Beverages                       200   \n",
       "130                Biryani, Rolls, Chinese                       200   \n",
       "131                           North Indian                       100   \n",
       "...                                    ...                       ...   \n",
       "51585                         North Indian                       200   \n",
       "51586                              Chinese                       200   \n",
       "51603  South Indian, Chinese, North Indian                       250   \n",
       "51604                     Biryani, Mughlai                       400   \n",
       "51605                Chinese, North Indian                       300   \n",
       "\n",
       "      listed_intype listed_incity  \n",
       "72         Delivery  Banashankari  \n",
       "75         Delivery  Banashankari  \n",
       "110        Delivery  Banashankari  \n",
       "130        Delivery  Banashankari  \n",
       "131        Delivery  Banashankari  \n",
       "...             ...           ...  \n",
       "51585      Dine-out    Whitefield  \n",
       "51586      Dine-out    Whitefield  \n",
       "51603      Dine-out    Whitefield  \n",
       "51604      Dine-out    Whitefield  \n",
       "51605      Dine-out    Whitefield  \n",
       "\n",
       "[2208 rows x 10 columns]"
      ]
     },
     "execution_count": 17,
     "metadata": {},
     "output_type": "execute_result"
    }
   ],
   "source": [
    "df[df['rate'] == 'NEW']"
   ]
  },
  {
   "cell_type": "code",
   "execution_count": 18,
   "id": "981cdb9a",
   "metadata": {},
   "outputs": [],
   "source": [
    "df['rate'] = df['rate'].replace('NEW', np.nan)"
   ]
  },
  {
   "cell_type": "code",
   "execution_count": 19,
   "id": "4148872a",
   "metadata": {},
   "outputs": [
    {
     "data": {
      "text/html": [
       "<div>\n",
       "<style scoped>\n",
       "    .dataframe tbody tr th:only-of-type {\n",
       "        vertical-align: middle;\n",
       "    }\n",
       "\n",
       "    .dataframe tbody tr th {\n",
       "        vertical-align: top;\n",
       "    }\n",
       "\n",
       "    .dataframe thead th {\n",
       "        text-align: right;\n",
       "    }\n",
       "</style>\n",
       "<table border=\"1\" class=\"dataframe\">\n",
       "  <thead>\n",
       "    <tr style=\"text-align: right;\">\n",
       "      <th></th>\n",
       "      <th>online_order</th>\n",
       "      <th>book_table</th>\n",
       "      <th>rate</th>\n",
       "      <th>votes</th>\n",
       "      <th>rest_type</th>\n",
       "      <th>dish_liked</th>\n",
       "      <th>cuisines</th>\n",
       "      <th>approx_costfor_two_people</th>\n",
       "      <th>listed_intype</th>\n",
       "      <th>listed_incity</th>\n",
       "    </tr>\n",
       "  </thead>\n",
       "  <tbody>\n",
       "  </tbody>\n",
       "</table>\n",
       "</div>"
      ],
      "text/plain": [
       "Empty DataFrame\n",
       "Columns: [online_order, book_table, rate, votes, rest_type, dish_liked, cuisines, approx_costfor_two_people, listed_intype, listed_incity]\n",
       "Index: []"
      ]
     },
     "execution_count": 19,
     "metadata": {},
     "output_type": "execute_result"
    }
   ],
   "source": [
    "df[df['rate'] == 'NEW']"
   ]
  },
  {
   "cell_type": "code",
   "execution_count": 20,
   "id": "85fb9921",
   "metadata": {},
   "outputs": [],
   "source": [
    "df['rate'] = df['rate'].astype(float)"
   ]
  },
  {
   "cell_type": "code",
   "execution_count": 21,
   "id": "52bf4cde",
   "metadata": {},
   "outputs": [
    {
     "data": {
      "text/plain": [
       "dtype('float64')"
      ]
     },
     "execution_count": 21,
     "metadata": {},
     "output_type": "execute_result"
    }
   ],
   "source": [
    "df['rate'].dtype"
   ]
  },
  {
   "cell_type": "markdown",
   "id": "62cfbcee",
   "metadata": {},
   "source": [
    "- converted str to float"
   ]
  },
  {
   "cell_type": "markdown",
   "id": "859ad740",
   "metadata": {},
   "source": [
    "Next is to replace NaN value with median of rate..."
   ]
  },
  {
   "cell_type": "code",
   "execution_count": 22,
   "id": "81ea1682",
   "metadata": {
    "scrolled": true
   },
   "outputs": [
    {
     "name": "stderr",
     "output_type": "stream",
     "text": [
      "C:\\Users\\omkar\\AppData\\Local\\Temp\\ipykernel_13508\\1603575254.py:1: FutureWarning: A value is trying to be set on a copy of a DataFrame or Series through chained assignment using an inplace method.\n",
      "The behavior will change in pandas 3.0. This inplace method will never work because the intermediate object on which we are setting values always behaves as a copy.\n",
      "\n",
      "For example, when doing 'df[col].method(value, inplace=True)', try using 'df.method({col: value}, inplace=True)' or df[col] = df[col].method(value) instead, to perform the operation inplace on the original object.\n",
      "\n",
      "\n",
      "  df['rate'].fillna(df['rate'].median(), inplace = True)\n"
     ]
    }
   ],
   "source": [
    "df['rate'].fillna(df['rate'].median(), inplace = True)"
   ]
  },
  {
   "cell_type": "code",
   "execution_count": 23,
   "id": "5c1be56e",
   "metadata": {},
   "outputs": [
    {
     "data": {
      "text/plain": [
       "0"
      ]
     },
     "execution_count": 23,
     "metadata": {},
     "output_type": "execute_result"
    }
   ],
   "source": [
    "df['rate'].isna().sum()"
   ]
  },
  {
   "cell_type": "markdown",
   "id": "874fd06a",
   "metadata": {},
   "source": [
    "- As you can see there are no NaN values present now..."
   ]
  },
  {
   "cell_type": "markdown",
   "id": "891f48b4",
   "metadata": {},
   "source": [
    "### Step 2: Cost Column (approx_costfor_two_people)"
   ]
  },
  {
   "cell_type": "markdown",
   "id": "a5c974b1",
   "metadata": {},
   "source": [
    "First task is to remove ',' from the string"
   ]
  },
  {
   "cell_type": "code",
   "execution_count": 24,
   "id": "7a485e39",
   "metadata": {},
   "outputs": [
    {
     "data": {
      "text/plain": [
       "0          800\n",
       "1          800\n",
       "2          800\n",
       "3          300\n",
       "4          600\n",
       "         ...  \n",
       "51712    1,500\n",
       "51713      600\n",
       "51714    2,000\n",
       "51715    2,500\n",
       "51716    1,500\n",
       "Name: approx_costfor_two_people, Length: 51717, dtype: object"
      ]
     },
     "execution_count": 24,
     "metadata": {},
     "output_type": "execute_result"
    }
   ],
   "source": [
    "df['approx_costfor_two_people']"
   ]
  },
  {
   "cell_type": "code",
   "execution_count": 25,
   "id": "15090fdc",
   "metadata": {},
   "outputs": [
    {
     "data": {
      "text/plain": [
       "0         800\n",
       "1         800\n",
       "2         800\n",
       "3         300\n",
       "4         600\n",
       "         ... \n",
       "51712    1500\n",
       "51713     600\n",
       "51714    2000\n",
       "51715    2500\n",
       "51716    1500\n",
       "Name: approx_costfor_two_people, Length: 51717, dtype: object"
      ]
     },
     "execution_count": 25,
     "metadata": {},
     "output_type": "execute_result"
    }
   ],
   "source": [
    "df['approx_costfor_two_people'].str.replace(',', '')"
   ]
  },
  {
   "cell_type": "markdown",
   "id": "9ba85584",
   "metadata": {},
   "source": [
    "- As you can see the 1,500 was replaced by 1500"
   ]
  },
  {
   "cell_type": "code",
   "execution_count": 26,
   "id": "47f3a8fa",
   "metadata": {},
   "outputs": [],
   "source": [
    "df['approx_costfor_two_people'] = df['approx_costfor_two_people'].str.replace(',', '')"
   ]
  },
  {
   "cell_type": "code",
   "execution_count": 27,
   "id": "81856879",
   "metadata": {},
   "outputs": [
    {
     "data": {
      "text/plain": [
       "0         800\n",
       "1         800\n",
       "2         800\n",
       "3         300\n",
       "4         600\n",
       "         ... \n",
       "51712    1500\n",
       "51713     600\n",
       "51714    2000\n",
       "51715    2500\n",
       "51716    1500\n",
       "Name: approx_costfor_two_people, Length: 51717, dtype: object"
      ]
     },
     "execution_count": 27,
     "metadata": {},
     "output_type": "execute_result"
    }
   ],
   "source": [
    "df['approx_costfor_two_people']"
   ]
  },
  {
   "cell_type": "markdown",
   "id": "139ffe8d",
   "metadata": {},
   "source": [
    "Second Task is to convert to numeric"
   ]
  },
  {
   "cell_type": "code",
   "execution_count": 28,
   "id": "79a36b40",
   "metadata": {
    "scrolled": true
   },
   "outputs": [
    {
     "data": {
      "text/plain": [
       "0         800.0\n",
       "1         800.0\n",
       "2         800.0\n",
       "3         300.0\n",
       "4         600.0\n",
       "          ...  \n",
       "51712    1500.0\n",
       "51713     600.0\n",
       "51714    2000.0\n",
       "51715    2500.0\n",
       "51716    1500.0\n",
       "Name: approx_costfor_two_people, Length: 51717, dtype: float64"
      ]
     },
     "execution_count": 28,
     "metadata": {},
     "output_type": "execute_result"
    }
   ],
   "source": [
    "df['approx_costfor_two_people'].astype(float)"
   ]
  },
  {
   "cell_type": "code",
   "execution_count": 29,
   "id": "3f728f36",
   "metadata": {},
   "outputs": [],
   "source": [
    "df['approx_costfor_two_people'] = df['approx_costfor_two_people'].astype(float)"
   ]
  },
  {
   "cell_type": "code",
   "execution_count": 30,
   "id": "c8554f93",
   "metadata": {},
   "outputs": [
    {
     "data": {
      "text/plain": [
       "dtype('float64')"
      ]
     },
     "execution_count": 30,
     "metadata": {},
     "output_type": "execute_result"
    }
   ],
   "source": [
    "df['approx_costfor_two_people'].dtype"
   ]
  },
  {
   "cell_type": "markdown",
   "id": "e693285b",
   "metadata": {},
   "source": [
    "Third Task is to fill the missing value with median"
   ]
  },
  {
   "cell_type": "code",
   "execution_count": 31,
   "id": "f55a8b20",
   "metadata": {},
   "outputs": [
    {
     "data": {
      "text/plain": [
       "346"
      ]
     },
     "execution_count": 31,
     "metadata": {},
     "output_type": "execute_result"
    }
   ],
   "source": [
    "df['approx_costfor_two_people'].isna().sum()"
   ]
  },
  {
   "cell_type": "markdown",
   "id": "19fae6de",
   "metadata": {},
   "source": [
    "- There are 346 missing values present so let's replace it with medium value"
   ]
  },
  {
   "cell_type": "code",
   "execution_count": 32,
   "id": "57ea357f",
   "metadata": {},
   "outputs": [
    {
     "data": {
      "text/plain": [
       "0         800.0\n",
       "1         800.0\n",
       "2         800.0\n",
       "3         300.0\n",
       "4         600.0\n",
       "          ...  \n",
       "51712    1500.0\n",
       "51713     600.0\n",
       "51714    2000.0\n",
       "51715    2500.0\n",
       "51716    1500.0\n",
       "Name: approx_costfor_two_people, Length: 51717, dtype: float64"
      ]
     },
     "execution_count": 32,
     "metadata": {},
     "output_type": "execute_result"
    }
   ],
   "source": [
    "df['approx_costfor_two_people'].fillna(df['approx_costfor_two_people'].median())"
   ]
  },
  {
   "cell_type": "code",
   "execution_count": 33,
   "id": "c6ab42da",
   "metadata": {},
   "outputs": [
    {
     "name": "stderr",
     "output_type": "stream",
     "text": [
      "C:\\Users\\omkar\\AppData\\Local\\Temp\\ipykernel_13508\\4256619193.py:1: FutureWarning: A value is trying to be set on a copy of a DataFrame or Series through chained assignment using an inplace method.\n",
      "The behavior will change in pandas 3.0. This inplace method will never work because the intermediate object on which we are setting values always behaves as a copy.\n",
      "\n",
      "For example, when doing 'df[col].method(value, inplace=True)', try using 'df.method({col: value}, inplace=True)' or df[col] = df[col].method(value) instead, to perform the operation inplace on the original object.\n",
      "\n",
      "\n",
      "  df['approx_costfor_two_people'].fillna(df['approx_costfor_two_people'].median(), inplace = True)\n"
     ]
    }
   ],
   "source": [
    "df['approx_costfor_two_people'].fillna(df['approx_costfor_two_people'].median(), inplace = True)"
   ]
  },
  {
   "cell_type": "code",
   "execution_count": 34,
   "id": "cc25cdce",
   "metadata": {},
   "outputs": [
    {
     "data": {
      "text/plain": [
       "0"
      ]
     },
     "execution_count": 34,
     "metadata": {},
     "output_type": "execute_result"
    }
   ],
   "source": [
    "df['approx_costfor_two_people'].isna().sum()"
   ]
  },
  {
   "cell_type": "markdown",
   "id": "bbba3ea9",
   "metadata": {},
   "source": [
    "- Now we replace the NaN values with Median cost value"
   ]
  },
  {
   "cell_type": "markdown",
   "id": "7c56d533",
   "metadata": {},
   "source": [
    "### Step 3: Categorical Columns "
   ]
  },
  {
   "cell_type": "markdown",
   "id": "cb3e3c84",
   "metadata": {},
   "source": [
    "#### Dish_liked column"
   ]
  },
  {
   "cell_type": "code",
   "execution_count": 35,
   "id": "9d3c553a",
   "metadata": {
    "scrolled": true
   },
   "outputs": [
    {
     "data": {
      "text/plain": [
       "0        Pasta, Lunch Buffet, Masala Papad, Paneer Laja...\n",
       "1        Momos, Lunch Buffet, Chocolate Nirvana, Thai G...\n",
       "2        Churros, Cannelloni, Minestrone Soup, Hot Choc...\n",
       "3                                              Masala Dosa\n",
       "4                                      Panipuri, Gol Gappe\n",
       "                               ...                        \n",
       "51712                                                  NaN\n",
       "51713                                                  NaN\n",
       "51714                                                  NaN\n",
       "51715                         Cocktails, Pizza, Buttermilk\n",
       "51716                                                  NaN\n",
       "Name: dish_liked, Length: 51717, dtype: object"
      ]
     },
     "execution_count": 35,
     "metadata": {},
     "output_type": "execute_result"
    }
   ],
   "source": [
    "df['dish_liked']"
   ]
  },
  {
   "cell_type": "code",
   "execution_count": 36,
   "id": "2f590be2",
   "metadata": {},
   "outputs": [
    {
     "data": {
      "text/plain": [
       "28078"
      ]
     },
     "execution_count": 36,
     "metadata": {},
     "output_type": "execute_result"
    }
   ],
   "source": [
    "df['dish_liked'].isna().sum()"
   ]
  },
  {
   "cell_type": "markdown",
   "id": "abf7479a",
   "metadata": {},
   "source": [
    "Our task is to replace the NaN values with \"Not Available\""
   ]
  },
  {
   "cell_type": "code",
   "execution_count": 37,
   "id": "f16199e6",
   "metadata": {},
   "outputs": [
    {
     "data": {
      "text/plain": [
       "0        Pasta, Lunch Buffet, Masala Papad, Paneer Laja...\n",
       "1        Momos, Lunch Buffet, Chocolate Nirvana, Thai G...\n",
       "2        Churros, Cannelloni, Minestrone Soup, Hot Choc...\n",
       "3                                              Masala Dosa\n",
       "4                                      Panipuri, Gol Gappe\n",
       "                               ...                        \n",
       "51712                                        Not Available\n",
       "51713                                        Not Available\n",
       "51714                                        Not Available\n",
       "51715                         Cocktails, Pizza, Buttermilk\n",
       "51716                                        Not Available\n",
       "Name: dish_liked, Length: 51717, dtype: object"
      ]
     },
     "execution_count": 37,
     "metadata": {},
     "output_type": "execute_result"
    }
   ],
   "source": [
    "df['dish_liked'].fillna('Not Available')"
   ]
  },
  {
   "cell_type": "markdown",
   "id": "d819c376",
   "metadata": {},
   "source": [
    "- As you can see that in the index `51712` `NaN` was present first and now it is replaced with `Not Available`\n",
    "\n",
    "\n",
    "- Now as it is confired that what we want so let's save it using `inplace = True`"
   ]
  },
  {
   "cell_type": "code",
   "execution_count": 38,
   "id": "6ebd1543",
   "metadata": {},
   "outputs": [],
   "source": [
    "df['dish_liked'].fillna('Not Available', inplace = True)"
   ]
  },
  {
   "cell_type": "code",
   "execution_count": 39,
   "id": "b18ea4a9",
   "metadata": {},
   "outputs": [
    {
     "data": {
      "text/plain": [
       "0"
      ]
     },
     "execution_count": 39,
     "metadata": {},
     "output_type": "execute_result"
    }
   ],
   "source": [
    "df['dish_liked'].isna().sum()"
   ]
  },
  {
   "cell_type": "markdown",
   "id": "c9ab65b3",
   "metadata": {},
   "source": [
    "- Yeah!! Successfully replaced `NaN` values with `Not Applicable`"
   ]
  },
  {
   "cell_type": "markdown",
   "id": "8cef4d30",
   "metadata": {},
   "source": [
    "#### Cuisines column"
   ]
  },
  {
   "cell_type": "code",
   "execution_count": 40,
   "id": "12def092",
   "metadata": {},
   "outputs": [
    {
     "data": {
      "text/plain": [
       "0                North Indian, Mughlai, Chinese\n",
       "1                   Chinese, North Indian, Thai\n",
       "2                        Cafe, Mexican, Italian\n",
       "3                    South Indian, North Indian\n",
       "4                      North Indian, Rajasthani\n",
       "                          ...                  \n",
       "51712                               Continental\n",
       "51713                               Finger Food\n",
       "51714                               Finger Food\n",
       "51715                               Finger Food\n",
       "51716    Finger Food, North Indian, Continental\n",
       "Name: cuisines, Length: 51717, dtype: object"
      ]
     },
     "execution_count": 40,
     "metadata": {},
     "output_type": "execute_result"
    }
   ],
   "source": [
    "df['cuisines']"
   ]
  },
  {
   "cell_type": "code",
   "execution_count": 41,
   "id": "ec302123",
   "metadata": {},
   "outputs": [
    {
     "data": {
      "text/plain": [
       "45"
      ]
     },
     "execution_count": 41,
     "metadata": {},
     "output_type": "execute_result"
    }
   ],
   "source": [
    "df['cuisines'].isna().sum()"
   ]
  },
  {
   "cell_type": "markdown",
   "id": "6a09cf70",
   "metadata": {},
   "source": [
    "- There are `45` rows which contain `NaN` values.\n",
    "\n",
    "\n",
    "- Our task is to replace those `45` `NaN` values with `Other`"
   ]
  },
  {
   "cell_type": "code",
   "execution_count": 42,
   "id": "781e241d",
   "metadata": {},
   "outputs": [],
   "source": [
    "df['cuisines'].fillna('Other', inplace = True)"
   ]
  },
  {
   "cell_type": "code",
   "execution_count": 43,
   "id": "b34e22b0",
   "metadata": {},
   "outputs": [
    {
     "data": {
      "text/plain": [
       "0"
      ]
     },
     "execution_count": 43,
     "metadata": {},
     "output_type": "execute_result"
    }
   ],
   "source": [
    "df['cuisines'].isna().sum()"
   ]
  },
  {
   "cell_type": "markdown",
   "id": "c169b2f4",
   "metadata": {},
   "source": [
    "- Yeah!! Successfully replaced 45 `NaN` value with `Other`"
   ]
  },
  {
   "cell_type": "markdown",
   "id": "e4edd101",
   "metadata": {},
   "source": [
    "#### rest_type column"
   ]
  },
  {
   "cell_type": "code",
   "execution_count": 44,
   "id": "40091cc6",
   "metadata": {},
   "outputs": [
    {
     "data": {
      "text/plain": [
       "0              Casual Dining\n",
       "1              Casual Dining\n",
       "2        Cafe, Casual Dining\n",
       "3                Quick Bites\n",
       "4              Casual Dining\n",
       "                ...         \n",
       "51712                    Bar\n",
       "51713                    Bar\n",
       "51714                    Bar\n",
       "51715                    Bar\n",
       "51716     Bar, Casual Dining\n",
       "Name: rest_type, Length: 51717, dtype: object"
      ]
     },
     "execution_count": 44,
     "metadata": {},
     "output_type": "execute_result"
    }
   ],
   "source": [
    "df['rest_type']"
   ]
  },
  {
   "cell_type": "code",
   "execution_count": 45,
   "id": "a0482c61",
   "metadata": {},
   "outputs": [
    {
     "data": {
      "text/plain": [
       "227"
      ]
     },
     "execution_count": 45,
     "metadata": {},
     "output_type": "execute_result"
    }
   ],
   "source": [
    "df['rest_type'].isna().sum()"
   ]
  },
  {
   "cell_type": "markdown",
   "id": "435e1187",
   "metadata": {},
   "source": [
    "- There are `227` rows which contain `NaN` values.\n",
    "\n",
    "\n",
    "- Our task is to replace those `227` `NaN` values with `Unknown`"
   ]
  },
  {
   "cell_type": "code",
   "execution_count": 46,
   "id": "b30a7662",
   "metadata": {},
   "outputs": [],
   "source": [
    "df['rest_type'].fillna('Unknown', inplace = True)"
   ]
  },
  {
   "cell_type": "code",
   "execution_count": 47,
   "id": "eb31273f",
   "metadata": {},
   "outputs": [
    {
     "data": {
      "text/plain": [
       "0"
      ]
     },
     "execution_count": 47,
     "metadata": {},
     "output_type": "execute_result"
    }
   ],
   "source": [
    "df['rest_type'].isna().sum()"
   ]
  },
  {
   "cell_type": "markdown",
   "id": "0e622a8d",
   "metadata": {},
   "source": [
    "- Yeah!! Successfully replaced 227 `NaN` value with `Unknown`"
   ]
  },
  {
   "cell_type": "markdown",
   "id": "2c447a6a",
   "metadata": {},
   "source": [
    "### Step 4: Votes Column"
   ]
  },
  {
   "cell_type": "markdown",
   "id": "5e8d3e84",
   "metadata": {},
   "source": [
    "Our task is to fill the missing values with median"
   ]
  },
  {
   "cell_type": "code",
   "execution_count": 48,
   "id": "d0e4b6a2",
   "metadata": {},
   "outputs": [
    {
     "data": {
      "text/plain": [
       "0"
      ]
     },
     "execution_count": 48,
     "metadata": {},
     "output_type": "execute_result"
    }
   ],
   "source": [
    "df['votes'].isna().sum()"
   ]
  },
  {
   "cell_type": "code",
   "execution_count": 49,
   "id": "33840713",
   "metadata": {},
   "outputs": [
    {
     "data": {
      "text/plain": [
       "online_order                 0\n",
       "book_table                   0\n",
       "rate                         0\n",
       "votes                        0\n",
       "rest_type                    0\n",
       "dish_liked                   0\n",
       "cuisines                     0\n",
       "approx_costfor_two_people    0\n",
       "listed_intype                0\n",
       "listed_incity                0\n",
       "dtype: int64"
      ]
     },
     "execution_count": 49,
     "metadata": {},
     "output_type": "execute_result"
    }
   ],
   "source": [
    "df.isna().sum()"
   ]
  },
  {
   "cell_type": "markdown",
   "id": "eae4a882",
   "metadata": {},
   "source": [
    "- As we can see that there are no missing values in any of the columns.\n",
    "\n",
    "\n",
    "- So we will not replace the 'NaN' value of vote column with median"
   ]
  },
  {
   "cell_type": "markdown",
   "id": "8b7efd45",
   "metadata": {},
   "source": [
    "If the `NaN` values were present then the code you need to use will be:\n",
    "\n",
    "```\n",
    "df['votes'].fillna(df['votes'].median(), inplace = True)\n",
    "```"
   ]
  },
  {
   "cell_type": "markdown",
   "id": "7284d9d5",
   "metadata": {},
   "source": [
    "### Step 5: Binary Encoding"
   ]
  },
  {
   "cell_type": "markdown",
   "id": "806e02d8",
   "metadata": {},
   "source": [
    "#### online_order column"
   ]
  },
  {
   "cell_type": "code",
   "execution_count": 50,
   "id": "b2cbfccb",
   "metadata": {
    "scrolled": true
   },
   "outputs": [
    {
     "data": {
      "text/plain": [
       "0        Yes\n",
       "1        Yes\n",
       "2        Yes\n",
       "3         No\n",
       "4         No\n",
       "        ... \n",
       "51712     No\n",
       "51713     No\n",
       "51714     No\n",
       "51715     No\n",
       "51716     No\n",
       "Name: online_order, Length: 51717, dtype: object"
      ]
     },
     "execution_count": 50,
     "metadata": {},
     "output_type": "execute_result"
    }
   ],
   "source": [
    "df['online_order']"
   ]
  },
  {
   "cell_type": "markdown",
   "id": "83634d46",
   "metadata": {},
   "source": [
    "- Our task is to convert `Yes` to `1` and `No` to `0`"
   ]
  },
  {
   "cell_type": "code",
   "execution_count": 51,
   "id": "a6bb2184",
   "metadata": {},
   "outputs": [
    {
     "data": {
      "text/plain": [
       "0        1\n",
       "1        1\n",
       "2        1\n",
       "3        0\n",
       "4        0\n",
       "        ..\n",
       "51712    0\n",
       "51713    0\n",
       "51714    0\n",
       "51715    0\n",
       "51716    0\n",
       "Name: online_order, Length: 51717, dtype: int64"
      ]
     },
     "execution_count": 51,
     "metadata": {},
     "output_type": "execute_result"
    }
   ],
   "source": [
    "df['online_order'].map({'Yes': 1, 'No': 0})"
   ]
  },
  {
   "cell_type": "markdown",
   "id": "149b3d76",
   "metadata": {},
   "source": [
    "- As we can see that `Yes` is converted to `1` and `No` is converted to `0` \n",
    "\n",
    "\n",
    "- So let's save this"
   ]
  },
  {
   "cell_type": "code",
   "execution_count": 52,
   "id": "3721b6a3",
   "metadata": {},
   "outputs": [],
   "source": [
    "df['online_order'] = df['online_order'].map({'Yes': 1, 'No': 0})"
   ]
  },
  {
   "cell_type": "code",
   "execution_count": 53,
   "id": "e7106ee5",
   "metadata": {},
   "outputs": [
    {
     "data": {
      "text/plain": [
       "0        1\n",
       "1        1\n",
       "2        1\n",
       "3        0\n",
       "4        0\n",
       "        ..\n",
       "51712    0\n",
       "51713    0\n",
       "51714    0\n",
       "51715    0\n",
       "51716    0\n",
       "Name: online_order, Length: 51717, dtype: int64"
      ]
     },
     "execution_count": 53,
     "metadata": {},
     "output_type": "execute_result"
    }
   ],
   "source": [
    "df['online_order']"
   ]
  },
  {
   "cell_type": "markdown",
   "id": "984e1e02",
   "metadata": {},
   "source": [
    "- Yeah!! Successfully converted `Yes` to `1` adn `No` to `0`"
   ]
  },
  {
   "cell_type": "markdown",
   "id": "9c957345",
   "metadata": {},
   "source": [
    "#### book_table column"
   ]
  },
  {
   "cell_type": "code",
   "execution_count": 54,
   "id": "ad9c2f34",
   "metadata": {},
   "outputs": [
    {
     "data": {
      "text/plain": [
       "0        Yes\n",
       "1         No\n",
       "2         No\n",
       "3         No\n",
       "4         No\n",
       "        ... \n",
       "51712     No\n",
       "51713     No\n",
       "51714     No\n",
       "51715    Yes\n",
       "51716     No\n",
       "Name: book_table, Length: 51717, dtype: object"
      ]
     },
     "execution_count": 54,
     "metadata": {},
     "output_type": "execute_result"
    }
   ],
   "source": [
    "df['book_table']"
   ]
  },
  {
   "cell_type": "markdown",
   "id": "c462126b",
   "metadata": {},
   "source": [
    "- Our task is to convert `Yes` to `1` and `No` to `0`"
   ]
  },
  {
   "cell_type": "code",
   "execution_count": 55,
   "id": "364dd1a2",
   "metadata": {},
   "outputs": [
    {
     "data": {
      "text/plain": [
       "0        1\n",
       "1        0\n",
       "2        0\n",
       "3        0\n",
       "4        0\n",
       "        ..\n",
       "51712    0\n",
       "51713    0\n",
       "51714    0\n",
       "51715    1\n",
       "51716    0\n",
       "Name: book_table, Length: 51717, dtype: int64"
      ]
     },
     "execution_count": 55,
     "metadata": {},
     "output_type": "execute_result"
    }
   ],
   "source": [
    "df['book_table'].map({'Yes': 1, 'No': 0})"
   ]
  },
  {
   "cell_type": "markdown",
   "id": "28b0a88f",
   "metadata": {},
   "source": [
    "- As we can see that `Yes` is converted to `1` and `No` is converted to `0` \n",
    "\n",
    "\n",
    "- So let's save this"
   ]
  },
  {
   "cell_type": "code",
   "execution_count": 56,
   "id": "ca0da011",
   "metadata": {},
   "outputs": [],
   "source": [
    "df['book_table'] = df['book_table'].map({'Yes': 1, 'No': 0})"
   ]
  },
  {
   "cell_type": "code",
   "execution_count": 57,
   "id": "efc6511d",
   "metadata": {},
   "outputs": [
    {
     "data": {
      "text/plain": [
       "0        1\n",
       "1        0\n",
       "2        0\n",
       "3        0\n",
       "4        0\n",
       "        ..\n",
       "51712    0\n",
       "51713    0\n",
       "51714    0\n",
       "51715    1\n",
       "51716    0\n",
       "Name: book_table, Length: 51717, dtype: int64"
      ]
     },
     "execution_count": 57,
     "metadata": {},
     "output_type": "execute_result"
    }
   ],
   "source": [
    "df['book_table']"
   ]
  },
  {
   "cell_type": "markdown",
   "id": "265b385b",
   "metadata": {},
   "source": [
    "### Step 6: Data Type Conversion"
   ]
  },
  {
   "cell_type": "markdown",
   "id": "e5db9f8d",
   "metadata": {},
   "source": [
    "Our task is to ensure the following conversions:\n",
    "\n",
    "- rate → float\n",
    "\n",
    "\n",
    "- votes → integer\n",
    "\n",
    "\n",
    "- approx_costfor_two_people → integer"
   ]
  },
  {
   "cell_type": "code",
   "execution_count": 58,
   "id": "0685ee6e",
   "metadata": {},
   "outputs": [
    {
     "name": "stdout",
     "output_type": "stream",
     "text": [
      "<class 'pandas.core.frame.DataFrame'>\n",
      "RangeIndex: 51717 entries, 0 to 51716\n",
      "Data columns (total 10 columns):\n",
      " #   Column                     Non-Null Count  Dtype  \n",
      "---  ------                     --------------  -----  \n",
      " 0   online_order               51717 non-null  int64  \n",
      " 1   book_table                 51717 non-null  int64  \n",
      " 2   rate                       51717 non-null  float64\n",
      " 3   votes                      51717 non-null  int64  \n",
      " 4   rest_type                  51717 non-null  object \n",
      " 5   dish_liked                 51717 non-null  object \n",
      " 6   cuisines                   51717 non-null  object \n",
      " 7   approx_costfor_two_people  51717 non-null  float64\n",
      " 8   listed_intype              51717 non-null  object \n",
      " 9   listed_incity              51717 non-null  object \n",
      "dtypes: float64(2), int64(3), object(5)\n",
      "memory usage: 3.9+ MB\n"
     ]
    }
   ],
   "source": [
    "df.info()"
   ]
  },
  {
   "cell_type": "markdown",
   "id": "55dcfd50",
   "metadata": {},
   "source": [
    "- As we can see in the above info, `rate` is having `float` datatype, and `votes` is having `int` datatype which will satisfy our condition.\n",
    "\n",
    "\n",
    "- But the `approx_costfor_two_people` column datatype is `float`. So now we need to convert the `float` datatype to `int` to satisfy our conditions"
   ]
  },
  {
   "cell_type": "code",
   "execution_count": 59,
   "id": "7aaf085f",
   "metadata": {},
   "outputs": [],
   "source": [
    "df['approx_costfor_two_people'] = df['approx_costfor_two_people'].astype(int)"
   ]
  },
  {
   "cell_type": "code",
   "execution_count": 60,
   "id": "2e52ae06",
   "metadata": {},
   "outputs": [
    {
     "data": {
      "text/plain": [
       "dtype('int32')"
      ]
     },
     "execution_count": 60,
     "metadata": {},
     "output_type": "execute_result"
    }
   ],
   "source": [
    "df['approx_costfor_two_people'].dtype"
   ]
  },
  {
   "cell_type": "code",
   "execution_count": 61,
   "id": "484731dd",
   "metadata": {},
   "outputs": [
    {
     "name": "stdout",
     "output_type": "stream",
     "text": [
      "<class 'pandas.core.frame.DataFrame'>\n",
      "RangeIndex: 51717 entries, 0 to 51716\n",
      "Data columns (total 10 columns):\n",
      " #   Column                     Non-Null Count  Dtype  \n",
      "---  ------                     --------------  -----  \n",
      " 0   online_order               51717 non-null  int64  \n",
      " 1   book_table                 51717 non-null  int64  \n",
      " 2   rate                       51717 non-null  float64\n",
      " 3   votes                      51717 non-null  int64  \n",
      " 4   rest_type                  51717 non-null  object \n",
      " 5   dish_liked                 51717 non-null  object \n",
      " 6   cuisines                   51717 non-null  object \n",
      " 7   approx_costfor_two_people  51717 non-null  int32  \n",
      " 8   listed_intype              51717 non-null  object \n",
      " 9   listed_incity              51717 non-null  object \n",
      "dtypes: float64(1), int32(1), int64(3), object(5)\n",
      "memory usage: 3.7+ MB\n"
     ]
    }
   ],
   "source": [
    "df.info()"
   ]
  },
  {
   "cell_type": "markdown",
   "id": "c3662ff3",
   "metadata": {},
   "source": [
    "- Yeah!! Successfully converted `float` to `int`"
   ]
  },
  {
   "cell_type": "code",
   "execution_count": 62,
   "id": "9c1c4f76",
   "metadata": {},
   "outputs": [
    {
     "data": {
      "text/plain": [
       "online_order                 0\n",
       "book_table                   0\n",
       "rate                         0\n",
       "votes                        0\n",
       "rest_type                    0\n",
       "dish_liked                   0\n",
       "cuisines                     0\n",
       "approx_costfor_two_people    0\n",
       "listed_intype                0\n",
       "listed_incity                0\n",
       "dtype: int64"
      ]
     },
     "execution_count": 62,
     "metadata": {},
     "output_type": "execute_result"
    }
   ],
   "source": [
    "df.isna().sum()"
   ]
  },
  {
   "cell_type": "markdown",
   "id": "fedbbb4b",
   "metadata": {},
   "source": [
    "- There are no missing values in the dataset"
   ]
  },
  {
   "cell_type": "markdown",
   "id": "018b056e",
   "metadata": {},
   "source": [
    "### Saving the cleaned dataset into csv format"
   ]
  },
  {
   "cell_type": "code",
   "execution_count": 63,
   "id": "e1b3b9e0",
   "metadata": {},
   "outputs": [],
   "source": [
    "df.to_csv('cleaned_zomato_details.csv', index = None)"
   ]
  },
  {
   "cell_type": "markdown",
   "id": "b160f0cc",
   "metadata": {},
   "source": [
    "## Merging Datasets"
   ]
  },
  {
   "cell_type": "code",
   "execution_count": 64,
   "id": "2ff4a912",
   "metadata": {},
   "outputs": [],
   "source": [
    "df1 = pd.read_csv('cleaned_zomato_details.csv')"
   ]
  },
  {
   "cell_type": "code",
   "execution_count": 65,
   "id": "c83dac3d",
   "metadata": {
    "scrolled": true
   },
   "outputs": [
    {
     "data": {
      "text/html": [
       "<div>\n",
       "<style scoped>\n",
       "    .dataframe tbody tr th:only-of-type {\n",
       "        vertical-align: middle;\n",
       "    }\n",
       "\n",
       "    .dataframe tbody tr th {\n",
       "        vertical-align: top;\n",
       "    }\n",
       "\n",
       "    .dataframe thead th {\n",
       "        text-align: right;\n",
       "    }\n",
       "</style>\n",
       "<table border=\"1\" class=\"dataframe\">\n",
       "  <thead>\n",
       "    <tr style=\"text-align: right;\">\n",
       "      <th></th>\n",
       "      <th>online_order</th>\n",
       "      <th>book_table</th>\n",
       "      <th>rate</th>\n",
       "      <th>votes</th>\n",
       "      <th>rest_type</th>\n",
       "      <th>dish_liked</th>\n",
       "      <th>cuisines</th>\n",
       "      <th>approx_costfor_two_people</th>\n",
       "      <th>listed_intype</th>\n",
       "      <th>listed_incity</th>\n",
       "    </tr>\n",
       "  </thead>\n",
       "  <tbody>\n",
       "    <tr>\n",
       "      <th>0</th>\n",
       "      <td>1</td>\n",
       "      <td>1</td>\n",
       "      <td>4.1</td>\n",
       "      <td>775</td>\n",
       "      <td>Casual Dining</td>\n",
       "      <td>Pasta, Lunch Buffet, Masala Papad, Paneer Laja...</td>\n",
       "      <td>North Indian, Mughlai, Chinese</td>\n",
       "      <td>800</td>\n",
       "      <td>Buffet</td>\n",
       "      <td>Banashankari</td>\n",
       "    </tr>\n",
       "    <tr>\n",
       "      <th>1</th>\n",
       "      <td>1</td>\n",
       "      <td>0</td>\n",
       "      <td>4.1</td>\n",
       "      <td>787</td>\n",
       "      <td>Casual Dining</td>\n",
       "      <td>Momos, Lunch Buffet, Chocolate Nirvana, Thai G...</td>\n",
       "      <td>Chinese, North Indian, Thai</td>\n",
       "      <td>800</td>\n",
       "      <td>Buffet</td>\n",
       "      <td>Banashankari</td>\n",
       "    </tr>\n",
       "    <tr>\n",
       "      <th>2</th>\n",
       "      <td>1</td>\n",
       "      <td>0</td>\n",
       "      <td>3.8</td>\n",
       "      <td>918</td>\n",
       "      <td>Cafe, Casual Dining</td>\n",
       "      <td>Churros, Cannelloni, Minestrone Soup, Hot Choc...</td>\n",
       "      <td>Cafe, Mexican, Italian</td>\n",
       "      <td>800</td>\n",
       "      <td>Buffet</td>\n",
       "      <td>Banashankari</td>\n",
       "    </tr>\n",
       "    <tr>\n",
       "      <th>3</th>\n",
       "      <td>0</td>\n",
       "      <td>0</td>\n",
       "      <td>3.7</td>\n",
       "      <td>88</td>\n",
       "      <td>Quick Bites</td>\n",
       "      <td>Masala Dosa</td>\n",
       "      <td>South Indian, North Indian</td>\n",
       "      <td>300</td>\n",
       "      <td>Buffet</td>\n",
       "      <td>Banashankari</td>\n",
       "    </tr>\n",
       "    <tr>\n",
       "      <th>4</th>\n",
       "      <td>0</td>\n",
       "      <td>0</td>\n",
       "      <td>3.8</td>\n",
       "      <td>166</td>\n",
       "      <td>Casual Dining</td>\n",
       "      <td>Panipuri, Gol Gappe</td>\n",
       "      <td>North Indian, Rajasthani</td>\n",
       "      <td>600</td>\n",
       "      <td>Buffet</td>\n",
       "      <td>Banashankari</td>\n",
       "    </tr>\n",
       "  </tbody>\n",
       "</table>\n",
       "</div>"
      ],
      "text/plain": [
       "   online_order  book_table  rate  votes            rest_type  \\\n",
       "0             1           1   4.1    775        Casual Dining   \n",
       "1             1           0   4.1    787        Casual Dining   \n",
       "2             1           0   3.8    918  Cafe, Casual Dining   \n",
       "3             0           0   3.7     88          Quick Bites   \n",
       "4             0           0   3.8    166        Casual Dining   \n",
       "\n",
       "                                          dish_liked  \\\n",
       "0  Pasta, Lunch Buffet, Masala Papad, Paneer Laja...   \n",
       "1  Momos, Lunch Buffet, Chocolate Nirvana, Thai G...   \n",
       "2  Churros, Cannelloni, Minestrone Soup, Hot Choc...   \n",
       "3                                        Masala Dosa   \n",
       "4                                Panipuri, Gol Gappe   \n",
       "\n",
       "                         cuisines  approx_costfor_two_people listed_intype  \\\n",
       "0  North Indian, Mughlai, Chinese                        800        Buffet   \n",
       "1     Chinese, North Indian, Thai                        800        Buffet   \n",
       "2          Cafe, Mexican, Italian                        800        Buffet   \n",
       "3      South Indian, North Indian                        300        Buffet   \n",
       "4        North Indian, Rajasthani                        600        Buffet   \n",
       "\n",
       "  listed_incity  \n",
       "0  Banashankari  \n",
       "1  Banashankari  \n",
       "2  Banashankari  \n",
       "3  Banashankari  \n",
       "4  Banashankari  "
      ]
     },
     "execution_count": 65,
     "metadata": {},
     "output_type": "execute_result"
    }
   ],
   "source": [
    "df1.head()"
   ]
  },
  {
   "cell_type": "code",
   "execution_count": 66,
   "id": "5ff3946a",
   "metadata": {
    "scrolled": true
   },
   "outputs": [
    {
     "data": {
      "text/plain": [
       "online_order                 0\n",
       "book_table                   0\n",
       "rate                         0\n",
       "votes                        0\n",
       "rest_type                    0\n",
       "dish_liked                   0\n",
       "cuisines                     0\n",
       "approx_costfor_two_people    0\n",
       "listed_intype                0\n",
       "listed_incity                0\n",
       "dtype: int64"
      ]
     },
     "execution_count": 66,
     "metadata": {},
     "output_type": "execute_result"
    }
   ],
   "source": [
    "df1.isna().sum()"
   ]
  },
  {
   "cell_type": "code",
   "execution_count": 75,
   "id": "f22eb860",
   "metadata": {},
   "outputs": [
    {
     "data": {
      "text/plain": [
       "(51717, 10)"
      ]
     },
     "execution_count": 75,
     "metadata": {},
     "output_type": "execute_result"
    }
   ],
   "source": [
    "df1.shape"
   ]
  },
  {
   "cell_type": "code",
   "execution_count": 67,
   "id": "024a0287",
   "metadata": {},
   "outputs": [],
   "source": [
    "df2 = pd.read_csv('Geographical Coordinates.csv')"
   ]
  },
  {
   "cell_type": "code",
   "execution_count": 68,
   "id": "9314df59",
   "metadata": {
    "scrolled": true
   },
   "outputs": [
    {
     "data": {
      "text/html": [
       "<div>\n",
       "<style scoped>\n",
       "    .dataframe tbody tr th:only-of-type {\n",
       "        vertical-align: middle;\n",
       "    }\n",
       "\n",
       "    .dataframe tbody tr th {\n",
       "        vertical-align: top;\n",
       "    }\n",
       "\n",
       "    .dataframe thead th {\n",
       "        text-align: right;\n",
       "    }\n",
       "</style>\n",
       "<table border=\"1\" class=\"dataframe\">\n",
       "  <thead>\n",
       "    <tr style=\"text-align: right;\">\n",
       "      <th></th>\n",
       "      <th>listed_incity</th>\n",
       "      <th>Latitude</th>\n",
       "      <th>Longitude</th>\n",
       "    </tr>\n",
       "  </thead>\n",
       "  <tbody>\n",
       "    <tr>\n",
       "      <th>0</th>\n",
       "      <td>Banashankari</td>\n",
       "      <td>12.939333</td>\n",
       "      <td>77.553982</td>\n",
       "    </tr>\n",
       "    <tr>\n",
       "      <th>1</th>\n",
       "      <td>Bannerghatta Road</td>\n",
       "      <td>12.952660</td>\n",
       "      <td>77.605048</td>\n",
       "    </tr>\n",
       "    <tr>\n",
       "      <th>2</th>\n",
       "      <td>Basavanagudi</td>\n",
       "      <td>12.941726</td>\n",
       "      <td>77.575502</td>\n",
       "    </tr>\n",
       "    <tr>\n",
       "      <th>3</th>\n",
       "      <td>Bellandur</td>\n",
       "      <td>12.925352</td>\n",
       "      <td>77.675941</td>\n",
       "    </tr>\n",
       "    <tr>\n",
       "      <th>4</th>\n",
       "      <td>Brigade Road</td>\n",
       "      <td>12.967358</td>\n",
       "      <td>77.606435</td>\n",
       "    </tr>\n",
       "  </tbody>\n",
       "</table>\n",
       "</div>"
      ],
      "text/plain": [
       "       listed_incity   Latitude  Longitude\n",
       "0       Banashankari  12.939333  77.553982\n",
       "1  Bannerghatta Road  12.952660  77.605048\n",
       "2       Basavanagudi  12.941726  77.575502\n",
       "3          Bellandur  12.925352  77.675941\n",
       "4       Brigade Road  12.967358  77.606435"
      ]
     },
     "execution_count": 68,
     "metadata": {},
     "output_type": "execute_result"
    }
   ],
   "source": [
    "df2.head()"
   ]
  },
  {
   "cell_type": "code",
   "execution_count": 70,
   "id": "cf5ac220",
   "metadata": {
    "scrolled": false
   },
   "outputs": [
    {
     "data": {
      "text/plain": [
       "listed_incity    0\n",
       "Latitude         0\n",
       "Longitude        0\n",
       "dtype: int64"
      ]
     },
     "execution_count": 70,
     "metadata": {},
     "output_type": "execute_result"
    }
   ],
   "source": [
    "df2.isna().sum()"
   ]
  },
  {
   "cell_type": "code",
   "execution_count": 76,
   "id": "01eda599",
   "metadata": {},
   "outputs": [
    {
     "data": {
      "text/plain": [
       "(26, 3)"
      ]
     },
     "execution_count": 76,
     "metadata": {},
     "output_type": "execute_result"
    }
   ],
   "source": [
    "df2.shape"
   ]
  },
  {
   "cell_type": "code",
   "execution_count": 71,
   "id": "eb0a6e7a",
   "metadata": {},
   "outputs": [],
   "source": [
    "merged_df = pd.merge(df1, df2, on='listed_incity', how='left')"
   ]
  },
  {
   "cell_type": "code",
   "execution_count": 72,
   "id": "a2de841c",
   "metadata": {
    "scrolled": true
   },
   "outputs": [
    {
     "data": {
      "text/html": [
       "<div>\n",
       "<style scoped>\n",
       "    .dataframe tbody tr th:only-of-type {\n",
       "        vertical-align: middle;\n",
       "    }\n",
       "\n",
       "    .dataframe tbody tr th {\n",
       "        vertical-align: top;\n",
       "    }\n",
       "\n",
       "    .dataframe thead th {\n",
       "        text-align: right;\n",
       "    }\n",
       "</style>\n",
       "<table border=\"1\" class=\"dataframe\">\n",
       "  <thead>\n",
       "    <tr style=\"text-align: right;\">\n",
       "      <th></th>\n",
       "      <th>online_order</th>\n",
       "      <th>book_table</th>\n",
       "      <th>rate</th>\n",
       "      <th>votes</th>\n",
       "      <th>rest_type</th>\n",
       "      <th>dish_liked</th>\n",
       "      <th>cuisines</th>\n",
       "      <th>approx_costfor_two_people</th>\n",
       "      <th>listed_intype</th>\n",
       "      <th>listed_incity</th>\n",
       "      <th>Latitude</th>\n",
       "      <th>Longitude</th>\n",
       "    </tr>\n",
       "  </thead>\n",
       "  <tbody>\n",
       "    <tr>\n",
       "      <th>0</th>\n",
       "      <td>1</td>\n",
       "      <td>1</td>\n",
       "      <td>4.1</td>\n",
       "      <td>775</td>\n",
       "      <td>Casual Dining</td>\n",
       "      <td>Pasta, Lunch Buffet, Masala Papad, Paneer Laja...</td>\n",
       "      <td>North Indian, Mughlai, Chinese</td>\n",
       "      <td>800</td>\n",
       "      <td>Buffet</td>\n",
       "      <td>Banashankari</td>\n",
       "      <td>12.939333</td>\n",
       "      <td>77.553982</td>\n",
       "    </tr>\n",
       "    <tr>\n",
       "      <th>1</th>\n",
       "      <td>1</td>\n",
       "      <td>0</td>\n",
       "      <td>4.1</td>\n",
       "      <td>787</td>\n",
       "      <td>Casual Dining</td>\n",
       "      <td>Momos, Lunch Buffet, Chocolate Nirvana, Thai G...</td>\n",
       "      <td>Chinese, North Indian, Thai</td>\n",
       "      <td>800</td>\n",
       "      <td>Buffet</td>\n",
       "      <td>Banashankari</td>\n",
       "      <td>12.939333</td>\n",
       "      <td>77.553982</td>\n",
       "    </tr>\n",
       "    <tr>\n",
       "      <th>2</th>\n",
       "      <td>1</td>\n",
       "      <td>0</td>\n",
       "      <td>3.8</td>\n",
       "      <td>918</td>\n",
       "      <td>Cafe, Casual Dining</td>\n",
       "      <td>Churros, Cannelloni, Minestrone Soup, Hot Choc...</td>\n",
       "      <td>Cafe, Mexican, Italian</td>\n",
       "      <td>800</td>\n",
       "      <td>Buffet</td>\n",
       "      <td>Banashankari</td>\n",
       "      <td>12.939333</td>\n",
       "      <td>77.553982</td>\n",
       "    </tr>\n",
       "    <tr>\n",
       "      <th>3</th>\n",
       "      <td>0</td>\n",
       "      <td>0</td>\n",
       "      <td>3.7</td>\n",
       "      <td>88</td>\n",
       "      <td>Quick Bites</td>\n",
       "      <td>Masala Dosa</td>\n",
       "      <td>South Indian, North Indian</td>\n",
       "      <td>300</td>\n",
       "      <td>Buffet</td>\n",
       "      <td>Banashankari</td>\n",
       "      <td>12.939333</td>\n",
       "      <td>77.553982</td>\n",
       "    </tr>\n",
       "    <tr>\n",
       "      <th>4</th>\n",
       "      <td>0</td>\n",
       "      <td>0</td>\n",
       "      <td>3.8</td>\n",
       "      <td>166</td>\n",
       "      <td>Casual Dining</td>\n",
       "      <td>Panipuri, Gol Gappe</td>\n",
       "      <td>North Indian, Rajasthani</td>\n",
       "      <td>600</td>\n",
       "      <td>Buffet</td>\n",
       "      <td>Banashankari</td>\n",
       "      <td>12.939333</td>\n",
       "      <td>77.553982</td>\n",
       "    </tr>\n",
       "  </tbody>\n",
       "</table>\n",
       "</div>"
      ],
      "text/plain": [
       "   online_order  book_table  rate  votes            rest_type  \\\n",
       "0             1           1   4.1    775        Casual Dining   \n",
       "1             1           0   4.1    787        Casual Dining   \n",
       "2             1           0   3.8    918  Cafe, Casual Dining   \n",
       "3             0           0   3.7     88          Quick Bites   \n",
       "4             0           0   3.8    166        Casual Dining   \n",
       "\n",
       "                                          dish_liked  \\\n",
       "0  Pasta, Lunch Buffet, Masala Papad, Paneer Laja...   \n",
       "1  Momos, Lunch Buffet, Chocolate Nirvana, Thai G...   \n",
       "2  Churros, Cannelloni, Minestrone Soup, Hot Choc...   \n",
       "3                                        Masala Dosa   \n",
       "4                                Panipuri, Gol Gappe   \n",
       "\n",
       "                         cuisines  approx_costfor_two_people listed_intype  \\\n",
       "0  North Indian, Mughlai, Chinese                        800        Buffet   \n",
       "1     Chinese, North Indian, Thai                        800        Buffet   \n",
       "2          Cafe, Mexican, Italian                        800        Buffet   \n",
       "3      South Indian, North Indian                        300        Buffet   \n",
       "4        North Indian, Rajasthani                        600        Buffet   \n",
       "\n",
       "  listed_incity   Latitude  Longitude  \n",
       "0  Banashankari  12.939333  77.553982  \n",
       "1  Banashankari  12.939333  77.553982  \n",
       "2  Banashankari  12.939333  77.553982  \n",
       "3  Banashankari  12.939333  77.553982  \n",
       "4  Banashankari  12.939333  77.553982  "
      ]
     },
     "execution_count": 72,
     "metadata": {},
     "output_type": "execute_result"
    }
   ],
   "source": [
    "merged_df.head()"
   ]
  },
  {
   "cell_type": "code",
   "execution_count": 73,
   "id": "ec802367",
   "metadata": {},
   "outputs": [
    {
     "data": {
      "text/plain": [
       "online_order                    0\n",
       "book_table                      0\n",
       "rate                            0\n",
       "votes                           0\n",
       "rest_type                       0\n",
       "dish_liked                      0\n",
       "cuisines                        0\n",
       "approx_costfor_two_people       0\n",
       "listed_intype                   0\n",
       "listed_incity                   0\n",
       "Latitude                     5580\n",
       "Longitude                    5580\n",
       "dtype: int64"
      ]
     },
     "execution_count": 73,
     "metadata": {},
     "output_type": "execute_result"
    }
   ],
   "source": [
    "merged_df.isna().sum()"
   ]
  },
  {
   "cell_type": "markdown",
   "id": "b34cd070",
   "metadata": {},
   "source": [
    "### Saving merged dataset into csv file"
   ]
  },
  {
   "cell_type": "code",
   "execution_count": 77,
   "id": "df3b53bf",
   "metadata": {},
   "outputs": [],
   "source": [
    "merged_df.to_csv('merged_data.csv', index = False)"
   ]
  },
  {
   "cell_type": "code",
   "execution_count": 78,
   "id": "8356ca72",
   "metadata": {},
   "outputs": [],
   "source": [
    "df2 = pd.read_csv('merged_data.csv')"
   ]
  },
  {
   "cell_type": "code",
   "execution_count": 79,
   "id": "aee78a93",
   "metadata": {
    "scrolled": false
   },
   "outputs": [
    {
     "data": {
      "text/html": [
       "<div>\n",
       "<style scoped>\n",
       "    .dataframe tbody tr th:only-of-type {\n",
       "        vertical-align: middle;\n",
       "    }\n",
       "\n",
       "    .dataframe tbody tr th {\n",
       "        vertical-align: top;\n",
       "    }\n",
       "\n",
       "    .dataframe thead th {\n",
       "        text-align: right;\n",
       "    }\n",
       "</style>\n",
       "<table border=\"1\" class=\"dataframe\">\n",
       "  <thead>\n",
       "    <tr style=\"text-align: right;\">\n",
       "      <th></th>\n",
       "      <th>online_order</th>\n",
       "      <th>book_table</th>\n",
       "      <th>rate</th>\n",
       "      <th>votes</th>\n",
       "      <th>rest_type</th>\n",
       "      <th>dish_liked</th>\n",
       "      <th>cuisines</th>\n",
       "      <th>approx_costfor_two_people</th>\n",
       "      <th>listed_intype</th>\n",
       "      <th>listed_incity</th>\n",
       "      <th>Latitude</th>\n",
       "      <th>Longitude</th>\n",
       "    </tr>\n",
       "  </thead>\n",
       "  <tbody>\n",
       "    <tr>\n",
       "      <th>0</th>\n",
       "      <td>1</td>\n",
       "      <td>1</td>\n",
       "      <td>4.1</td>\n",
       "      <td>775</td>\n",
       "      <td>Casual Dining</td>\n",
       "      <td>Pasta, Lunch Buffet, Masala Papad, Paneer Laja...</td>\n",
       "      <td>North Indian, Mughlai, Chinese</td>\n",
       "      <td>800</td>\n",
       "      <td>Buffet</td>\n",
       "      <td>Banashankari</td>\n",
       "      <td>12.939333</td>\n",
       "      <td>77.553982</td>\n",
       "    </tr>\n",
       "    <tr>\n",
       "      <th>1</th>\n",
       "      <td>1</td>\n",
       "      <td>0</td>\n",
       "      <td>4.1</td>\n",
       "      <td>787</td>\n",
       "      <td>Casual Dining</td>\n",
       "      <td>Momos, Lunch Buffet, Chocolate Nirvana, Thai G...</td>\n",
       "      <td>Chinese, North Indian, Thai</td>\n",
       "      <td>800</td>\n",
       "      <td>Buffet</td>\n",
       "      <td>Banashankari</td>\n",
       "      <td>12.939333</td>\n",
       "      <td>77.553982</td>\n",
       "    </tr>\n",
       "    <tr>\n",
       "      <th>2</th>\n",
       "      <td>1</td>\n",
       "      <td>0</td>\n",
       "      <td>3.8</td>\n",
       "      <td>918</td>\n",
       "      <td>Cafe, Casual Dining</td>\n",
       "      <td>Churros, Cannelloni, Minestrone Soup, Hot Choc...</td>\n",
       "      <td>Cafe, Mexican, Italian</td>\n",
       "      <td>800</td>\n",
       "      <td>Buffet</td>\n",
       "      <td>Banashankari</td>\n",
       "      <td>12.939333</td>\n",
       "      <td>77.553982</td>\n",
       "    </tr>\n",
       "    <tr>\n",
       "      <th>3</th>\n",
       "      <td>0</td>\n",
       "      <td>0</td>\n",
       "      <td>3.7</td>\n",
       "      <td>88</td>\n",
       "      <td>Quick Bites</td>\n",
       "      <td>Masala Dosa</td>\n",
       "      <td>South Indian, North Indian</td>\n",
       "      <td>300</td>\n",
       "      <td>Buffet</td>\n",
       "      <td>Banashankari</td>\n",
       "      <td>12.939333</td>\n",
       "      <td>77.553982</td>\n",
       "    </tr>\n",
       "    <tr>\n",
       "      <th>4</th>\n",
       "      <td>0</td>\n",
       "      <td>0</td>\n",
       "      <td>3.8</td>\n",
       "      <td>166</td>\n",
       "      <td>Casual Dining</td>\n",
       "      <td>Panipuri, Gol Gappe</td>\n",
       "      <td>North Indian, Rajasthani</td>\n",
       "      <td>600</td>\n",
       "      <td>Buffet</td>\n",
       "      <td>Banashankari</td>\n",
       "      <td>12.939333</td>\n",
       "      <td>77.553982</td>\n",
       "    </tr>\n",
       "  </tbody>\n",
       "</table>\n",
       "</div>"
      ],
      "text/plain": [
       "   online_order  book_table  rate  votes            rest_type  \\\n",
       "0             1           1   4.1    775        Casual Dining   \n",
       "1             1           0   4.1    787        Casual Dining   \n",
       "2             1           0   3.8    918  Cafe, Casual Dining   \n",
       "3             0           0   3.7     88          Quick Bites   \n",
       "4             0           0   3.8    166        Casual Dining   \n",
       "\n",
       "                                          dish_liked  \\\n",
       "0  Pasta, Lunch Buffet, Masala Papad, Paneer Laja...   \n",
       "1  Momos, Lunch Buffet, Chocolate Nirvana, Thai G...   \n",
       "2  Churros, Cannelloni, Minestrone Soup, Hot Choc...   \n",
       "3                                        Masala Dosa   \n",
       "4                                Panipuri, Gol Gappe   \n",
       "\n",
       "                         cuisines  approx_costfor_two_people listed_intype  \\\n",
       "0  North Indian, Mughlai, Chinese                        800        Buffet   \n",
       "1     Chinese, North Indian, Thai                        800        Buffet   \n",
       "2          Cafe, Mexican, Italian                        800        Buffet   \n",
       "3      South Indian, North Indian                        300        Buffet   \n",
       "4        North Indian, Rajasthani                        600        Buffet   \n",
       "\n",
       "  listed_incity   Latitude  Longitude  \n",
       "0  Banashankari  12.939333  77.553982  \n",
       "1  Banashankari  12.939333  77.553982  \n",
       "2  Banashankari  12.939333  77.553982  \n",
       "3  Banashankari  12.939333  77.553982  \n",
       "4  Banashankari  12.939333  77.553982  "
      ]
     },
     "execution_count": 79,
     "metadata": {},
     "output_type": "execute_result"
    }
   ],
   "source": [
    "df2.head()"
   ]
  },
  {
   "cell_type": "code",
   "execution_count": 80,
   "id": "9c68ea1f",
   "metadata": {},
   "outputs": [
    {
     "data": {
      "text/plain": [
       "online_order                    0\n",
       "book_table                      0\n",
       "rate                            0\n",
       "votes                           0\n",
       "rest_type                       0\n",
       "dish_liked                      0\n",
       "cuisines                        0\n",
       "approx_costfor_two_people       0\n",
       "listed_intype                   0\n",
       "listed_incity                   0\n",
       "Latitude                     5580\n",
       "Longitude                    5580\n",
       "dtype: int64"
      ]
     },
     "execution_count": 80,
     "metadata": {},
     "output_type": "execute_result"
    }
   ],
   "source": [
    "df2.isna().sum()"
   ]
  },
  {
   "cell_type": "markdown",
   "id": "3b082f1e",
   "metadata": {},
   "source": [
    "## Cuisine-Specific Map (Italian Restaurants)"
   ]
  },
  {
   "cell_type": "markdown",
   "id": "5b149e3a",
   "metadata": {},
   "source": [
    "### Installing folium"
   ]
  },
  {
   "cell_type": "code",
   "execution_count": null,
   "id": "dc400aec",
   "metadata": {
    "scrolled": true
   },
   "outputs": [],
   "source": [
    "!pip install folium"
   ]
  },
  {
   "cell_type": "markdown",
   "id": "dd3047b3",
   "metadata": {},
   "source": [
    "### Importing Libraries"
   ]
  },
  {
   "cell_type": "code",
   "execution_count": 81,
   "id": "c8d0acc9",
   "metadata": {},
   "outputs": [],
   "source": [
    "import folium\n",
    "from folium.plugins import MarkerCluster\n",
    "from IPython.display import IFrame"
   ]
  },
  {
   "cell_type": "markdown",
   "id": "c325a8bb",
   "metadata": {},
   "source": [
    "### reading data"
   ]
  },
  {
   "cell_type": "code",
   "execution_count": 82,
   "id": "2b74ab20",
   "metadata": {},
   "outputs": [],
   "source": [
    "df_merged = pd.read_csv('merged_data.csv')"
   ]
  },
  {
   "cell_type": "code",
   "execution_count": 83,
   "id": "71c98550",
   "metadata": {},
   "outputs": [
    {
     "data": {
      "text/html": [
       "<div>\n",
       "<style scoped>\n",
       "    .dataframe tbody tr th:only-of-type {\n",
       "        vertical-align: middle;\n",
       "    }\n",
       "\n",
       "    .dataframe tbody tr th {\n",
       "        vertical-align: top;\n",
       "    }\n",
       "\n",
       "    .dataframe thead th {\n",
       "        text-align: right;\n",
       "    }\n",
       "</style>\n",
       "<table border=\"1\" class=\"dataframe\">\n",
       "  <thead>\n",
       "    <tr style=\"text-align: right;\">\n",
       "      <th></th>\n",
       "      <th>online_order</th>\n",
       "      <th>book_table</th>\n",
       "      <th>rate</th>\n",
       "      <th>votes</th>\n",
       "      <th>rest_type</th>\n",
       "      <th>dish_liked</th>\n",
       "      <th>cuisines</th>\n",
       "      <th>approx_costfor_two_people</th>\n",
       "      <th>listed_intype</th>\n",
       "      <th>listed_incity</th>\n",
       "      <th>Latitude</th>\n",
       "      <th>Longitude</th>\n",
       "    </tr>\n",
       "  </thead>\n",
       "  <tbody>\n",
       "    <tr>\n",
       "      <th>0</th>\n",
       "      <td>1</td>\n",
       "      <td>1</td>\n",
       "      <td>4.1</td>\n",
       "      <td>775</td>\n",
       "      <td>Casual Dining</td>\n",
       "      <td>Pasta, Lunch Buffet, Masala Papad, Paneer Laja...</td>\n",
       "      <td>North Indian, Mughlai, Chinese</td>\n",
       "      <td>800</td>\n",
       "      <td>Buffet</td>\n",
       "      <td>Banashankari</td>\n",
       "      <td>12.939333</td>\n",
       "      <td>77.553982</td>\n",
       "    </tr>\n",
       "    <tr>\n",
       "      <th>1</th>\n",
       "      <td>1</td>\n",
       "      <td>0</td>\n",
       "      <td>4.1</td>\n",
       "      <td>787</td>\n",
       "      <td>Casual Dining</td>\n",
       "      <td>Momos, Lunch Buffet, Chocolate Nirvana, Thai G...</td>\n",
       "      <td>Chinese, North Indian, Thai</td>\n",
       "      <td>800</td>\n",
       "      <td>Buffet</td>\n",
       "      <td>Banashankari</td>\n",
       "      <td>12.939333</td>\n",
       "      <td>77.553982</td>\n",
       "    </tr>\n",
       "    <tr>\n",
       "      <th>2</th>\n",
       "      <td>1</td>\n",
       "      <td>0</td>\n",
       "      <td>3.8</td>\n",
       "      <td>918</td>\n",
       "      <td>Cafe, Casual Dining</td>\n",
       "      <td>Churros, Cannelloni, Minestrone Soup, Hot Choc...</td>\n",
       "      <td>Cafe, Mexican, Italian</td>\n",
       "      <td>800</td>\n",
       "      <td>Buffet</td>\n",
       "      <td>Banashankari</td>\n",
       "      <td>12.939333</td>\n",
       "      <td>77.553982</td>\n",
       "    </tr>\n",
       "    <tr>\n",
       "      <th>3</th>\n",
       "      <td>0</td>\n",
       "      <td>0</td>\n",
       "      <td>3.7</td>\n",
       "      <td>88</td>\n",
       "      <td>Quick Bites</td>\n",
       "      <td>Masala Dosa</td>\n",
       "      <td>South Indian, North Indian</td>\n",
       "      <td>300</td>\n",
       "      <td>Buffet</td>\n",
       "      <td>Banashankari</td>\n",
       "      <td>12.939333</td>\n",
       "      <td>77.553982</td>\n",
       "    </tr>\n",
       "    <tr>\n",
       "      <th>4</th>\n",
       "      <td>0</td>\n",
       "      <td>0</td>\n",
       "      <td>3.8</td>\n",
       "      <td>166</td>\n",
       "      <td>Casual Dining</td>\n",
       "      <td>Panipuri, Gol Gappe</td>\n",
       "      <td>North Indian, Rajasthani</td>\n",
       "      <td>600</td>\n",
       "      <td>Buffet</td>\n",
       "      <td>Banashankari</td>\n",
       "      <td>12.939333</td>\n",
       "      <td>77.553982</td>\n",
       "    </tr>\n",
       "  </tbody>\n",
       "</table>\n",
       "</div>"
      ],
      "text/plain": [
       "   online_order  book_table  rate  votes            rest_type  \\\n",
       "0             1           1   4.1    775        Casual Dining   \n",
       "1             1           0   4.1    787        Casual Dining   \n",
       "2             1           0   3.8    918  Cafe, Casual Dining   \n",
       "3             0           0   3.7     88          Quick Bites   \n",
       "4             0           0   3.8    166        Casual Dining   \n",
       "\n",
       "                                          dish_liked  \\\n",
       "0  Pasta, Lunch Buffet, Masala Papad, Paneer Laja...   \n",
       "1  Momos, Lunch Buffet, Chocolate Nirvana, Thai G...   \n",
       "2  Churros, Cannelloni, Minestrone Soup, Hot Choc...   \n",
       "3                                        Masala Dosa   \n",
       "4                                Panipuri, Gol Gappe   \n",
       "\n",
       "                         cuisines  approx_costfor_two_people listed_intype  \\\n",
       "0  North Indian, Mughlai, Chinese                        800        Buffet   \n",
       "1     Chinese, North Indian, Thai                        800        Buffet   \n",
       "2          Cafe, Mexican, Italian                        800        Buffet   \n",
       "3      South Indian, North Indian                        300        Buffet   \n",
       "4        North Indian, Rajasthani                        600        Buffet   \n",
       "\n",
       "  listed_incity   Latitude  Longitude  \n",
       "0  Banashankari  12.939333  77.553982  \n",
       "1  Banashankari  12.939333  77.553982  \n",
       "2  Banashankari  12.939333  77.553982  \n",
       "3  Banashankari  12.939333  77.553982  \n",
       "4  Banashankari  12.939333  77.553982  "
      ]
     },
     "execution_count": 83,
     "metadata": {},
     "output_type": "execute_result"
    }
   ],
   "source": [
    "df_merged.head()"
   ]
  },
  {
   "cell_type": "markdown",
   "id": "32e5fa34",
   "metadata": {},
   "source": [
    "### Cuisine - Specific Map -- Italian Restaurants"
   ]
  },
  {
   "cell_type": "code",
   "execution_count": 84,
   "id": "0202fde1",
   "metadata": {},
   "outputs": [
    {
     "data": {
      "text/plain": [
       "online_order                    0\n",
       "book_table                      0\n",
       "rate                            0\n",
       "votes                           0\n",
       "rest_type                       0\n",
       "dish_liked                      0\n",
       "cuisines                        0\n",
       "approx_costfor_two_people       0\n",
       "listed_intype                   0\n",
       "listed_incity                   0\n",
       "Latitude                     5580\n",
       "Longitude                    5580\n",
       "dtype: int64"
      ]
     },
     "execution_count": 84,
     "metadata": {},
     "output_type": "execute_result"
    }
   ],
   "source": [
    "df_merged.isna().sum()"
   ]
  },
  {
   "cell_type": "markdown",
   "id": "65ed22ef",
   "metadata": {},
   "source": [
    "#### Filter for Italian Restaurants (case-insensitive)"
   ]
  },
  {
   "cell_type": "code",
   "execution_count": 85,
   "id": "7aa2c5a5",
   "metadata": {},
   "outputs": [],
   "source": [
    "italian_df = df_merged[df_merged['cuisines'].str.contains('Italian', case=False, na=False)]"
   ]
  },
  {
   "cell_type": "code",
   "execution_count": 86,
   "id": "1a3dca90",
   "metadata": {},
   "outputs": [
    {
     "data": {
      "text/html": [
       "<div>\n",
       "<style scoped>\n",
       "    .dataframe tbody tr th:only-of-type {\n",
       "        vertical-align: middle;\n",
       "    }\n",
       "\n",
       "    .dataframe tbody tr th {\n",
       "        vertical-align: top;\n",
       "    }\n",
       "\n",
       "    .dataframe thead th {\n",
       "        text-align: right;\n",
       "    }\n",
       "</style>\n",
       "<table border=\"1\" class=\"dataframe\">\n",
       "  <thead>\n",
       "    <tr style=\"text-align: right;\">\n",
       "      <th></th>\n",
       "      <th>online_order</th>\n",
       "      <th>book_table</th>\n",
       "      <th>rate</th>\n",
       "      <th>votes</th>\n",
       "      <th>rest_type</th>\n",
       "      <th>dish_liked</th>\n",
       "      <th>cuisines</th>\n",
       "      <th>approx_costfor_two_people</th>\n",
       "      <th>listed_intype</th>\n",
       "      <th>listed_incity</th>\n",
       "      <th>Latitude</th>\n",
       "      <th>Longitude</th>\n",
       "    </tr>\n",
       "  </thead>\n",
       "  <tbody>\n",
       "    <tr>\n",
       "      <th>2</th>\n",
       "      <td>1</td>\n",
       "      <td>0</td>\n",
       "      <td>3.8</td>\n",
       "      <td>918</td>\n",
       "      <td>Cafe, Casual Dining</td>\n",
       "      <td>Churros, Cannelloni, Minestrone Soup, Hot Choc...</td>\n",
       "      <td>Cafe, Mexican, Italian</td>\n",
       "      <td>800</td>\n",
       "      <td>Buffet</td>\n",
       "      <td>Banashankari</td>\n",
       "      <td>12.939333</td>\n",
       "      <td>77.553982</td>\n",
       "    </tr>\n",
       "    <tr>\n",
       "      <th>7</th>\n",
       "      <td>1</td>\n",
       "      <td>1</td>\n",
       "      <td>4.6</td>\n",
       "      <td>2556</td>\n",
       "      <td>Casual Dining, Cafe</td>\n",
       "      <td>Farmhouse Pizza, Chocolate Banana, Virgin Moji...</td>\n",
       "      <td>Pizza, Cafe, Italian</td>\n",
       "      <td>600</td>\n",
       "      <td>Cafes</td>\n",
       "      <td>Banashankari</td>\n",
       "      <td>12.939333</td>\n",
       "      <td>77.553982</td>\n",
       "    </tr>\n",
       "    <tr>\n",
       "      <th>8</th>\n",
       "      <td>1</td>\n",
       "      <td>0</td>\n",
       "      <td>4.0</td>\n",
       "      <td>324</td>\n",
       "      <td>Cafe</td>\n",
       "      <td>Pizza, Mocktails, Coffee, Nachos, Salad, Pasta...</td>\n",
       "      <td>Cafe, Italian, Continental</td>\n",
       "      <td>700</td>\n",
       "      <td>Cafes</td>\n",
       "      <td>Banashankari</td>\n",
       "      <td>12.939333</td>\n",
       "      <td>77.553982</td>\n",
       "    </tr>\n",
       "    <tr>\n",
       "      <th>9</th>\n",
       "      <td>1</td>\n",
       "      <td>0</td>\n",
       "      <td>4.2</td>\n",
       "      <td>504</td>\n",
       "      <td>Cafe</td>\n",
       "      <td>Waffles, Pasta, Coleslaw Sandwich, Choco Waffl...</td>\n",
       "      <td>Cafe, Mexican, Italian, Momos, Beverages</td>\n",
       "      <td>550</td>\n",
       "      <td>Cafes</td>\n",
       "      <td>Banashankari</td>\n",
       "      <td>12.939333</td>\n",
       "      <td>77.553982</td>\n",
       "    </tr>\n",
       "    <tr>\n",
       "      <th>11</th>\n",
       "      <td>1</td>\n",
       "      <td>1</td>\n",
       "      <td>4.2</td>\n",
       "      <td>150</td>\n",
       "      <td>Cafe</td>\n",
       "      <td>Mocktails, Peri Fries, Lasagne, Pizza, Chicken...</td>\n",
       "      <td>Cafe, Italian, Continental</td>\n",
       "      <td>600</td>\n",
       "      <td>Cafes</td>\n",
       "      <td>Banashankari</td>\n",
       "      <td>12.939333</td>\n",
       "      <td>77.553982</td>\n",
       "    </tr>\n",
       "  </tbody>\n",
       "</table>\n",
       "</div>"
      ],
      "text/plain": [
       "    online_order  book_table  rate  votes            rest_type  \\\n",
       "2              1           0   3.8    918  Cafe, Casual Dining   \n",
       "7              1           1   4.6   2556  Casual Dining, Cafe   \n",
       "8              1           0   4.0    324                 Cafe   \n",
       "9              1           0   4.2    504                 Cafe   \n",
       "11             1           1   4.2    150                 Cafe   \n",
       "\n",
       "                                           dish_liked  \\\n",
       "2   Churros, Cannelloni, Minestrone Soup, Hot Choc...   \n",
       "7   Farmhouse Pizza, Chocolate Banana, Virgin Moji...   \n",
       "8   Pizza, Mocktails, Coffee, Nachos, Salad, Pasta...   \n",
       "9   Waffles, Pasta, Coleslaw Sandwich, Choco Waffl...   \n",
       "11  Mocktails, Peri Fries, Lasagne, Pizza, Chicken...   \n",
       "\n",
       "                                    cuisines  approx_costfor_two_people  \\\n",
       "2                     Cafe, Mexican, Italian                        800   \n",
       "7                       Pizza, Cafe, Italian                        600   \n",
       "8                 Cafe, Italian, Continental                        700   \n",
       "9   Cafe, Mexican, Italian, Momos, Beverages                        550   \n",
       "11                Cafe, Italian, Continental                        600   \n",
       "\n",
       "   listed_intype listed_incity   Latitude  Longitude  \n",
       "2         Buffet  Banashankari  12.939333  77.553982  \n",
       "7          Cafes  Banashankari  12.939333  77.553982  \n",
       "8          Cafes  Banashankari  12.939333  77.553982  \n",
       "9          Cafes  Banashankari  12.939333  77.553982  \n",
       "11         Cafes  Banashankari  12.939333  77.553982  "
      ]
     },
     "execution_count": 86,
     "metadata": {},
     "output_type": "execute_result"
    }
   ],
   "source": [
    "italian_df.head()"
   ]
  },
  {
   "cell_type": "code",
   "execution_count": 87,
   "id": "a216a14c",
   "metadata": {},
   "outputs": [
    {
     "data": {
      "text/plain": [
       "online_order                   0\n",
       "book_table                     0\n",
       "rate                           0\n",
       "votes                          0\n",
       "rest_type                      0\n",
       "dish_liked                     0\n",
       "cuisines                       0\n",
       "approx_costfor_two_people      0\n",
       "listed_intype                  0\n",
       "listed_incity                  0\n",
       "Latitude                     343\n",
       "Longitude                    343\n",
       "dtype: int64"
      ]
     },
     "execution_count": 87,
     "metadata": {},
     "output_type": "execute_result"
    }
   ],
   "source": [
    "italian_df.isna().sum()"
   ]
  },
  {
   "cell_type": "code",
   "execution_count": 88,
   "id": "eb9797f4",
   "metadata": {},
   "outputs": [
    {
     "data": {
      "text/plain": [
       "(3389, 12)"
      ]
     },
     "execution_count": 88,
     "metadata": {},
     "output_type": "execute_result"
    }
   ],
   "source": [
    "italian_df.shape"
   ]
  },
  {
   "cell_type": "markdown",
   "id": "2b947ecc",
   "metadata": {},
   "source": [
    "#### Drop rows with missing latitude or longitude"
   ]
  },
  {
   "cell_type": "code",
   "execution_count": 89,
   "id": "f52c3958",
   "metadata": {},
   "outputs": [],
   "source": [
    "italian_df = italian_df.dropna(subset=['Latitude', 'Longitude'])"
   ]
  },
  {
   "cell_type": "code",
   "execution_count": 90,
   "id": "49c68d19",
   "metadata": {},
   "outputs": [
    {
     "data": {
      "text/plain": [
       "online_order                 0\n",
       "book_table                   0\n",
       "rate                         0\n",
       "votes                        0\n",
       "rest_type                    0\n",
       "dish_liked                   0\n",
       "cuisines                     0\n",
       "approx_costfor_two_people    0\n",
       "listed_intype                0\n",
       "listed_incity                0\n",
       "Latitude                     0\n",
       "Longitude                    0\n",
       "dtype: int64"
      ]
     },
     "execution_count": 90,
     "metadata": {},
     "output_type": "execute_result"
    }
   ],
   "source": [
    "italian_df.isna().sum()"
   ]
  },
  {
   "cell_type": "markdown",
   "id": "c74e1625",
   "metadata": {},
   "source": [
    "#### Initialize a map centered on the average location of Italian restaurants"
   ]
  },
  {
   "cell_type": "code",
   "execution_count": 91,
   "id": "3537f0e4",
   "metadata": {},
   "outputs": [],
   "source": [
    "center_lat = italian_df['Latitude'].mean()\n",
    "center_lon = italian_df['Longitude'].mean()\n",
    "italian_map = folium.Map(location=[center_lat, center_lon], zoom_start=12)"
   ]
  },
  {
   "cell_type": "markdown",
   "id": "8a134343",
   "metadata": {},
   "source": [
    "#### Add purple markers for each Italian restaurant"
   ]
  },
  {
   "cell_type": "code",
   "execution_count": 102,
   "id": "af9076d5",
   "metadata": {},
   "outputs": [],
   "source": [
    "for _, row in italian_df.iterrows():\n",
    "    folium.Marker(\n",
    "        location=[row['Latitude'], row['Longitude']],\n",
    "        popup=f\"City: {row['listed_incity']} <br> Cuisine: {row['cuisines']} <br> Ratings: {row['rate']}\",\n",
    "        icon=folium.Icon(color='purple')\n",
    "    ).add_to(italian_map)"
   ]
  },
  {
   "cell_type": "markdown",
   "id": "ced918a3",
   "metadata": {},
   "source": [
    "#### Save the map as an HTML file"
   ]
  },
  {
   "cell_type": "code",
   "execution_count": 103,
   "id": "2224c640",
   "metadata": {},
   "outputs": [],
   "source": [
    "italian_map.save('italian_restaurants_map.html')"
   ]
  },
  {
   "cell_type": "markdown",
   "id": "c6dc75f2",
   "metadata": {},
   "source": [
    "### Display using IPython"
   ]
  },
  {
   "cell_type": "code",
   "execution_count": 248,
   "id": "12b7d80f",
   "metadata": {},
   "outputs": [
    {
     "data": {
      "text/html": [
       "\n",
       "        <iframe\n",
       "            width=\"800\"\n",
       "            height=\"600\"\n",
       "            src=\"italian_restaurants_map.html\"\n",
       "            frameborder=\"0\"\n",
       "            allowfullscreen\n",
       "            \n",
       "        ></iframe>\n",
       "        "
      ],
      "text/plain": [
       "<IPython.lib.display.IFrame at 0x2848afd1dc0>"
      ]
     },
     "execution_count": 248,
     "metadata": {},
     "output_type": "execute_result"
    }
   ],
   "source": [
    "IFrame('italian_restaurants_map.html', width=800, height=600)"
   ]
  },
  {
   "cell_type": "markdown",
   "id": "81c36668",
   "metadata": {},
   "source": [
    "## Restaurant Density Map"
   ]
  },
  {
   "cell_type": "markdown",
   "id": "7827333f",
   "metadata": {},
   "source": [
    "#### Initialize the map centered on Bangalore"
   ]
  },
  {
   "cell_type": "code",
   "execution_count": 105,
   "id": "80c24369",
   "metadata": {},
   "outputs": [],
   "source": [
    "bangalore_center = [12.9716, 77.5946]\n",
    "restaurant_map = folium.Map(location=bangalore_center, zoom_start=12)"
   ]
  },
  {
   "cell_type": "markdown",
   "id": "e09d352c",
   "metadata": {},
   "source": [
    "#### Create a MarkerCluster"
   ]
  },
  {
   "cell_type": "code",
   "execution_count": 106,
   "id": "b4ae2cf6",
   "metadata": {},
   "outputs": [],
   "source": [
    "marker_cluster = MarkerCluster().add_to(restaurant_map)"
   ]
  },
  {
   "cell_type": "markdown",
   "id": "09241553",
   "metadata": {},
   "source": [
    "#### Add restaurant markers to the map"
   ]
  },
  {
   "cell_type": "code",
   "execution_count": 107,
   "id": "3631bb61",
   "metadata": {},
   "outputs": [],
   "source": [
    "df_valid = df_merged.dropna(subset=['Latitude', 'Longitude'])"
   ]
  },
  {
   "cell_type": "code",
   "execution_count": 108,
   "id": "a559b8e3",
   "metadata": {},
   "outputs": [],
   "source": [
    "for _, row in df_valid.iterrows():\n",
    "    folium.Marker(\n",
    "        location=[row['Latitude'], row['Longitude']],\n",
    "        popup=f\"<b>City:</b> {row['listed_incity']}<br> <b>Rating:</b> {row['rate']}<br> <b>Cost for Two:</b> ₹{row['approx_costfor_two_people']}\"\n",
    "    ).add_to(marker_cluster)"
   ]
  },
  {
   "cell_type": "markdown",
   "id": "4968560c",
   "metadata": {},
   "source": [
    "#### Save the map as an HTML file"
   ]
  },
  {
   "cell_type": "code",
   "execution_count": 109,
   "id": "84749dd9",
   "metadata": {},
   "outputs": [],
   "source": [
    "restaurant_map.save('restaurant_density_map.html')"
   ]
  },
  {
   "cell_type": "code",
   "execution_count": 249,
   "id": "930f8a79",
   "metadata": {},
   "outputs": [
    {
     "data": {
      "text/html": [
       "\n",
       "        <iframe\n",
       "            width=\"800\"\n",
       "            height=\"600\"\n",
       "            src=\"restaurant_density_map.html\"\n",
       "            frameborder=\"0\"\n",
       "            allowfullscreen\n",
       "            \n",
       "        ></iframe>\n",
       "        "
      ],
      "text/plain": [
       "<IPython.lib.display.IFrame at 0x2848afd1be0>"
      ]
     },
     "execution_count": 249,
     "metadata": {},
     "output_type": "execute_result"
    }
   ],
   "source": [
    "IFrame('restaurant_density_map.html', width=800, height=600)"
   ]
  },
  {
   "cell_type": "markdown",
   "id": "fd0660be",
   "metadata": {},
   "source": [
    "## MCQs"
   ]
  },
  {
   "cell_type": "code",
   "execution_count": 144,
   "id": "a01aaab2",
   "metadata": {},
   "outputs": [],
   "source": [
    "mcq_df = pd.read_csv('cleaned_zomato_details.csv')"
   ]
  },
  {
   "cell_type": "code",
   "execution_count": 145,
   "id": "375915c0",
   "metadata": {},
   "outputs": [
    {
     "data": {
      "text/html": [
       "<div>\n",
       "<style scoped>\n",
       "    .dataframe tbody tr th:only-of-type {\n",
       "        vertical-align: middle;\n",
       "    }\n",
       "\n",
       "    .dataframe tbody tr th {\n",
       "        vertical-align: top;\n",
       "    }\n",
       "\n",
       "    .dataframe thead th {\n",
       "        text-align: right;\n",
       "    }\n",
       "</style>\n",
       "<table border=\"1\" class=\"dataframe\">\n",
       "  <thead>\n",
       "    <tr style=\"text-align: right;\">\n",
       "      <th></th>\n",
       "      <th>online_order</th>\n",
       "      <th>book_table</th>\n",
       "      <th>rate</th>\n",
       "      <th>votes</th>\n",
       "      <th>rest_type</th>\n",
       "      <th>dish_liked</th>\n",
       "      <th>cuisines</th>\n",
       "      <th>approx_costfor_two_people</th>\n",
       "      <th>listed_intype</th>\n",
       "      <th>listed_incity</th>\n",
       "    </tr>\n",
       "  </thead>\n",
       "  <tbody>\n",
       "    <tr>\n",
       "      <th>0</th>\n",
       "      <td>1</td>\n",
       "      <td>1</td>\n",
       "      <td>4.1</td>\n",
       "      <td>775</td>\n",
       "      <td>Casual Dining</td>\n",
       "      <td>Pasta, Lunch Buffet, Masala Papad, Paneer Laja...</td>\n",
       "      <td>North Indian, Mughlai, Chinese</td>\n",
       "      <td>800</td>\n",
       "      <td>Buffet</td>\n",
       "      <td>Banashankari</td>\n",
       "    </tr>\n",
       "    <tr>\n",
       "      <th>1</th>\n",
       "      <td>1</td>\n",
       "      <td>0</td>\n",
       "      <td>4.1</td>\n",
       "      <td>787</td>\n",
       "      <td>Casual Dining</td>\n",
       "      <td>Momos, Lunch Buffet, Chocolate Nirvana, Thai G...</td>\n",
       "      <td>Chinese, North Indian, Thai</td>\n",
       "      <td>800</td>\n",
       "      <td>Buffet</td>\n",
       "      <td>Banashankari</td>\n",
       "    </tr>\n",
       "    <tr>\n",
       "      <th>2</th>\n",
       "      <td>1</td>\n",
       "      <td>0</td>\n",
       "      <td>3.8</td>\n",
       "      <td>918</td>\n",
       "      <td>Cafe, Casual Dining</td>\n",
       "      <td>Churros, Cannelloni, Minestrone Soup, Hot Choc...</td>\n",
       "      <td>Cafe, Mexican, Italian</td>\n",
       "      <td>800</td>\n",
       "      <td>Buffet</td>\n",
       "      <td>Banashankari</td>\n",
       "    </tr>\n",
       "    <tr>\n",
       "      <th>3</th>\n",
       "      <td>0</td>\n",
       "      <td>0</td>\n",
       "      <td>3.7</td>\n",
       "      <td>88</td>\n",
       "      <td>Quick Bites</td>\n",
       "      <td>Masala Dosa</td>\n",
       "      <td>South Indian, North Indian</td>\n",
       "      <td>300</td>\n",
       "      <td>Buffet</td>\n",
       "      <td>Banashankari</td>\n",
       "    </tr>\n",
       "    <tr>\n",
       "      <th>4</th>\n",
       "      <td>0</td>\n",
       "      <td>0</td>\n",
       "      <td>3.8</td>\n",
       "      <td>166</td>\n",
       "      <td>Casual Dining</td>\n",
       "      <td>Panipuri, Gol Gappe</td>\n",
       "      <td>North Indian, Rajasthani</td>\n",
       "      <td>600</td>\n",
       "      <td>Buffet</td>\n",
       "      <td>Banashankari</td>\n",
       "    </tr>\n",
       "  </tbody>\n",
       "</table>\n",
       "</div>"
      ],
      "text/plain": [
       "   online_order  book_table  rate  votes            rest_type  \\\n",
       "0             1           1   4.1    775        Casual Dining   \n",
       "1             1           0   4.1    787        Casual Dining   \n",
       "2             1           0   3.8    918  Cafe, Casual Dining   \n",
       "3             0           0   3.7     88          Quick Bites   \n",
       "4             0           0   3.8    166        Casual Dining   \n",
       "\n",
       "                                          dish_liked  \\\n",
       "0  Pasta, Lunch Buffet, Masala Papad, Paneer Laja...   \n",
       "1  Momos, Lunch Buffet, Chocolate Nirvana, Thai G...   \n",
       "2  Churros, Cannelloni, Minestrone Soup, Hot Choc...   \n",
       "3                                        Masala Dosa   \n",
       "4                                Panipuri, Gol Gappe   \n",
       "\n",
       "                         cuisines  approx_costfor_two_people listed_intype  \\\n",
       "0  North Indian, Mughlai, Chinese                        800        Buffet   \n",
       "1     Chinese, North Indian, Thai                        800        Buffet   \n",
       "2          Cafe, Mexican, Italian                        800        Buffet   \n",
       "3      South Indian, North Indian                        300        Buffet   \n",
       "4        North Indian, Rajasthani                        600        Buffet   \n",
       "\n",
       "  listed_incity  \n",
       "0  Banashankari  \n",
       "1  Banashankari  \n",
       "2  Banashankari  \n",
       "3  Banashankari  \n",
       "4  Banashankari  "
      ]
     },
     "execution_count": 145,
     "metadata": {},
     "output_type": "execute_result"
    }
   ],
   "source": [
    "mcq_df.head()"
   ]
  },
  {
   "cell_type": "markdown",
   "id": "ee712524",
   "metadata": {},
   "source": [
    "### Q1: What is the shape of the given dataset?"
   ]
  },
  {
   "cell_type": "code",
   "execution_count": 146,
   "id": "dfcbf839",
   "metadata": {},
   "outputs": [
    {
     "data": {
      "text/plain": [
       "(51717, 10)"
      ]
     },
     "execution_count": 146,
     "metadata": {},
     "output_type": "execute_result"
    }
   ],
   "source": [
    "mcq_df.shape"
   ]
  },
  {
   "cell_type": "markdown",
   "id": "255e0a24",
   "metadata": {},
   "source": [
    "### Q2: How many restaurants serve North Indian cuisine?"
   ]
  },
  {
   "cell_type": "code",
   "execution_count": 147,
   "id": "2c10c09b",
   "metadata": {},
   "outputs": [],
   "source": [
    "north_indian_restaurants = mcq_df[mcq_df['cuisines'].str.contains('North Indian', na=False)]"
   ]
  },
  {
   "cell_type": "code",
   "execution_count": 148,
   "id": "916326cc",
   "metadata": {},
   "outputs": [
    {
     "data": {
      "text/plain": [
       "21085"
      ]
     },
     "execution_count": 148,
     "metadata": {},
     "output_type": "execute_result"
    }
   ],
   "source": [
    "north_indian_restaurants.shape[0]"
   ]
  },
  {
   "cell_type": "markdown",
   "id": "0207ae5c",
   "metadata": {},
   "source": [
    "### Q3: What cuisine is most commonly offered by restaurants in Bangalore?"
   ]
  },
  {
   "cell_type": "code",
   "execution_count": 149,
   "id": "2205d468",
   "metadata": {
    "scrolled": true
   },
   "outputs": [
    {
     "data": {
      "text/plain": [
       "{'BTM',\n",
       " 'Banashankari',\n",
       " 'Bannerghatta Road',\n",
       " 'Basavanagudi',\n",
       " 'Bellandur',\n",
       " 'Brigade Road',\n",
       " 'Brookefield',\n",
       " 'Church Street',\n",
       " 'Electronic City',\n",
       " 'Frazer Town',\n",
       " 'HSR',\n",
       " 'Indiranagar',\n",
       " 'JP Nagar',\n",
       " 'Jayanagar',\n",
       " 'Kalyan Nagar',\n",
       " 'Kammanahalli',\n",
       " 'Koramangala 4th Block',\n",
       " 'Koramangala 5th Block',\n",
       " 'Koramangala 6th Block',\n",
       " 'Koramangala 7th Block',\n",
       " 'Lavelle Road',\n",
       " 'MG Road',\n",
       " 'Malleshwaram',\n",
       " 'Marathahalli',\n",
       " 'New BEL Road',\n",
       " 'Old Airport Road',\n",
       " 'Rajajinagar',\n",
       " 'Residency Road',\n",
       " 'Sarjapur Road',\n",
       " 'Whitefield'}"
      ]
     },
     "execution_count": 149,
     "metadata": {},
     "output_type": "execute_result"
    }
   ],
   "source": [
    "set(mcq_df['listed_incity'])"
   ]
  },
  {
   "cell_type": "code",
   "execution_count": 150,
   "id": "c45de73b",
   "metadata": {},
   "outputs": [],
   "source": [
    "mcq_df['cuisines'] = mcq_df['cuisines'].str.strip().str.split(', ')"
   ]
  },
  {
   "cell_type": "code",
   "execution_count": 151,
   "id": "f5eca5b8",
   "metadata": {},
   "outputs": [
    {
     "data": {
      "text/plain": [
       "0                [North Indian, Mughlai, Chinese]\n",
       "1                   [Chinese, North Indian, Thai]\n",
       "2                        [Cafe, Mexican, Italian]\n",
       "3                    [South Indian, North Indian]\n",
       "4                      [North Indian, Rajasthani]\n",
       "                           ...                   \n",
       "51712                               [Continental]\n",
       "51713                               [Finger Food]\n",
       "51714                               [Finger Food]\n",
       "51715                               [Finger Food]\n",
       "51716    [Finger Food, North Indian, Continental]\n",
       "Name: cuisines, Length: 51717, dtype: object"
      ]
     },
     "execution_count": 151,
     "metadata": {},
     "output_type": "execute_result"
    }
   ],
   "source": [
    "mcq_df['cuisines']"
   ]
  },
  {
   "cell_type": "code",
   "execution_count": 153,
   "id": "9f1587a5",
   "metadata": {},
   "outputs": [],
   "source": [
    "df_exploded = mcq_df.explode('cuisines')"
   ]
  },
  {
   "cell_type": "code",
   "execution_count": 154,
   "id": "c08c2291",
   "metadata": {},
   "outputs": [
    {
     "data": {
      "text/html": [
       "<div>\n",
       "<style scoped>\n",
       "    .dataframe tbody tr th:only-of-type {\n",
       "        vertical-align: middle;\n",
       "    }\n",
       "\n",
       "    .dataframe tbody tr th {\n",
       "        vertical-align: top;\n",
       "    }\n",
       "\n",
       "    .dataframe thead th {\n",
       "        text-align: right;\n",
       "    }\n",
       "</style>\n",
       "<table border=\"1\" class=\"dataframe\">\n",
       "  <thead>\n",
       "    <tr style=\"text-align: right;\">\n",
       "      <th></th>\n",
       "      <th>online_order</th>\n",
       "      <th>book_table</th>\n",
       "      <th>rate</th>\n",
       "      <th>votes</th>\n",
       "      <th>rest_type</th>\n",
       "      <th>dish_liked</th>\n",
       "      <th>cuisines</th>\n",
       "      <th>approx_costfor_two_people</th>\n",
       "      <th>listed_intype</th>\n",
       "      <th>listed_incity</th>\n",
       "    </tr>\n",
       "  </thead>\n",
       "  <tbody>\n",
       "    <tr>\n",
       "      <th>0</th>\n",
       "      <td>1</td>\n",
       "      <td>1</td>\n",
       "      <td>4.1</td>\n",
       "      <td>775</td>\n",
       "      <td>Casual Dining</td>\n",
       "      <td>Pasta, Lunch Buffet, Masala Papad, Paneer Laja...</td>\n",
       "      <td>North Indian</td>\n",
       "      <td>800</td>\n",
       "      <td>Buffet</td>\n",
       "      <td>Banashankari</td>\n",
       "    </tr>\n",
       "    <tr>\n",
       "      <th>0</th>\n",
       "      <td>1</td>\n",
       "      <td>1</td>\n",
       "      <td>4.1</td>\n",
       "      <td>775</td>\n",
       "      <td>Casual Dining</td>\n",
       "      <td>Pasta, Lunch Buffet, Masala Papad, Paneer Laja...</td>\n",
       "      <td>Mughlai</td>\n",
       "      <td>800</td>\n",
       "      <td>Buffet</td>\n",
       "      <td>Banashankari</td>\n",
       "    </tr>\n",
       "    <tr>\n",
       "      <th>0</th>\n",
       "      <td>1</td>\n",
       "      <td>1</td>\n",
       "      <td>4.1</td>\n",
       "      <td>775</td>\n",
       "      <td>Casual Dining</td>\n",
       "      <td>Pasta, Lunch Buffet, Masala Papad, Paneer Laja...</td>\n",
       "      <td>Chinese</td>\n",
       "      <td>800</td>\n",
       "      <td>Buffet</td>\n",
       "      <td>Banashankari</td>\n",
       "    </tr>\n",
       "    <tr>\n",
       "      <th>1</th>\n",
       "      <td>1</td>\n",
       "      <td>0</td>\n",
       "      <td>4.1</td>\n",
       "      <td>787</td>\n",
       "      <td>Casual Dining</td>\n",
       "      <td>Momos, Lunch Buffet, Chocolate Nirvana, Thai G...</td>\n",
       "      <td>Chinese</td>\n",
       "      <td>800</td>\n",
       "      <td>Buffet</td>\n",
       "      <td>Banashankari</td>\n",
       "    </tr>\n",
       "    <tr>\n",
       "      <th>1</th>\n",
       "      <td>1</td>\n",
       "      <td>0</td>\n",
       "      <td>4.1</td>\n",
       "      <td>787</td>\n",
       "      <td>Casual Dining</td>\n",
       "      <td>Momos, Lunch Buffet, Chocolate Nirvana, Thai G...</td>\n",
       "      <td>North Indian</td>\n",
       "      <td>800</td>\n",
       "      <td>Buffet</td>\n",
       "      <td>Banashankari</td>\n",
       "    </tr>\n",
       "    <tr>\n",
       "      <th>...</th>\n",
       "      <td>...</td>\n",
       "      <td>...</td>\n",
       "      <td>...</td>\n",
       "      <td>...</td>\n",
       "      <td>...</td>\n",
       "      <td>...</td>\n",
       "      <td>...</td>\n",
       "      <td>...</td>\n",
       "      <td>...</td>\n",
       "      <td>...</td>\n",
       "    </tr>\n",
       "    <tr>\n",
       "      <th>51714</th>\n",
       "      <td>0</td>\n",
       "      <td>0</td>\n",
       "      <td>3.7</td>\n",
       "      <td>0</td>\n",
       "      <td>Bar</td>\n",
       "      <td>Not Available</td>\n",
       "      <td>Finger Food</td>\n",
       "      <td>2000</td>\n",
       "      <td>Pubs and bars</td>\n",
       "      <td>Whitefield</td>\n",
       "    </tr>\n",
       "    <tr>\n",
       "      <th>51715</th>\n",
       "      <td>0</td>\n",
       "      <td>1</td>\n",
       "      <td>4.3</td>\n",
       "      <td>236</td>\n",
       "      <td>Bar</td>\n",
       "      <td>Cocktails, Pizza, Buttermilk</td>\n",
       "      <td>Finger Food</td>\n",
       "      <td>2500</td>\n",
       "      <td>Pubs and bars</td>\n",
       "      <td>Whitefield</td>\n",
       "    </tr>\n",
       "    <tr>\n",
       "      <th>51716</th>\n",
       "      <td>0</td>\n",
       "      <td>0</td>\n",
       "      <td>3.4</td>\n",
       "      <td>13</td>\n",
       "      <td>Bar, Casual Dining</td>\n",
       "      <td>Not Available</td>\n",
       "      <td>Finger Food</td>\n",
       "      <td>1500</td>\n",
       "      <td>Pubs and bars</td>\n",
       "      <td>Whitefield</td>\n",
       "    </tr>\n",
       "    <tr>\n",
       "      <th>51716</th>\n",
       "      <td>0</td>\n",
       "      <td>0</td>\n",
       "      <td>3.4</td>\n",
       "      <td>13</td>\n",
       "      <td>Bar, Casual Dining</td>\n",
       "      <td>Not Available</td>\n",
       "      <td>North Indian</td>\n",
       "      <td>1500</td>\n",
       "      <td>Pubs and bars</td>\n",
       "      <td>Whitefield</td>\n",
       "    </tr>\n",
       "    <tr>\n",
       "      <th>51716</th>\n",
       "      <td>0</td>\n",
       "      <td>0</td>\n",
       "      <td>3.4</td>\n",
       "      <td>13</td>\n",
       "      <td>Bar, Casual Dining</td>\n",
       "      <td>Not Available</td>\n",
       "      <td>Continental</td>\n",
       "      <td>1500</td>\n",
       "      <td>Pubs and bars</td>\n",
       "      <td>Whitefield</td>\n",
       "    </tr>\n",
       "  </tbody>\n",
       "</table>\n",
       "<p>126864 rows × 10 columns</p>\n",
       "</div>"
      ],
      "text/plain": [
       "       online_order  book_table  rate  votes           rest_type  \\\n",
       "0                 1           1   4.1    775       Casual Dining   \n",
       "0                 1           1   4.1    775       Casual Dining   \n",
       "0                 1           1   4.1    775       Casual Dining   \n",
       "1                 1           0   4.1    787       Casual Dining   \n",
       "1                 1           0   4.1    787       Casual Dining   \n",
       "...             ...         ...   ...    ...                 ...   \n",
       "51714             0           0   3.7      0                 Bar   \n",
       "51715             0           1   4.3    236                 Bar   \n",
       "51716             0           0   3.4     13  Bar, Casual Dining   \n",
       "51716             0           0   3.4     13  Bar, Casual Dining   \n",
       "51716             0           0   3.4     13  Bar, Casual Dining   \n",
       "\n",
       "                                              dish_liked      cuisines  \\\n",
       "0      Pasta, Lunch Buffet, Masala Papad, Paneer Laja...  North Indian   \n",
       "0      Pasta, Lunch Buffet, Masala Papad, Paneer Laja...       Mughlai   \n",
       "0      Pasta, Lunch Buffet, Masala Papad, Paneer Laja...       Chinese   \n",
       "1      Momos, Lunch Buffet, Chocolate Nirvana, Thai G...       Chinese   \n",
       "1      Momos, Lunch Buffet, Chocolate Nirvana, Thai G...  North Indian   \n",
       "...                                                  ...           ...   \n",
       "51714                                      Not Available   Finger Food   \n",
       "51715                       Cocktails, Pizza, Buttermilk   Finger Food   \n",
       "51716                                      Not Available   Finger Food   \n",
       "51716                                      Not Available  North Indian   \n",
       "51716                                      Not Available   Continental   \n",
       "\n",
       "       approx_costfor_two_people  listed_intype listed_incity  \n",
       "0                            800         Buffet  Banashankari  \n",
       "0                            800         Buffet  Banashankari  \n",
       "0                            800         Buffet  Banashankari  \n",
       "1                            800         Buffet  Banashankari  \n",
       "1                            800         Buffet  Banashankari  \n",
       "...                          ...            ...           ...  \n",
       "51714                       2000  Pubs and bars    Whitefield  \n",
       "51715                       2500  Pubs and bars    Whitefield  \n",
       "51716                       1500  Pubs and bars    Whitefield  \n",
       "51716                       1500  Pubs and bars    Whitefield  \n",
       "51716                       1500  Pubs and bars    Whitefield  \n",
       "\n",
       "[126864 rows x 10 columns]"
      ]
     },
     "execution_count": 154,
     "metadata": {},
     "output_type": "execute_result"
    }
   ],
   "source": [
    "df_exploded"
   ]
  },
  {
   "cell_type": "code",
   "execution_count": 155,
   "id": "792eb98d",
   "metadata": {},
   "outputs": [],
   "source": [
    "df_exploded = df_exploded[df_exploded['cuisines'].str.strip() != '']"
   ]
  },
  {
   "cell_type": "code",
   "execution_count": 156,
   "id": "073c019f",
   "metadata": {},
   "outputs": [],
   "source": [
    "most_common = df_exploded['cuisines'].value_counts().idxmax()\n",
    "count = df_exploded['cuisines'].value_counts().max()"
   ]
  },
  {
   "cell_type": "code",
   "execution_count": 158,
   "id": "53a095d5",
   "metadata": {},
   "outputs": [
    {
     "name": "stdout",
     "output_type": "stream",
     "text": [
      "Most common cuisine in Bangalore: North Indian (21085 restaurants)\n"
     ]
    }
   ],
   "source": [
    "print(f\"Most common cuisine in Bangalore: {most_common} ({count} restaurants)\")"
   ]
  },
  {
   "cell_type": "markdown",
   "id": "a2e6227d",
   "metadata": {},
   "source": [
    "### Q4: Which locality in Bangalore has the highest average cost for dining (for two people)?"
   ]
  },
  {
   "cell_type": "code",
   "execution_count": 159,
   "id": "ff692c98",
   "metadata": {},
   "outputs": [],
   "source": [
    "avg_cost_by_locality = (\n",
    "    mcq_df.groupby('listed_incity')['approx_costfor_two_people']\n",
    "    .mean()\n",
    "    .sort_values(ascending=False)\n",
    ")"
   ]
  },
  {
   "cell_type": "code",
   "execution_count": 160,
   "id": "ecff22eb",
   "metadata": {},
   "outputs": [],
   "source": [
    "highest_locality = avg_cost_by_locality.idxmax()\n",
    "highest_cost = avg_cost_by_locality.max()"
   ]
  },
  {
   "cell_type": "code",
   "execution_count": 161,
   "id": "37efcb2c",
   "metadata": {},
   "outputs": [
    {
     "name": "stdout",
     "output_type": "stream",
     "text": [
      "Locality with the highest average cost for two: Church Street (₹770.36)\n"
     ]
    }
   ],
   "source": [
    "print(f\"Locality with the highest average cost for two: {highest_locality} (₹{highest_cost:.2f})\")"
   ]
  },
  {
   "cell_type": "markdown",
   "id": "e90b9334",
   "metadata": {},
   "source": [
    "### Q5: Which restaurant type has the top rating with over 1000 votes?"
   ]
  },
  {
   "cell_type": "code",
   "execution_count": 162,
   "id": "f56fede3",
   "metadata": {},
   "outputs": [],
   "source": [
    "df_filtered = df[df['votes'] > 1000]"
   ]
  },
  {
   "cell_type": "code",
   "execution_count": 163,
   "id": "e12911c0",
   "metadata": {},
   "outputs": [],
   "source": [
    "avg_rating_by_type = (\n",
    "    df_filtered.groupby('rest_type')['rate']\n",
    "    .mean()\n",
    "    .sort_values(ascending=False)\n",
    ")"
   ]
  },
  {
   "cell_type": "code",
   "execution_count": 164,
   "id": "167e6b7d",
   "metadata": {},
   "outputs": [],
   "source": [
    "top_type = avg_rating_by_type.idxmax()\n",
    "top_rating = avg_rating_by_type.max()\n"
   ]
  },
  {
   "cell_type": "code",
   "execution_count": 165,
   "id": "b778b9c7",
   "metadata": {},
   "outputs": [
    {
     "name": "stdout",
     "output_type": "stream",
     "text": [
      "Top rated restaurant type with over 1000 votes: Bakery (Avg rating: 4.80)\n"
     ]
    }
   ],
   "source": [
    "print(f\"Top rated restaurant type with over 1000 votes: {top_type} (Avg rating: {top_rating:.2f})\")"
   ]
  },
  {
   "cell_type": "markdown",
   "id": "030eb8d9",
   "metadata": {},
   "source": [
    "### Q6: How much does it cost at minimum to eat out in Bangalore?\n"
   ]
  },
  {
   "cell_type": "code",
   "execution_count": 167,
   "id": "86acd037",
   "metadata": {},
   "outputs": [],
   "source": [
    "min_cost = mcq_df['approx_costfor_two_people'].min()"
   ]
  },
  {
   "cell_type": "code",
   "execution_count": 168,
   "id": "cf166580",
   "metadata": {},
   "outputs": [
    {
     "name": "stdout",
     "output_type": "stream",
     "text": [
      "Minimum cost for dining out in Bangalore: ₹40.00\n"
     ]
    }
   ],
   "source": [
    "print(f\"Minimum cost for dining out in Bangalore: ₹{min_cost:.2f}\")"
   ]
  },
  {
   "cell_type": "markdown",
   "id": "567e0506",
   "metadata": {},
   "source": [
    "### Q7: What percentage of total online orders is received by restaurants in Banashankari?"
   ]
  },
  {
   "cell_type": "code",
   "execution_count": 169,
   "id": "67566200",
   "metadata": {},
   "outputs": [],
   "source": [
    "banashankari_df = mcq_df[mcq_df['listed_incity'].str.lower() == 'banashankari']"
   ]
  },
  {
   "cell_type": "code",
   "execution_count": 170,
   "id": "80a7e167",
   "metadata": {},
   "outputs": [
    {
     "data": {
      "text/html": [
       "<div>\n",
       "<style scoped>\n",
       "    .dataframe tbody tr th:only-of-type {\n",
       "        vertical-align: middle;\n",
       "    }\n",
       "\n",
       "    .dataframe tbody tr th {\n",
       "        vertical-align: top;\n",
       "    }\n",
       "\n",
       "    .dataframe thead th {\n",
       "        text-align: right;\n",
       "    }\n",
       "</style>\n",
       "<table border=\"1\" class=\"dataframe\">\n",
       "  <thead>\n",
       "    <tr style=\"text-align: right;\">\n",
       "      <th></th>\n",
       "      <th>online_order</th>\n",
       "      <th>book_table</th>\n",
       "      <th>rate</th>\n",
       "      <th>votes</th>\n",
       "      <th>rest_type</th>\n",
       "      <th>dish_liked</th>\n",
       "      <th>cuisines</th>\n",
       "      <th>approx_costfor_two_people</th>\n",
       "      <th>listed_intype</th>\n",
       "      <th>listed_incity</th>\n",
       "    </tr>\n",
       "  </thead>\n",
       "  <tbody>\n",
       "    <tr>\n",
       "      <th>0</th>\n",
       "      <td>1</td>\n",
       "      <td>1</td>\n",
       "      <td>4.1</td>\n",
       "      <td>775</td>\n",
       "      <td>Casual Dining</td>\n",
       "      <td>Pasta, Lunch Buffet, Masala Papad, Paneer Laja...</td>\n",
       "      <td>[North Indian, Mughlai, Chinese]</td>\n",
       "      <td>800</td>\n",
       "      <td>Buffet</td>\n",
       "      <td>Banashankari</td>\n",
       "    </tr>\n",
       "    <tr>\n",
       "      <th>1</th>\n",
       "      <td>1</td>\n",
       "      <td>0</td>\n",
       "      <td>4.1</td>\n",
       "      <td>787</td>\n",
       "      <td>Casual Dining</td>\n",
       "      <td>Momos, Lunch Buffet, Chocolate Nirvana, Thai G...</td>\n",
       "      <td>[Chinese, North Indian, Thai]</td>\n",
       "      <td>800</td>\n",
       "      <td>Buffet</td>\n",
       "      <td>Banashankari</td>\n",
       "    </tr>\n",
       "    <tr>\n",
       "      <th>2</th>\n",
       "      <td>1</td>\n",
       "      <td>0</td>\n",
       "      <td>3.8</td>\n",
       "      <td>918</td>\n",
       "      <td>Cafe, Casual Dining</td>\n",
       "      <td>Churros, Cannelloni, Minestrone Soup, Hot Choc...</td>\n",
       "      <td>[Cafe, Mexican, Italian]</td>\n",
       "      <td>800</td>\n",
       "      <td>Buffet</td>\n",
       "      <td>Banashankari</td>\n",
       "    </tr>\n",
       "    <tr>\n",
       "      <th>3</th>\n",
       "      <td>0</td>\n",
       "      <td>0</td>\n",
       "      <td>3.7</td>\n",
       "      <td>88</td>\n",
       "      <td>Quick Bites</td>\n",
       "      <td>Masala Dosa</td>\n",
       "      <td>[South Indian, North Indian]</td>\n",
       "      <td>300</td>\n",
       "      <td>Buffet</td>\n",
       "      <td>Banashankari</td>\n",
       "    </tr>\n",
       "    <tr>\n",
       "      <th>4</th>\n",
       "      <td>0</td>\n",
       "      <td>0</td>\n",
       "      <td>3.8</td>\n",
       "      <td>166</td>\n",
       "      <td>Casual Dining</td>\n",
       "      <td>Panipuri, Gol Gappe</td>\n",
       "      <td>[North Indian, Rajasthani]</td>\n",
       "      <td>600</td>\n",
       "      <td>Buffet</td>\n",
       "      <td>Banashankari</td>\n",
       "    </tr>\n",
       "    <tr>\n",
       "      <th>...</th>\n",
       "      <td>...</td>\n",
       "      <td>...</td>\n",
       "      <td>...</td>\n",
       "      <td>...</td>\n",
       "      <td>...</td>\n",
       "      <td>...</td>\n",
       "      <td>...</td>\n",
       "      <td>...</td>\n",
       "      <td>...</td>\n",
       "      <td>...</td>\n",
       "    </tr>\n",
       "    <tr>\n",
       "      <th>858</th>\n",
       "      <td>0</td>\n",
       "      <td>0</td>\n",
       "      <td>3.3</td>\n",
       "      <td>62</td>\n",
       "      <td>Bar</td>\n",
       "      <td>Chilli Chicken</td>\n",
       "      <td>[South Indian, North Indian, Chinese]</td>\n",
       "      <td>800</td>\n",
       "      <td>Drinks &amp; nightlife</td>\n",
       "      <td>Banashankari</td>\n",
       "    </tr>\n",
       "    <tr>\n",
       "      <th>859</th>\n",
       "      <td>0</td>\n",
       "      <td>0</td>\n",
       "      <td>3.1</td>\n",
       "      <td>30</td>\n",
       "      <td>Bar</td>\n",
       "      <td>Not Available</td>\n",
       "      <td>[Chinese, North Indian]</td>\n",
       "      <td>1000</td>\n",
       "      <td>Drinks &amp; nightlife</td>\n",
       "      <td>Banashankari</td>\n",
       "    </tr>\n",
       "    <tr>\n",
       "      <th>860</th>\n",
       "      <td>0</td>\n",
       "      <td>0</td>\n",
       "      <td>3.7</td>\n",
       "      <td>0</td>\n",
       "      <td>Bar</td>\n",
       "      <td>Not Available</td>\n",
       "      <td>[Fast Food, Finger Food]</td>\n",
       "      <td>500</td>\n",
       "      <td>Drinks &amp; nightlife</td>\n",
       "      <td>Banashankari</td>\n",
       "    </tr>\n",
       "    <tr>\n",
       "      <th>861</th>\n",
       "      <td>0</td>\n",
       "      <td>0</td>\n",
       "      <td>3.0</td>\n",
       "      <td>98</td>\n",
       "      <td>Bar</td>\n",
       "      <td>Paneer Tikka, Dal Kichadi, French Fries</td>\n",
       "      <td>[North Indian, Chinese]</td>\n",
       "      <td>800</td>\n",
       "      <td>Drinks &amp; nightlife</td>\n",
       "      <td>Banashankari</td>\n",
       "    </tr>\n",
       "    <tr>\n",
       "      <th>862</th>\n",
       "      <td>0</td>\n",
       "      <td>0</td>\n",
       "      <td>2.7</td>\n",
       "      <td>377</td>\n",
       "      <td>Pub</td>\n",
       "      <td>Thai Chicken, Chicken Lollipop, Cocktails, Jee...</td>\n",
       "      <td>[North Indian, Chinese, Thai]</td>\n",
       "      <td>1100</td>\n",
       "      <td>Drinks &amp; nightlife</td>\n",
       "      <td>Banashankari</td>\n",
       "    </tr>\n",
       "  </tbody>\n",
       "</table>\n",
       "<p>863 rows × 10 columns</p>\n",
       "</div>"
      ],
      "text/plain": [
       "     online_order  book_table  rate  votes            rest_type  \\\n",
       "0               1           1   4.1    775        Casual Dining   \n",
       "1               1           0   4.1    787        Casual Dining   \n",
       "2               1           0   3.8    918  Cafe, Casual Dining   \n",
       "3               0           0   3.7     88          Quick Bites   \n",
       "4               0           0   3.8    166        Casual Dining   \n",
       "..            ...         ...   ...    ...                  ...   \n",
       "858             0           0   3.3     62                  Bar   \n",
       "859             0           0   3.1     30                  Bar   \n",
       "860             0           0   3.7      0                  Bar   \n",
       "861             0           0   3.0     98                  Bar   \n",
       "862             0           0   2.7    377                  Pub   \n",
       "\n",
       "                                            dish_liked  \\\n",
       "0    Pasta, Lunch Buffet, Masala Papad, Paneer Laja...   \n",
       "1    Momos, Lunch Buffet, Chocolate Nirvana, Thai G...   \n",
       "2    Churros, Cannelloni, Minestrone Soup, Hot Choc...   \n",
       "3                                          Masala Dosa   \n",
       "4                                  Panipuri, Gol Gappe   \n",
       "..                                                 ...   \n",
       "858                                     Chilli Chicken   \n",
       "859                                      Not Available   \n",
       "860                                      Not Available   \n",
       "861            Paneer Tikka, Dal Kichadi, French Fries   \n",
       "862  Thai Chicken, Chicken Lollipop, Cocktails, Jee...   \n",
       "\n",
       "                                  cuisines  approx_costfor_two_people  \\\n",
       "0         [North Indian, Mughlai, Chinese]                        800   \n",
       "1            [Chinese, North Indian, Thai]                        800   \n",
       "2                 [Cafe, Mexican, Italian]                        800   \n",
       "3             [South Indian, North Indian]                        300   \n",
       "4               [North Indian, Rajasthani]                        600   \n",
       "..                                     ...                        ...   \n",
       "858  [South Indian, North Indian, Chinese]                        800   \n",
       "859                [Chinese, North Indian]                       1000   \n",
       "860               [Fast Food, Finger Food]                        500   \n",
       "861                [North Indian, Chinese]                        800   \n",
       "862          [North Indian, Chinese, Thai]                       1100   \n",
       "\n",
       "          listed_intype listed_incity  \n",
       "0                Buffet  Banashankari  \n",
       "1                Buffet  Banashankari  \n",
       "2                Buffet  Banashankari  \n",
       "3                Buffet  Banashankari  \n",
       "4                Buffet  Banashankari  \n",
       "..                  ...           ...  \n",
       "858  Drinks & nightlife  Banashankari  \n",
       "859  Drinks & nightlife  Banashankari  \n",
       "860  Drinks & nightlife  Banashankari  \n",
       "861  Drinks & nightlife  Banashankari  \n",
       "862  Drinks & nightlife  Banashankari  \n",
       "\n",
       "[863 rows x 10 columns]"
      ]
     },
     "execution_count": 170,
     "metadata": {},
     "output_type": "execute_result"
    }
   ],
   "source": [
    "banashankari_df"
   ]
  },
  {
   "cell_type": "code",
   "execution_count": 179,
   "id": "710a7ed6",
   "metadata": {},
   "outputs": [],
   "source": [
    "online_count = banashankari_df[banashankari_df['online_order'] == 1].shape[0]"
   ]
  },
  {
   "cell_type": "code",
   "execution_count": 180,
   "id": "61248749",
   "metadata": {},
   "outputs": [
    {
     "data": {
      "text/plain": [
       "546"
      ]
     },
     "execution_count": 180,
     "metadata": {},
     "output_type": "execute_result"
    }
   ],
   "source": [
    "online_count"
   ]
  },
  {
   "cell_type": "code",
   "execution_count": 244,
   "id": "c3a1c9cc",
   "metadata": {},
   "outputs": [],
   "source": [
    "total_count = banashankari_df.shape[0]"
   ]
  },
  {
   "cell_type": "code",
   "execution_count": 245,
   "id": "34154979",
   "metadata": {},
   "outputs": [
    {
     "data": {
      "text/plain": [
       "863"
      ]
     },
     "execution_count": 245,
     "metadata": {},
     "output_type": "execute_result"
    }
   ],
   "source": [
    "total_count"
   ]
  },
  {
   "cell_type": "code",
   "execution_count": 246,
   "id": "b6531689",
   "metadata": {},
   "outputs": [],
   "source": [
    "percentage = (online_count/total_count)*100"
   ]
  },
  {
   "cell_type": "code",
   "execution_count": 247,
   "id": "e0d9671a",
   "metadata": {},
   "outputs": [
    {
     "data": {
      "text/plain": [
       "63.26767091541136"
      ]
     },
     "execution_count": 247,
     "metadata": {},
     "output_type": "execute_result"
    }
   ],
   "source": [
    "percentage"
   ]
  },
  {
   "cell_type": "markdown",
   "id": "97d6a246",
   "metadata": {},
   "source": [
    "### Q8: Which locality has the most restaurants with over 500 votes and a rating below 3.0?"
   ]
  },
  {
   "cell_type": "code",
   "execution_count": 191,
   "id": "0e1e4d1b",
   "metadata": {},
   "outputs": [],
   "source": [
    "filtered_df = mcq_df[(mcq_df['votes'] > 500) & (mcq_df['rate'] < 3.0)]"
   ]
  },
  {
   "cell_type": "code",
   "execution_count": 192,
   "id": "f22cde79",
   "metadata": {},
   "outputs": [
    {
     "data": {
      "text/plain": [
       "(43, 10)"
      ]
     },
     "execution_count": 192,
     "metadata": {},
     "output_type": "execute_result"
    }
   ],
   "source": [
    "filtered_df.shape"
   ]
  },
  {
   "cell_type": "code",
   "execution_count": 193,
   "id": "4809239f",
   "metadata": {},
   "outputs": [],
   "source": [
    "locality_counts = filtered_df['listed_incity'].value_counts()"
   ]
  },
  {
   "cell_type": "code",
   "execution_count": 194,
   "id": "a7a7b5ea",
   "metadata": {},
   "outputs": [],
   "source": [
    "top_locality = locality_counts.idxmax()\n",
    "top_count = locality_counts.max()"
   ]
  },
  {
   "cell_type": "code",
   "execution_count": 195,
   "id": "9d1e7bfa",
   "metadata": {},
   "outputs": [
    {
     "name": "stdout",
     "output_type": "stream",
     "text": [
      "Locality with most restaurants (votes > 500 & rating < 3.0): Brookefield (8 restaurants)\n"
     ]
    }
   ],
   "source": [
    "print(f\"Locality with most restaurants (votes > 500 & rating < 3.0): {top_locality} ({top_count} restaurants)\")"
   ]
  },
  {
   "cell_type": "markdown",
   "id": "3e1ba750",
   "metadata": {},
   "source": [
    "### Q9: Which locality in Bangalore should Zomato target for expansion based on restaurant type diversity?"
   ]
  },
  {
   "cell_type": "code",
   "execution_count": 196,
   "id": "9945c721",
   "metadata": {},
   "outputs": [],
   "source": [
    "mcq_df['listed_incity'] = mcq_df['listed_incity'].str.strip()\n",
    "mcq_df['rest_type'] = mcq_df['rest_type'].str.strip()"
   ]
  },
  {
   "cell_type": "code",
   "execution_count": 197,
   "id": "f271e9ac",
   "metadata": {},
   "outputs": [
    {
     "data": {
      "text/html": [
       "<div>\n",
       "<style scoped>\n",
       "    .dataframe tbody tr th:only-of-type {\n",
       "        vertical-align: middle;\n",
       "    }\n",
       "\n",
       "    .dataframe tbody tr th {\n",
       "        vertical-align: top;\n",
       "    }\n",
       "\n",
       "    .dataframe thead th {\n",
       "        text-align: right;\n",
       "    }\n",
       "</style>\n",
       "<table border=\"1\" class=\"dataframe\">\n",
       "  <thead>\n",
       "    <tr style=\"text-align: right;\">\n",
       "      <th></th>\n",
       "      <th>online_order</th>\n",
       "      <th>book_table</th>\n",
       "      <th>rate</th>\n",
       "      <th>votes</th>\n",
       "      <th>rest_type</th>\n",
       "      <th>dish_liked</th>\n",
       "      <th>cuisines</th>\n",
       "      <th>approx_costfor_two_people</th>\n",
       "      <th>listed_intype</th>\n",
       "      <th>listed_incity</th>\n",
       "    </tr>\n",
       "  </thead>\n",
       "  <tbody>\n",
       "    <tr>\n",
       "      <th>0</th>\n",
       "      <td>1</td>\n",
       "      <td>1</td>\n",
       "      <td>4.1</td>\n",
       "      <td>775</td>\n",
       "      <td>Casual Dining</td>\n",
       "      <td>Pasta, Lunch Buffet, Masala Papad, Paneer Laja...</td>\n",
       "      <td>[North Indian, Mughlai, Chinese]</td>\n",
       "      <td>800</td>\n",
       "      <td>Buffet</td>\n",
       "      <td>Banashankari</td>\n",
       "    </tr>\n",
       "    <tr>\n",
       "      <th>1</th>\n",
       "      <td>1</td>\n",
       "      <td>0</td>\n",
       "      <td>4.1</td>\n",
       "      <td>787</td>\n",
       "      <td>Casual Dining</td>\n",
       "      <td>Momos, Lunch Buffet, Chocolate Nirvana, Thai G...</td>\n",
       "      <td>[Chinese, North Indian, Thai]</td>\n",
       "      <td>800</td>\n",
       "      <td>Buffet</td>\n",
       "      <td>Banashankari</td>\n",
       "    </tr>\n",
       "    <tr>\n",
       "      <th>2</th>\n",
       "      <td>1</td>\n",
       "      <td>0</td>\n",
       "      <td>3.8</td>\n",
       "      <td>918</td>\n",
       "      <td>Cafe, Casual Dining</td>\n",
       "      <td>Churros, Cannelloni, Minestrone Soup, Hot Choc...</td>\n",
       "      <td>[Cafe, Mexican, Italian]</td>\n",
       "      <td>800</td>\n",
       "      <td>Buffet</td>\n",
       "      <td>Banashankari</td>\n",
       "    </tr>\n",
       "    <tr>\n",
       "      <th>3</th>\n",
       "      <td>0</td>\n",
       "      <td>0</td>\n",
       "      <td>3.7</td>\n",
       "      <td>88</td>\n",
       "      <td>Quick Bites</td>\n",
       "      <td>Masala Dosa</td>\n",
       "      <td>[South Indian, North Indian]</td>\n",
       "      <td>300</td>\n",
       "      <td>Buffet</td>\n",
       "      <td>Banashankari</td>\n",
       "    </tr>\n",
       "    <tr>\n",
       "      <th>4</th>\n",
       "      <td>0</td>\n",
       "      <td>0</td>\n",
       "      <td>3.8</td>\n",
       "      <td>166</td>\n",
       "      <td>Casual Dining</td>\n",
       "      <td>Panipuri, Gol Gappe</td>\n",
       "      <td>[North Indian, Rajasthani]</td>\n",
       "      <td>600</td>\n",
       "      <td>Buffet</td>\n",
       "      <td>Banashankari</td>\n",
       "    </tr>\n",
       "    <tr>\n",
       "      <th>...</th>\n",
       "      <td>...</td>\n",
       "      <td>...</td>\n",
       "      <td>...</td>\n",
       "      <td>...</td>\n",
       "      <td>...</td>\n",
       "      <td>...</td>\n",
       "      <td>...</td>\n",
       "      <td>...</td>\n",
       "      <td>...</td>\n",
       "      <td>...</td>\n",
       "    </tr>\n",
       "    <tr>\n",
       "      <th>51712</th>\n",
       "      <td>0</td>\n",
       "      <td>0</td>\n",
       "      <td>3.6</td>\n",
       "      <td>27</td>\n",
       "      <td>Bar</td>\n",
       "      <td>Not Available</td>\n",
       "      <td>[Continental]</td>\n",
       "      <td>1500</td>\n",
       "      <td>Pubs and bars</td>\n",
       "      <td>Whitefield</td>\n",
       "    </tr>\n",
       "    <tr>\n",
       "      <th>51713</th>\n",
       "      <td>0</td>\n",
       "      <td>0</td>\n",
       "      <td>3.7</td>\n",
       "      <td>0</td>\n",
       "      <td>Bar</td>\n",
       "      <td>Not Available</td>\n",
       "      <td>[Finger Food]</td>\n",
       "      <td>600</td>\n",
       "      <td>Pubs and bars</td>\n",
       "      <td>Whitefield</td>\n",
       "    </tr>\n",
       "    <tr>\n",
       "      <th>51714</th>\n",
       "      <td>0</td>\n",
       "      <td>0</td>\n",
       "      <td>3.7</td>\n",
       "      <td>0</td>\n",
       "      <td>Bar</td>\n",
       "      <td>Not Available</td>\n",
       "      <td>[Finger Food]</td>\n",
       "      <td>2000</td>\n",
       "      <td>Pubs and bars</td>\n",
       "      <td>Whitefield</td>\n",
       "    </tr>\n",
       "    <tr>\n",
       "      <th>51715</th>\n",
       "      <td>0</td>\n",
       "      <td>1</td>\n",
       "      <td>4.3</td>\n",
       "      <td>236</td>\n",
       "      <td>Bar</td>\n",
       "      <td>Cocktails, Pizza, Buttermilk</td>\n",
       "      <td>[Finger Food]</td>\n",
       "      <td>2500</td>\n",
       "      <td>Pubs and bars</td>\n",
       "      <td>Whitefield</td>\n",
       "    </tr>\n",
       "    <tr>\n",
       "      <th>51716</th>\n",
       "      <td>0</td>\n",
       "      <td>0</td>\n",
       "      <td>3.4</td>\n",
       "      <td>13</td>\n",
       "      <td>Bar, Casual Dining</td>\n",
       "      <td>Not Available</td>\n",
       "      <td>[Finger Food, North Indian, Continental]</td>\n",
       "      <td>1500</td>\n",
       "      <td>Pubs and bars</td>\n",
       "      <td>Whitefield</td>\n",
       "    </tr>\n",
       "  </tbody>\n",
       "</table>\n",
       "<p>51717 rows × 10 columns</p>\n",
       "</div>"
      ],
      "text/plain": [
       "       online_order  book_table  rate  votes            rest_type  \\\n",
       "0                 1           1   4.1    775        Casual Dining   \n",
       "1                 1           0   4.1    787        Casual Dining   \n",
       "2                 1           0   3.8    918  Cafe, Casual Dining   \n",
       "3                 0           0   3.7     88          Quick Bites   \n",
       "4                 0           0   3.8    166        Casual Dining   \n",
       "...             ...         ...   ...    ...                  ...   \n",
       "51712             0           0   3.6     27                  Bar   \n",
       "51713             0           0   3.7      0                  Bar   \n",
       "51714             0           0   3.7      0                  Bar   \n",
       "51715             0           1   4.3    236                  Bar   \n",
       "51716             0           0   3.4     13   Bar, Casual Dining   \n",
       "\n",
       "                                              dish_liked  \\\n",
       "0      Pasta, Lunch Buffet, Masala Papad, Paneer Laja...   \n",
       "1      Momos, Lunch Buffet, Chocolate Nirvana, Thai G...   \n",
       "2      Churros, Cannelloni, Minestrone Soup, Hot Choc...   \n",
       "3                                            Masala Dosa   \n",
       "4                                    Panipuri, Gol Gappe   \n",
       "...                                                  ...   \n",
       "51712                                      Not Available   \n",
       "51713                                      Not Available   \n",
       "51714                                      Not Available   \n",
       "51715                       Cocktails, Pizza, Buttermilk   \n",
       "51716                                      Not Available   \n",
       "\n",
       "                                       cuisines  approx_costfor_two_people  \\\n",
       "0              [North Indian, Mughlai, Chinese]                        800   \n",
       "1                 [Chinese, North Indian, Thai]                        800   \n",
       "2                      [Cafe, Mexican, Italian]                        800   \n",
       "3                  [South Indian, North Indian]                        300   \n",
       "4                    [North Indian, Rajasthani]                        600   \n",
       "...                                         ...                        ...   \n",
       "51712                             [Continental]                       1500   \n",
       "51713                             [Finger Food]                        600   \n",
       "51714                             [Finger Food]                       2000   \n",
       "51715                             [Finger Food]                       2500   \n",
       "51716  [Finger Food, North Indian, Continental]                       1500   \n",
       "\n",
       "       listed_intype listed_incity  \n",
       "0             Buffet  Banashankari  \n",
       "1             Buffet  Banashankari  \n",
       "2             Buffet  Banashankari  \n",
       "3             Buffet  Banashankari  \n",
       "4             Buffet  Banashankari  \n",
       "...              ...           ...  \n",
       "51712  Pubs and bars    Whitefield  \n",
       "51713  Pubs and bars    Whitefield  \n",
       "51714  Pubs and bars    Whitefield  \n",
       "51715  Pubs and bars    Whitefield  \n",
       "51716  Pubs and bars    Whitefield  \n",
       "\n",
       "[51717 rows x 10 columns]"
      ]
     },
     "execution_count": 197,
     "metadata": {},
     "output_type": "execute_result"
    }
   ],
   "source": [
    "mcq_df"
   ]
  },
  {
   "cell_type": "code",
   "execution_count": 198,
   "id": "ca978e6e",
   "metadata": {},
   "outputs": [],
   "source": [
    "diversity_by_locality = mcq_df.groupby('listed_incity')['rest_type'].nunique()"
   ]
  },
  {
   "cell_type": "code",
   "execution_count": 199,
   "id": "bde3775d",
   "metadata": {},
   "outputs": [
    {
     "data": {
      "text/plain": [
       "listed_incity\n",
       "BTM                      62\n",
       "Banashankari             37\n",
       "Bannerghatta Road        47\n",
       "Basavanagudi             40\n",
       "Bellandur                49\n",
       "Brigade Road             61\n",
       "Brookefield              50\n",
       "Church Street            61\n",
       "Electronic City          35\n",
       "Frazer Town              51\n",
       "HSR                      50\n",
       "Indiranagar              56\n",
       "JP Nagar                 49\n",
       "Jayanagar                53\n",
       "Kalyan Nagar             42\n",
       "Kammanahalli             42\n",
       "Koramangala 4th Block    59\n",
       "Koramangala 5th Block    58\n",
       "Koramangala 6th Block    59\n",
       "Koramangala 7th Block    58\n",
       "Lavelle Road             59\n",
       "MG Road                  59\n",
       "Malleshwaram             47\n",
       "Marathahalli             44\n",
       "New BEL Road             35\n",
       "Old Airport Road         50\n",
       "Rajajinagar              46\n",
       "Residency Road           57\n",
       "Sarjapur Road            45\n",
       "Whitefield               54\n",
       "Name: rest_type, dtype: int64"
      ]
     },
     "execution_count": 199,
     "metadata": {},
     "output_type": "execute_result"
    }
   ],
   "source": [
    "diversity_by_locality"
   ]
  },
  {
   "cell_type": "code",
   "execution_count": 200,
   "id": "02800401",
   "metadata": {},
   "outputs": [],
   "source": [
    "# Get the locality with the highest diversity\n",
    "top_diverse_locality = diversity_by_locality.idxmax()\n",
    "diverse_count = diversity_by_locality.max()"
   ]
  },
  {
   "cell_type": "code",
   "execution_count": 201,
   "id": "223ce39c",
   "metadata": {},
   "outputs": [
    {
     "name": "stdout",
     "output_type": "stream",
     "text": [
      "Locality with highest restaurant type diversity: BTM (62 types)\n"
     ]
    }
   ],
   "source": [
    "print(f\"Locality with highest restaurant type diversity: {top_diverse_locality} ({diverse_count} types)\")"
   ]
  },
  {
   "cell_type": "markdown",
   "id": "a325b0dd",
   "metadata": {},
   "source": [
    "### Q10: What's the average cost difference between buffet and delivery restaurants?"
   ]
  },
  {
   "cell_type": "code",
   "execution_count": 203,
   "id": "665c9b0c",
   "metadata": {},
   "outputs": [],
   "source": [
    "mcq_df['rest_type'] = mcq_df['rest_type'].str.strip()"
   ]
  },
  {
   "cell_type": "code",
   "execution_count": 204,
   "id": "1837dff1",
   "metadata": {},
   "outputs": [],
   "source": [
    "buffet_df = mcq_df[mcq_df['rest_type'].str.contains('Buffet', case=False)]\n",
    "delivery_df = mcq_df[mcq_df['rest_type'].str.contains('Delivery', case=False)]"
   ]
  },
  {
   "cell_type": "code",
   "execution_count": 205,
   "id": "ba2fa674",
   "metadata": {},
   "outputs": [],
   "source": [
    "buffet_avg = buffet_df['approx_costfor_two_people'].mean()\n",
    "delivery_avg = delivery_df['approx_costfor_two_people'].mean()"
   ]
  },
  {
   "cell_type": "code",
   "execution_count": 206,
   "id": "87139dd2",
   "metadata": {},
   "outputs": [],
   "source": [
    "cost_diff = buffet_avg - delivery_avg"
   ]
  },
  {
   "cell_type": "code",
   "execution_count": 207,
   "id": "fc7766d1",
   "metadata": {},
   "outputs": [
    {
     "name": "stdout",
     "output_type": "stream",
     "text": [
      "Avg Buffet Cost: ₹nan\n",
      "Avg Delivery Cost: ₹414.92\n",
      "Average cost difference (Buffet - Delivery): ₹nan\n"
     ]
    }
   ],
   "source": [
    "print(f\"Avg Buffet Cost: ₹{buffet_avg:.2f}\")\n",
    "print(f\"Avg Delivery Cost: ₹{delivery_avg:.2f}\")\n",
    "print(f\"Average cost difference (Buffet - Delivery): ₹{cost_diff:.2f}\")"
   ]
  },
  {
   "cell_type": "markdown",
   "id": "ad011e75",
   "metadata": {},
   "source": [
    "### Q11: What is the maximum number of votes received by any restaurant with online ordering?"
   ]
  },
  {
   "cell_type": "code",
   "execution_count": 208,
   "id": "d485500a",
   "metadata": {},
   "outputs": [],
   "source": [
    "online_df = mcq_df[mcq_df['online_order'] == 1]"
   ]
  },
  {
   "cell_type": "code",
   "execution_count": 209,
   "id": "bbbe114a",
   "metadata": {},
   "outputs": [],
   "source": [
    "max_votes = online_df['votes'].max()"
   ]
  },
  {
   "cell_type": "code",
   "execution_count": 210,
   "id": "9bdebe81",
   "metadata": {},
   "outputs": [
    {
     "name": "stdout",
     "output_type": "stream",
     "text": [
      "Maximum votes received by any restaurant with online ordering: 16832\n"
     ]
    }
   ],
   "source": [
    "print(f\"Maximum votes received by any restaurant with online ordering: {int(max_votes)}\")"
   ]
  },
  {
   "cell_type": "markdown",
   "id": "c11316f8",
   "metadata": {},
   "source": [
    "### Q12: What is the average rating of restaurants that serve both North Indian and Chinese cuisines?"
   ]
  },
  {
   "cell_type": "code",
   "execution_count": 211,
   "id": "57f8d39f",
   "metadata": {},
   "outputs": [],
   "source": [
    "restaurant_cuisines = df_exploded.groupby(df_exploded.index)['cuisines'].apply(set)"
   ]
  },
  {
   "cell_type": "code",
   "execution_count": 212,
   "id": "945bc825",
   "metadata": {},
   "outputs": [
    {
     "data": {
      "text/plain": [
       "0                {Chinese, Mughlai, North Indian}\n",
       "1                   {Thai, North Indian, Chinese}\n",
       "2                        {Cafe, Mexican, Italian}\n",
       "3                    {South Indian, North Indian}\n",
       "4                      {Rajasthani, North Indian}\n",
       "                           ...                   \n",
       "51712                               {Continental}\n",
       "51713                               {Finger Food}\n",
       "51714                               {Finger Food}\n",
       "51715                               {Finger Food}\n",
       "51716    {Finger Food, Continental, North Indian}\n",
       "Name: cuisines, Length: 51717, dtype: object"
      ]
     },
     "execution_count": 212,
     "metadata": {},
     "output_type": "execute_result"
    }
   ],
   "source": [
    "restaurant_cuisines"
   ]
  },
  {
   "cell_type": "code",
   "execution_count": 213,
   "id": "99586b9f",
   "metadata": {},
   "outputs": [],
   "source": [
    "both_cuisines_mask = restaurant_cuisines.apply(lambda x: {'North Indian', 'Chinese'}.issubset(x))"
   ]
  },
  {
   "cell_type": "code",
   "execution_count": 214,
   "id": "3afa3aa7",
   "metadata": {},
   "outputs": [
    {
     "data": {
      "text/plain": [
       "0         True\n",
       "1         True\n",
       "2        False\n",
       "3        False\n",
       "4        False\n",
       "         ...  \n",
       "51712    False\n",
       "51713    False\n",
       "51714    False\n",
       "51715    False\n",
       "51716    False\n",
       "Name: cuisines, Length: 51717, dtype: bool"
      ]
     },
     "execution_count": 214,
     "metadata": {},
     "output_type": "execute_result"
    }
   ],
   "source": [
    "both_cuisines_mask"
   ]
  },
  {
   "cell_type": "code",
   "execution_count": 215,
   "id": "c5cb9aa1",
   "metadata": {},
   "outputs": [],
   "source": [
    "restaurants_with_both = both_cuisines_mask[both_cuisines_mask].index"
   ]
  },
  {
   "cell_type": "code",
   "execution_count": 216,
   "id": "251f7c28",
   "metadata": {},
   "outputs": [
    {
     "data": {
      "text/plain": [
       "Index([    0,     1,     6,    29,    31,    36,    38,    46,    47,    49,\n",
       "       ...\n",
       "       51662, 51665, 51670, 51673, 51677, 51694, 51701, 51704, 51708, 51711],\n",
       "      dtype='int64', length=11394)"
      ]
     },
     "execution_count": 216,
     "metadata": {},
     "output_type": "execute_result"
    }
   ],
   "source": [
    "restaurants_with_both"
   ]
  },
  {
   "cell_type": "code",
   "execution_count": 217,
   "id": "8c255fcc",
   "metadata": {},
   "outputs": [],
   "source": [
    "both_df = df.loc[restaurants_with_both]"
   ]
  },
  {
   "cell_type": "code",
   "execution_count": 218,
   "id": "b97ad56d",
   "metadata": {},
   "outputs": [
    {
     "data": {
      "text/html": [
       "<div>\n",
       "<style scoped>\n",
       "    .dataframe tbody tr th:only-of-type {\n",
       "        vertical-align: middle;\n",
       "    }\n",
       "\n",
       "    .dataframe tbody tr th {\n",
       "        vertical-align: top;\n",
       "    }\n",
       "\n",
       "    .dataframe thead th {\n",
       "        text-align: right;\n",
       "    }\n",
       "</style>\n",
       "<table border=\"1\" class=\"dataframe\">\n",
       "  <thead>\n",
       "    <tr style=\"text-align: right;\">\n",
       "      <th></th>\n",
       "      <th>online_order</th>\n",
       "      <th>book_table</th>\n",
       "      <th>rate</th>\n",
       "      <th>votes</th>\n",
       "      <th>rest_type</th>\n",
       "      <th>dish_liked</th>\n",
       "      <th>cuisines</th>\n",
       "      <th>approx_costfor_two_people</th>\n",
       "      <th>listed_intype</th>\n",
       "      <th>listed_incity</th>\n",
       "    </tr>\n",
       "  </thead>\n",
       "  <tbody>\n",
       "    <tr>\n",
       "      <th>0</th>\n",
       "      <td>1</td>\n",
       "      <td>1</td>\n",
       "      <td>4.1</td>\n",
       "      <td>775</td>\n",
       "      <td>Casual Dining</td>\n",
       "      <td>Pasta, Lunch Buffet, Masala Papad, Paneer Laja...</td>\n",
       "      <td>North Indian, Mughlai, Chinese</td>\n",
       "      <td>800</td>\n",
       "      <td>Buffet</td>\n",
       "      <td>Banashankari</td>\n",
       "    </tr>\n",
       "    <tr>\n",
       "      <th>1</th>\n",
       "      <td>1</td>\n",
       "      <td>0</td>\n",
       "      <td>4.1</td>\n",
       "      <td>787</td>\n",
       "      <td>Casual Dining</td>\n",
       "      <td>Momos, Lunch Buffet, Chocolate Nirvana, Thai G...</td>\n",
       "      <td>Chinese, North Indian, Thai</td>\n",
       "      <td>800</td>\n",
       "      <td>Buffet</td>\n",
       "      <td>Banashankari</td>\n",
       "    </tr>\n",
       "    <tr>\n",
       "      <th>6</th>\n",
       "      <td>0</td>\n",
       "      <td>0</td>\n",
       "      <td>3.6</td>\n",
       "      <td>8</td>\n",
       "      <td>Casual Dining</td>\n",
       "      <td>Not Available</td>\n",
       "      <td>North Indian, South Indian, Andhra, Chinese</td>\n",
       "      <td>800</td>\n",
       "      <td>Buffet</td>\n",
       "      <td>Banashankari</td>\n",
       "    </tr>\n",
       "    <tr>\n",
       "      <th>29</th>\n",
       "      <td>0</td>\n",
       "      <td>0</td>\n",
       "      <td>3.8</td>\n",
       "      <td>148</td>\n",
       "      <td>Casual Dining, Cafe</td>\n",
       "      <td>Paratha, Sandwich, Chilli Idli, Noodles, Sandw...</td>\n",
       "      <td>North Indian, Cafe, Chinese, Fast Food</td>\n",
       "      <td>550</td>\n",
       "      <td>Cafes</td>\n",
       "      <td>Banashankari</td>\n",
       "    </tr>\n",
       "    <tr>\n",
       "      <th>31</th>\n",
       "      <td>1</td>\n",
       "      <td>0</td>\n",
       "      <td>2.8</td>\n",
       "      <td>506</td>\n",
       "      <td>Quick Bites</td>\n",
       "      <td>Burgers, Lassi, Chicken Grill, Naan, Momos, Ch...</td>\n",
       "      <td>North Indian, Fast Food, Chinese, Burger</td>\n",
       "      <td>500</td>\n",
       "      <td>Delivery</td>\n",
       "      <td>Banashankari</td>\n",
       "    </tr>\n",
       "    <tr>\n",
       "      <th>...</th>\n",
       "      <td>...</td>\n",
       "      <td>...</td>\n",
       "      <td>...</td>\n",
       "      <td>...</td>\n",
       "      <td>...</td>\n",
       "      <td>...</td>\n",
       "      <td>...</td>\n",
       "      <td>...</td>\n",
       "      <td>...</td>\n",
       "      <td>...</td>\n",
       "    </tr>\n",
       "    <tr>\n",
       "      <th>51694</th>\n",
       "      <td>1</td>\n",
       "      <td>0</td>\n",
       "      <td>4.1</td>\n",
       "      <td>2773</td>\n",
       "      <td>Pub</td>\n",
       "      <td>Cocktails, Chicken Kebab, Murgh Ghee Roast, Vi...</td>\n",
       "      <td>American, North Indian, Chinese, Finger Food, ...</td>\n",
       "      <td>1500</td>\n",
       "      <td>Pubs and bars</td>\n",
       "      <td>Whitefield</td>\n",
       "    </tr>\n",
       "    <tr>\n",
       "      <th>51701</th>\n",
       "      <td>1</td>\n",
       "      <td>1</td>\n",
       "      <td>4.1</td>\n",
       "      <td>673</td>\n",
       "      <td>Pub</td>\n",
       "      <td>Cocktails, Wheat Beer, Bruschettas, Pasta, Bur...</td>\n",
       "      <td>Finger Food, North Indian, Chinese, Italian</td>\n",
       "      <td>1400</td>\n",
       "      <td>Pubs and bars</td>\n",
       "      <td>Whitefield</td>\n",
       "    </tr>\n",
       "    <tr>\n",
       "      <th>51704</th>\n",
       "      <td>0</td>\n",
       "      <td>1</td>\n",
       "      <td>4.0</td>\n",
       "      <td>189</td>\n",
       "      <td>Casual Dining, Pub</td>\n",
       "      <td>Pizza, Beer</td>\n",
       "      <td>North Indian, Pizza, Chinese</td>\n",
       "      <td>1500</td>\n",
       "      <td>Pubs and bars</td>\n",
       "      <td>Whitefield</td>\n",
       "    </tr>\n",
       "    <tr>\n",
       "      <th>51708</th>\n",
       "      <td>0</td>\n",
       "      <td>0</td>\n",
       "      <td>2.8</td>\n",
       "      <td>161</td>\n",
       "      <td>Casual Dining, Bar</td>\n",
       "      <td>Salads, Coffee, Breakfast Buffet, Halwa, Chick...</td>\n",
       "      <td>Chinese, Continental, North Indian</td>\n",
       "      <td>1200</td>\n",
       "      <td>Pubs and bars</td>\n",
       "      <td>Whitefield</td>\n",
       "    </tr>\n",
       "    <tr>\n",
       "      <th>51711</th>\n",
       "      <td>0</td>\n",
       "      <td>0</td>\n",
       "      <td>2.5</td>\n",
       "      <td>81</td>\n",
       "      <td>Casual Dining, Bar</td>\n",
       "      <td>Biryani, Andhra Meal</td>\n",
       "      <td>Andhra, South Indian, Chinese, North Indian</td>\n",
       "      <td>800</td>\n",
       "      <td>Pubs and bars</td>\n",
       "      <td>Whitefield</td>\n",
       "    </tr>\n",
       "  </tbody>\n",
       "</table>\n",
       "<p>11394 rows × 10 columns</p>\n",
       "</div>"
      ],
      "text/plain": [
       "       online_order  book_table  rate  votes            rest_type  \\\n",
       "0                 1           1   4.1    775        Casual Dining   \n",
       "1                 1           0   4.1    787        Casual Dining   \n",
       "6                 0           0   3.6      8        Casual Dining   \n",
       "29                0           0   3.8    148  Casual Dining, Cafe   \n",
       "31                1           0   2.8    506          Quick Bites   \n",
       "...             ...         ...   ...    ...                  ...   \n",
       "51694             1           0   4.1   2773                  Pub   \n",
       "51701             1           1   4.1    673                  Pub   \n",
       "51704             0           1   4.0    189   Casual Dining, Pub   \n",
       "51708             0           0   2.8    161   Casual Dining, Bar   \n",
       "51711             0           0   2.5     81   Casual Dining, Bar   \n",
       "\n",
       "                                              dish_liked  \\\n",
       "0      Pasta, Lunch Buffet, Masala Papad, Paneer Laja...   \n",
       "1      Momos, Lunch Buffet, Chocolate Nirvana, Thai G...   \n",
       "6                                          Not Available   \n",
       "29     Paratha, Sandwich, Chilli Idli, Noodles, Sandw...   \n",
       "31     Burgers, Lassi, Chicken Grill, Naan, Momos, Ch...   \n",
       "...                                                  ...   \n",
       "51694  Cocktails, Chicken Kebab, Murgh Ghee Roast, Vi...   \n",
       "51701  Cocktails, Wheat Beer, Bruschettas, Pasta, Bur...   \n",
       "51704                                        Pizza, Beer   \n",
       "51708  Salads, Coffee, Breakfast Buffet, Halwa, Chick...   \n",
       "51711                               Biryani, Andhra Meal   \n",
       "\n",
       "                                                cuisines  \\\n",
       "0                         North Indian, Mughlai, Chinese   \n",
       "1                            Chinese, North Indian, Thai   \n",
       "6            North Indian, South Indian, Andhra, Chinese   \n",
       "29                North Indian, Cafe, Chinese, Fast Food   \n",
       "31              North Indian, Fast Food, Chinese, Burger   \n",
       "...                                                  ...   \n",
       "51694  American, North Indian, Chinese, Finger Food, ...   \n",
       "51701        Finger Food, North Indian, Chinese, Italian   \n",
       "51704                       North Indian, Pizza, Chinese   \n",
       "51708                 Chinese, Continental, North Indian   \n",
       "51711        Andhra, South Indian, Chinese, North Indian   \n",
       "\n",
       "       approx_costfor_two_people  listed_intype listed_incity  \n",
       "0                            800         Buffet  Banashankari  \n",
       "1                            800         Buffet  Banashankari  \n",
       "6                            800         Buffet  Banashankari  \n",
       "29                           550          Cafes  Banashankari  \n",
       "31                           500       Delivery  Banashankari  \n",
       "...                          ...            ...           ...  \n",
       "51694                       1500  Pubs and bars    Whitefield  \n",
       "51701                       1400  Pubs and bars    Whitefield  \n",
       "51704                       1500  Pubs and bars    Whitefield  \n",
       "51708                       1200  Pubs and bars    Whitefield  \n",
       "51711                        800  Pubs and bars    Whitefield  \n",
       "\n",
       "[11394 rows x 10 columns]"
      ]
     },
     "execution_count": 218,
     "metadata": {},
     "output_type": "execute_result"
    }
   ],
   "source": [
    "both_df"
   ]
  },
  {
   "cell_type": "code",
   "execution_count": 219,
   "id": "324e2e84",
   "metadata": {},
   "outputs": [],
   "source": [
    "avg_rating = both_df['rate'].mean()"
   ]
  },
  {
   "cell_type": "code",
   "execution_count": 220,
   "id": "209f6208",
   "metadata": {},
   "outputs": [
    {
     "name": "stdout",
     "output_type": "stream",
     "text": [
      "Average rating of restaurants serving both North Indian and Chinese cuisines: 3.59\n"
     ]
    }
   ],
   "source": [
    "print(f\"Average rating of restaurants serving both North Indian and Chinese cuisines: {avg_rating:.2f}\")"
   ]
  },
  {
   "cell_type": "markdown",
   "id": "7702cb43",
   "metadata": {},
   "source": [
    "### Q13: What is the most profitable area for Zomato based on potential revenue estimation?"
   ]
  },
  {
   "cell_type": "code",
   "execution_count": 223,
   "id": "7ad6a824",
   "metadata": {},
   "outputs": [],
   "source": [
    "df_online = mcq_df[mcq_df['online_order'] == 1]"
   ]
  },
  {
   "cell_type": "code",
   "execution_count": 224,
   "id": "ce5cabf0",
   "metadata": {},
   "outputs": [],
   "source": [
    "area_stats = df_online.groupby('listed_incity').agg({\n",
    "    'rate': 'mean',                     # Average rating\n",
    "    'votes': 'sum',                     # Total votes (popularity)\n",
    "    'approx_costfor_two_people': 'mean', # Average cost per order\n",
    "    'listed_incity': 'count'            # Number of restaurants\n",
    "}).rename(columns={'listed_incity': 'restaurant_count'})"
   ]
  },
  {
   "cell_type": "code",
   "execution_count": 225,
   "id": "b0954af4",
   "metadata": {},
   "outputs": [],
   "source": [
    "area_stats['normalized_rate'] = area_stats['rate'] / area_stats['rate'].max()\n",
    "area_stats['normalized_votes'] = area_stats['votes'] / area_stats['votes'].max()\n",
    "area_stats['normalized_cost'] = area_stats['approx_costfor_two_people'] / area_stats['approx_costfor_two_people'].max()"
   ]
  },
  {
   "cell_type": "code",
   "execution_count": 226,
   "id": "79b53d0d",
   "metadata": {},
   "outputs": [],
   "source": [
    "area_stats['revenue_score'] = (\n",
    "    (1/3) * area_stats['normalized_rate'] +\n",
    "    (1/3) * area_stats['normalized_votes'] +\n",
    "    (1/3) * area_stats['normalized_cost']\n",
    ")"
   ]
  },
  {
   "cell_type": "code",
   "execution_count": 227,
   "id": "35e2a9c1",
   "metadata": {},
   "outputs": [
    {
     "name": "stderr",
     "output_type": "stream",
     "text": [
      "C:\\Users\\omkar\\AppData\\Local\\Temp\\ipykernel_13508\\568744266.py:1: SettingWithCopyWarning: \n",
      "A value is trying to be set on a copy of a slice from a DataFrame.\n",
      "Try using .loc[row_indexer,col_indexer] = value instead\n",
      "\n",
      "See the caveats in the documentation: https://pandas.pydata.org/pandas-docs/stable/user_guide/indexing.html#returning-a-view-versus-a-copy\n",
      "  df_online['has_north_indian'] = df_online['cuisines'].str.contains('North Indian', case=False, na=False)\n",
      "C:\\Users\\omkar\\AppData\\Local\\Temp\\ipykernel_13508\\568744266.py:2: SettingWithCopyWarning: \n",
      "A value is trying to be set on a copy of a slice from a DataFrame.\n",
      "Try using .loc[row_indexer,col_indexer] = value instead\n",
      "\n",
      "See the caveats in the documentation: https://pandas.pydata.org/pandas-docs/stable/user_guide/indexing.html#returning-a-view-versus-a-copy\n",
      "  df_online['has_chinese'] = df_online['cuisines'].str.contains('Chinese', case=False, na=False)\n"
     ]
    }
   ],
   "source": [
    "df_online['has_north_indian'] = df_online['cuisines'].str.contains('North Indian', case=False, na=False)\n",
    "df_online['has_chinese'] = df_online['cuisines'].str.contains('Chinese', case=False, na=False)"
   ]
  },
  {
   "cell_type": "code",
   "execution_count": 228,
   "id": "86b79501",
   "metadata": {},
   "outputs": [],
   "source": [
    "cuisine_stats = df_online.groupby('listed_incity').agg({\n",
    "    'has_north_indian': 'sum',\n",
    "    'has_chinese': 'sum'\n",
    "}).rename(columns={\n",
    "    'has_north_indian': 'north_indian_count',\n",
    "    'has_chinese': 'chinese_count'\n",
    "})"
   ]
  },
  {
   "cell_type": "code",
   "execution_count": 229,
   "id": "26fa77cd",
   "metadata": {},
   "outputs": [
    {
     "name": "stdout",
     "output_type": "stream",
     "text": [
      "Most Profitable Area for Zomato Based on Revenue Estimation:\n",
      "                           rate   votes  approx_costfor_two_people  \\\n",
      "listed_incity                                                        \n",
      "Koramangala 7th Block  3.769828  614571                 509.977815   \n",
      "\n",
      "                       restaurant_count  north_indian_count  chinese_count  \\\n",
      "listed_incity                                                                \n",
      "Koramangala 7th Block              1803                   0              0   \n",
      "\n",
      "                       adjusted_revenue_score  \n",
      "listed_incity                                  \n",
      "Koramangala 7th Block                0.904285  \n"
     ]
    }
   ],
   "source": [
    "area_stats = area_stats.merge(cuisine_stats, left_index=True, right_index=True, how='left')\n",
    "\n",
    "# Calculate cuisine boost (proportion of restaurants with popular cuisines)\n",
    "area_stats['cuisine_boost'] = (area_stats['north_indian_count'] + area_stats['chinese_count']) / area_stats['restaurant_count']\n",
    "# Adjust revenue score with cuisine boost (10% boost per cuisine proportion)\n",
    "area_stats['adjusted_revenue_score'] = area_stats['revenue_score'] * (1 + 0.1 * area_stats['cuisine_boost'])\n",
    "\n",
    "# Step 6: Identify the most profitable area\n",
    "most_profitable_area = area_stats.sort_values('adjusted_revenue_score', ascending=False).head(1)\n",
    "\n",
    "# Display results\n",
    "print(\"Most Profitable Area for Zomato Based on Revenue Estimation:\")\n",
    "print(most_profitable_area[['rate', 'votes', 'approx_costfor_two_people', 'restaurant_count', \n",
    "                           'north_indian_count', 'chinese_count', 'adjusted_revenue_score']])"
   ]
  },
  {
   "cell_type": "markdown",
   "id": "68ad77db",
   "metadata": {},
   "source": [
    "### Q14: If Zomato wants to reduce customer complaints, which restaurant type should they focus on?"
   ]
  },
  {
   "cell_type": "code",
   "execution_count": 230,
   "id": "1983ca13",
   "metadata": {},
   "outputs": [],
   "source": [
    "df_online = df[df['online_order'] == 1]"
   ]
  },
  {
   "cell_type": "code",
   "execution_count": 231,
   "id": "62c80ddf",
   "metadata": {},
   "outputs": [],
   "source": [
    "rest_type_stats = df_online.groupby('rest_type').agg({\n",
    "    'rate': 'mean',          # Average rating\n",
    "    'votes': 'sum',          # Total votes (popularity)\n",
    "    'rest_type': 'count'     # Number of restaurants\n",
    "}).rename(columns={'rest_type': 'restaurant_count'})"
   ]
  },
  {
   "cell_type": "code",
   "execution_count": 232,
   "id": "af99dbbf",
   "metadata": {},
   "outputs": [],
   "source": [
    "rest_type_stats = rest_type_stats[(rest_type_stats['restaurant_count'] >= 10) & (rest_type_stats['votes'] >= 100)]"
   ]
  },
  {
   "cell_type": "code",
   "execution_count": 233,
   "id": "f8fcda3b",
   "metadata": {},
   "outputs": [],
   "source": [
    "problematic_rest_type = rest_type_stats.sort_values('rate', ascending=True).head(1)"
   ]
  },
  {
   "cell_type": "code",
   "execution_count": 234,
   "id": "2225e6e5",
   "metadata": {},
   "outputs": [
    {
     "name": "stdout",
     "output_type": "stream",
     "text": [
      "Restaurant Type to Focus on for Reducing Customer Complaints:\n",
      "                         rate  votes  restaurant_count\n",
      "rest_type                                             \n",
      "Quick Bites, Food Court   3.3   2228                16\n"
     ]
    }
   ],
   "source": [
    "print(\"Restaurant Type to Focus on for Reducing Customer Complaints:\")\n",
    "print(problematic_rest_type[['rate', 'votes', 'restaurant_count']])"
   ]
  },
  {
   "cell_type": "markdown",
   "id": "be5564ad",
   "metadata": {},
   "source": [
    "### Q15: In which area should Zomato invest by considering high rating (rate > 4.2), high number of votes (> 500) and including online orders?"
   ]
  },
  {
   "cell_type": "code",
   "execution_count": 236,
   "id": "d257a696",
   "metadata": {},
   "outputs": [],
   "source": [
    "df_filtered = df[(df['online_order'] == 1) & (df['rate'] > 4.2) & (df['votes'] > 500)]"
   ]
  },
  {
   "cell_type": "code",
   "execution_count": 237,
   "id": "8b1bb172",
   "metadata": {},
   "outputs": [],
   "source": [
    "area_stats = df_filtered.groupby('listed_incity').agg({\n",
    "    'listed_incity': 'count',  # Count of qualifying restaurants\n",
    "    'rate': 'mean',            # Average rating\n",
    "    'votes': 'sum',            # Total votes\n",
    "    'approx_costfor_two_people': 'mean'  # Average cost\n",
    "}).rename(columns={'listed_incity': 'qualifying_restaurants'})"
   ]
  },
  {
   "cell_type": "code",
   "execution_count": 238,
   "id": "b77bcf51",
   "metadata": {},
   "outputs": [],
   "source": [
    "top_area = area_stats.sort_values('qualifying_restaurants', ascending=False).head(1)"
   ]
  },
  {
   "cell_type": "code",
   "execution_count": 239,
   "id": "8d1aa33a",
   "metadata": {},
   "outputs": [
    {
     "name": "stdout",
     "output_type": "stream",
     "text": [
      "Best Area for Zomato Investment (High Ratings, High Votes, Online Orders):\n",
      "               qualifying_restaurants      rate   votes  \\\n",
      "listed_incity                                             \n",
      "MG Road                            97  4.402062  181584   \n",
      "\n",
      "               approx_costfor_two_people  \n",
      "listed_incity                             \n",
      "MG Road                      1268.041237  \n"
     ]
    }
   ],
   "source": [
    "print(\"Best Area for Zomato Investment (High Ratings, High Votes, Online Orders):\")\n",
    "print(top_area[['qualifying_restaurants', 'rate', 'votes', 'approx_costfor_two_people']])"
   ]
  },
  {
   "cell_type": "code",
   "execution_count": null,
   "id": "f36ef94b",
   "metadata": {},
   "outputs": [],
   "source": []
  }
 ],
 "metadata": {
  "kernelspec": {
   "display_name": "Python 3 (ipykernel)",
   "language": "python",
   "name": "python3"
  },
  "language_info": {
   "codemirror_mode": {
    "name": "ipython",
    "version": 3
   },
   "file_extension": ".py",
   "mimetype": "text/x-python",
   "name": "python",
   "nbconvert_exporter": "python",
   "pygments_lexer": "ipython3",
   "version": "3.9.12"
  }
 },
 "nbformat": 4,
 "nbformat_minor": 5
}
